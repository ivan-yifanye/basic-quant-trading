{
 "cells": [
  {
   "cell_type": "code",
   "execution_count": 1,
   "metadata": {},
   "outputs": [],
   "source": [
    "# construct 'PairTrading' class\n",
    "# object-oriented program"
   ]
  },
  {
   "cell_type": "code",
   "execution_count": 2,
   "metadata": {},
   "outputs": [],
   "source": [
    "import re\n",
    "import pandas as pd\n",
    "import numpy as np\n",
    "from arch.unitroot import ADF\n",
    "import statsmodels.api as sm"
   ]
  },
  {
   "cell_type": "code",
   "execution_count": 3,
   "metadata": {},
   "outputs": [],
   "source": [
    "class PairTrading:\n",
    "    def SSD(self,priceX,priceY):\n",
    "        if priceX is None or priceY is None:\n",
    "            print('lack price series')\n",
    "        returnX=(priceX-priceX.shift(1))/priceX.shift(1)[1:]\n",
    "        returnY=(priceY-priceY.shift(1))/priceY.shift(1)[1:]\n",
    "        standardX=(1+returnX).cumprod()\n",
    "        standardY=(1+returnY).cumprod()\n",
    "        SSD=np.sum((standardY-standardX)**2)\n",
    "        return(SSD)\n",
    "    def SSDSpread(self,priceX,priceY):\n",
    "        if priceX is None or priceY is None:\n",
    "            print('lack price series')\n",
    "        retx=(priceX-priceX.shift(1))/priceX.shift(1)[1:]\n",
    "        rety=(priceY-priceY.shift(1))/priceY.shift(1)[1:]\n",
    "        standardX=(1+retx).cumprod()\n",
    "        standardY=(1+rety).cumprod()\n",
    "        spread=standardY-standardX\n",
    "        return(spread)\n",
    "    def cointegration(self,priceX,priceY):\n",
    "        if priceX is None or priceY is None:\n",
    "            print('lack price series')\n",
    "        priceX=np.log(priceX)\n",
    "        priceY=np.log(priceY)\n",
    "        results=sm.OLS(priceY,sm.add_constant(priceX)).fit()\n",
    "        resid=results.resid\n",
    "        adfSpread=ADF(resid)\n",
    "        if adfSpread.pvalue>=0.05:\n",
    "            print('''Trading price do not have cointegration relationship.\n",
    "            P-value of ADF test: %f\n",
    "            Coefficients of regression:\n",
    "            Intercept: %f\n",
    "            Beta: %f\n",
    "            '''%(adfSpread.pvalue,results.params[0],results.params[1]))\n",
    "            return(None)\n",
    "        else:\n",
    "            print('''Trading price have cointegration relationship.\n",
    "            P-value of ADF test: %f\n",
    "            Coefficients of regression:\n",
    "            Intercept: %f\n",
    "            Beta: %f\n",
    "            '''%(adfSpread.pvalue,results.params[0],results.params[1]))\n",
    "            return(results.params[0],results.params[1])\n",
    "    def CointegrationSpread(self,priceX,priceY,formPeriod,tradePeriod):\n",
    "        if priceX is None or priceY is None:\n",
    "            print('lack price series')\n",
    "        if not (re.fullmatch('\\d{4}-\\d{2}-\\d{2}:\\d{4}-\\d{2}-\\d{2}',formPeriod)\n",
    "                or re.fullmatch('\\d{4}-\\d{2}-\\d{2}:\\d{4}-\\d{2}-\\d{2}',tradePeriod)):\n",
    "            print('format error of formation period.')\n",
    "        formX=priceX[formPeriod.split(':')[0]:formPeriod.split(':')[1]]\n",
    "        formY=priceY[formPeriod.split(':')[0]:formPeriod.split(':')[1]]\n",
    "        coefficients=self.cointegration(formX,formY)\n",
    "        if coefficients is None:\n",
    "                print('no cointegration relationship, can not cointegration.')\n",
    "        else:\n",
    "            spread=(np.log(priceY[tradePeriod.split(':')[0]:tradePeriod.split(':')[1]])\n",
    "                    -coefficients[0]-coefficients[1]*np.log(priceX[tradePeriod.split(':')[0]:tradePeriod.split(':')[1]]))\n",
    "            return(spread)\n",
    "    def calBound(self,priceX,priceY,method,formPeriod,width=1.5):\n",
    "        if not (re.fullmatch('\\d{4}-\\d{2}-\\d{2}:\\d{4}-\\d{2}-\\d{2}',formPeriod)\n",
    "                or re.fullmatch('\\d{4}-\\d{2}-\\d{2}:\\d{4}-\\d{2}-\\d{2}',tradePeriod)):\n",
    "            print('format error of formation period.')\n",
    "        if method=='SSD':\n",
    "            spread=self.SSDSpread(priceX[formPeriod.split(':')[0]:formPeriod.split(':')[1]],\n",
    "                                  priceY[formPeriod.split(':')[0]:formPeriod.split(':')[1]])            \n",
    "            mu=np.mean(spread)\n",
    "            sd=np.std(spread)\n",
    "            UpperBound=mu+width*sd\n",
    "            LowerBound=mu-width*sd\n",
    "            return(UpperBound,LowerBound)\n",
    "        elif method=='Cointegration':\n",
    "            spread=self.CointegrationSpread(priceX,priceY,formPeriod,formPeriod)\n",
    "            mu=np.mean(spread)\n",
    "            sd=np.std(spread)\n",
    "            UpperBound=mu+width*sd\n",
    "            LowerBound=mu-width*sd\n",
    "            return(UpperBound,LowerBound)\n",
    "        else:\n",
    "            print('does not exist. please choose \"SSD\" or \"Cointegration\".')"
   ]
  },
  {
   "cell_type": "code",
   "execution_count": 14,
   "metadata": {},
   "outputs": [],
   "source": [
    "sh=pd.read_csv('sh50p.csv',index_col='Trddt')\n",
    "sh.index=pd.to_datetime(sh.index)\n",
    "formPeriod='2014-01-01:2015-01-01'\n",
    "tradePeriod='2015-01-01:2015-06-30'\n",
    "priceA=sh['601988']\n",
    "priceB=sh['600000']\n",
    "priceAf=priceA[formPeriod.split(':')[0]:formPeriod.split(':')[1]]\n",
    "priceBf=priceB[formPeriod.split(':')[0]:formPeriod.split(':')[1]]\n",
    "priceAt=priceA[tradePeriod.split(':')[0]:tradePeriod.split(':')[1]]\n",
    "priceBt=priceB[tradePeriod.split(':')[0]:tradePeriod.split(':')[1]]\n",
    "pt=PairTrading()"
   ]
  },
  {
   "cell_type": "code",
   "execution_count": 15,
   "metadata": {},
   "outputs": [
    {
     "data": {
      "text/plain": [
       "0.47481704588389073"
      ]
     },
     "execution_count": 15,
     "metadata": {},
     "output_type": "execute_result"
    }
   ],
   "source": [
    "SSD=pt.SSD(priceAf,priceBf)\n",
    "SSD"
   ]
  },
  {
   "cell_type": "code",
   "execution_count": 16,
   "metadata": {},
   "outputs": [
    {
     "data": {
      "text/plain": [
       "count    244.000000\n",
       "mean       0.020185\n",
       "std        0.039305\n",
       "min       -0.042896\n",
       "25%       -0.009463\n",
       "50%        0.012243\n",
       "75%        0.041418\n",
       "max        0.171011\n",
       "dtype: float64"
      ]
     },
     "execution_count": 16,
     "metadata": {},
     "output_type": "execute_result"
    }
   ],
   "source": [
    "SSDspread=pt.SSDSpread(priceAf,priceBf)\n",
    "SSDspread.describe()"
   ]
  },
  {
   "cell_type": "code",
   "execution_count": 17,
   "metadata": {},
   "outputs": [
    {
     "data": {
      "text/plain": [
       "Trddt\n",
       "2014-01-02         NaN\n",
       "2014-01-03   -0.001484\n",
       "2014-01-06    0.015385\n",
       "2014-01-07    0.013946\n",
       "2014-01-08    0.024184\n",
       "dtype: float64"
      ]
     },
     "execution_count": 17,
     "metadata": {},
     "output_type": "execute_result"
    }
   ],
   "source": [
    "SSDspread.head()"
   ]
  },
  {
   "cell_type": "code",
   "execution_count": 18,
   "metadata": {},
   "outputs": [
    {
     "name": "stdout",
     "output_type": "stream",
     "text": [
      "True\n",
      "Trading price have cointegration relationship.\n",
      "            P-value of ADF test: 0.020415\n",
      "            Coefficients of regression:\n",
      "            Intercept: 1.226852\n",
      "            Beta: 1.064103\n",
      "            \n"
     ]
    },
    {
     "data": {
      "text/plain": [
       "(1.2268515742404387, 1.0641034525888144)"
      ]
     },
     "execution_count": 18,
     "metadata": {},
     "output_type": "execute_result"
    }
   ],
   "source": [
    "coefficients=pt.cointegration(priceAf,priceBf)\n",
    "coefficients"
   ]
  },
  {
   "cell_type": "code",
   "execution_count": 19,
   "metadata": {},
   "outputs": [
    {
     "name": "stdout",
     "output_type": "stream",
     "text": [
      "True\n",
      "Trading price have cointegration relationship.\n",
      "            P-value of ADF test: 0.020415\n",
      "            Coefficients of regression:\n",
      "            Intercept: 1.226852\n",
      "            Beta: 1.064103\n",
      "            \n"
     ]
    },
    {
     "data": {
      "text/plain": [
       "Trddt\n",
       "2014-01-02   -0.011214\n",
       "2014-01-03   -0.011507\n",
       "2014-01-06    0.006511\n",
       "2014-01-07    0.005361\n",
       "2014-01-08    0.016112\n",
       "dtype: float64"
      ]
     },
     "execution_count": 19,
     "metadata": {},
     "output_type": "execute_result"
    }
   ],
   "source": [
    "CoSpreadF=pt.CointegrationSpread(priceA,priceB,formPeriod,formPeriod)\n",
    "CoSpreadF.head()"
   ]
  },
  {
   "cell_type": "code",
   "execution_count": 20,
   "metadata": {},
   "outputs": [
    {
     "name": "stdout",
     "output_type": "stream",
     "text": [
      "True\n",
      "Trading price have cointegration relationship.\n",
      "            P-value of ADF test: 0.020415\n",
      "            Coefficients of regression:\n",
      "            Intercept: 1.226852\n",
      "            Beta: 1.064103\n",
      "            \n"
     ]
    },
    {
     "data": {
      "text/plain": [
       "count    119.000000\n",
       "mean      -0.037295\n",
       "std        0.052204\n",
       "min       -0.163903\n",
       "25%       -0.063038\n",
       "50%       -0.033336\n",
       "75%        0.000503\n",
       "max        0.057989\n",
       "dtype: float64"
      ]
     },
     "execution_count": 20,
     "metadata": {},
     "output_type": "execute_result"
    }
   ],
   "source": [
    "CoSpreadTr=pt.CointegrationSpread(priceA,priceB,formPeriod,tradePeriod)\n",
    "CoSpreadTr.describe()"
   ]
  },
  {
   "cell_type": "code",
   "execution_count": 21,
   "metadata": {},
   "outputs": [
    {
     "name": "stdout",
     "output_type": "stream",
     "text": [
      "True\n",
      "Trading price have cointegration relationship.\n",
      "            P-value of ADF test: 0.020415\n",
      "            Coefficients of regression:\n",
      "            Intercept: 1.226852\n",
      "            Beta: 1.064103\n",
      "            \n"
     ]
    },
    {
     "data": {
      "text/plain": [
       "(0.03627938704534019, -0.03627938704533997)"
      ]
     },
     "execution_count": 21,
     "metadata": {},
     "output_type": "execute_result"
    }
   ],
   "source": [
    "bound=pt.calBound(priceA,priceB,'Cointegration',formPeriod,width=1.2)\n",
    "bound"
   ]
  },
  {
   "cell_type": "code",
   "execution_count": 22,
   "metadata": {},
   "outputs": [],
   "source": [
    "# Then we use these features and stats to trade\n",
    "# procedures:\n",
    "# 1. in the formation period, test the cointegration property\n",
    "# 2. find the proportion \\alpha and \\beta to calculate the spread\n",
    "# 3. compute threshold value and corresponding strategies\n",
    "# 4. evaluate performance"
   ]
  },
  {
   "cell_type": "code",
   "execution_count": 24,
   "metadata": {},
   "outputs": [],
   "source": [
    "# import data\n",
    "formStart='2014-01-01'\n",
    "formEnd='2015-01-01'\n",
    "PA=sh['601988']\n",
    "PB=sh['600000']\n",
    "PAf=PA[formStart:formEnd]\n",
    "PBf=PB[formStart:formEnd]"
   ]
  },
  {
   "cell_type": "code",
   "execution_count": 25,
   "metadata": {},
   "outputs": [
    {
     "name": "stdout",
     "output_type": "stream",
     "text": [
      "True\n",
      "   Augmented Dickey-Fuller Results   \n",
      "=====================================\n",
      "Test Statistic                  3.409\n",
      "P-value                         1.000\n",
      "Lags                               12\n",
      "-------------------------------------\n",
      "\n",
      "Trend: Constant\n",
      "Critical Values: -3.46 (1%), -2.87 (5%), -2.57 (10%)\n",
      "Null Hypothesis: The process contains a unit root.\n",
      "Alternative Hypothesis: The process is weakly stationary.\n"
     ]
    }
   ],
   "source": [
    "# Bank of China 1st order integration test\n",
    "log_PAf=np.log(PAf)\n",
    "adfA=ADF(log_PAf)\n",
    "print(adfA.summary().as_text())"
   ]
  },
  {
   "cell_type": "code",
   "execution_count": 27,
   "metadata": {},
   "outputs": [
    {
     "name": "stdout",
     "output_type": "stream",
     "text": [
      "True\n",
      "   Augmented Dickey-Fuller Results   \n",
      "=====================================\n",
      "Test Statistic                 -4.571\n",
      "P-value                         0.000\n",
      "Lags                               11\n",
      "-------------------------------------\n",
      "\n",
      "Trend: Constant\n",
      "Critical Values: -3.46 (1%), -2.87 (5%), -2.57 (10%)\n",
      "Null Hypothesis: The process contains a unit root.\n",
      "Alternative Hypothesis: The process is weakly stationary.\n"
     ]
    }
   ],
   "source": [
    "adfAd=ADF(log_PAf.diff()[1:])\n",
    "print(adfAd.summary().as_text())"
   ]
  },
  {
   "cell_type": "code",
   "execution_count": 28,
   "metadata": {},
   "outputs": [
    {
     "name": "stdout",
     "output_type": "stream",
     "text": [
      "True\n",
      "   Augmented Dickey-Fuller Results   \n",
      "=====================================\n",
      "Test Statistic                  2.392\n",
      "P-value                         0.999\n",
      "Lags                               12\n",
      "-------------------------------------\n",
      "\n",
      "Trend: Constant\n",
      "Critical Values: -3.46 (1%), -2.87 (5%), -2.57 (10%)\n",
      "Null Hypothesis: The process contains a unit root.\n",
      "Alternative Hypothesis: The process is weakly stationary.\n"
     ]
    }
   ],
   "source": [
    "# Pu Fa Bank 1st order integration test\n",
    "log_PBf=np.log(PBf)\n",
    "adfB=ADF(log_PBf)\n",
    "print(adfB.summary().as_text())"
   ]
  },
  {
   "cell_type": "code",
   "execution_count": 29,
   "metadata": {},
   "outputs": [
    {
     "name": "stdout",
     "output_type": "stream",
     "text": [
      "True\n",
      "   Augmented Dickey-Fuller Results   \n",
      "=====================================\n",
      "Test Statistic                 -3.888\n",
      "P-value                         0.002\n",
      "Lags                               11\n",
      "-------------------------------------\n",
      "\n",
      "Trend: Constant\n",
      "Critical Values: -3.46 (1%), -2.87 (5%), -2.57 (10%)\n",
      "Null Hypothesis: The process contains a unit root.\n",
      "Alternative Hypothesis: The process is weakly stationary.\n"
     ]
    }
   ],
   "source": [
    "adfBd=ADF(log_PBf.diff()[1:])\n",
    "print(adfBd.summary().as_text())"
   ]
  },
  {
   "cell_type": "code",
   "execution_count": 30,
   "metadata": {},
   "outputs": [
    {
     "data": {
      "text/html": [
       "<table class=\"simpletable\">\n",
       "<caption>OLS Regression Results</caption>\n",
       "<tr>\n",
       "  <th>Dep. Variable:</th>         <td>600000</td>      <th>  R-squared:         </th> <td>   0.949</td> \n",
       "</tr>\n",
       "<tr>\n",
       "  <th>Model:</th>                   <td>OLS</td>       <th>  Adj. R-squared:    </th> <td>   0.949</td> \n",
       "</tr>\n",
       "<tr>\n",
       "  <th>Method:</th>             <td>Least Squares</td>  <th>  F-statistic:       </th> <td>   4560.</td> \n",
       "</tr>\n",
       "<tr>\n",
       "  <th>Date:</th>             <td>Mon, 29 Oct 2018</td> <th>  Prob (F-statistic):</th> <td>1.83e-159</td>\n",
       "</tr>\n",
       "<tr>\n",
       "  <th>Time:</th>                 <td>17:05:57</td>     <th>  Log-Likelihood:    </th> <td>  509.57</td> \n",
       "</tr>\n",
       "<tr>\n",
       "  <th>No. Observations:</th>      <td>   245</td>      <th>  AIC:               </th> <td>  -1015.</td> \n",
       "</tr>\n",
       "<tr>\n",
       "  <th>Df Residuals:</th>          <td>   243</td>      <th>  BIC:               </th> <td>  -1008.</td> \n",
       "</tr>\n",
       "<tr>\n",
       "  <th>Df Model:</th>              <td>     1</td>      <th>                     </th>     <td> </td>    \n",
       "</tr>\n",
       "<tr>\n",
       "  <th>Covariance Type:</th>      <td>nonrobust</td>    <th>                     </th>     <td> </td>    \n",
       "</tr>\n",
       "</table>\n",
       "<table class=\"simpletable\">\n",
       "<tr>\n",
       "     <td></td>       <th>coef</th>     <th>std err</th>      <th>t</th>      <th>P>|t|</th>  <th>[0.025</th>    <th>0.975]</th>  \n",
       "</tr>\n",
       "<tr>\n",
       "  <th>const</th>  <td>    1.2269</td> <td>    0.015</td> <td>   83.071</td> <td> 0.000</td> <td>    1.198</td> <td>    1.256</td>\n",
       "</tr>\n",
       "<tr>\n",
       "  <th>601988</th> <td>    1.0641</td> <td>    0.016</td> <td>   67.531</td> <td> 0.000</td> <td>    1.033</td> <td>    1.095</td>\n",
       "</tr>\n",
       "</table>\n",
       "<table class=\"simpletable\">\n",
       "<tr>\n",
       "  <th>Omnibus:</th>       <td>19.538</td> <th>  Durbin-Watson:     </th> <td>   0.161</td>\n",
       "</tr>\n",
       "<tr>\n",
       "  <th>Prob(Omnibus):</th> <td> 0.000</td> <th>  Jarque-Bera (JB):  </th> <td>  13.245</td>\n",
       "</tr>\n",
       "<tr>\n",
       "  <th>Skew:</th>          <td> 0.444</td> <th>  Prob(JB):          </th> <td> 0.00133</td>\n",
       "</tr>\n",
       "<tr>\n",
       "  <th>Kurtosis:</th>      <td> 2.286</td> <th>  Cond. No.          </th> <td>    15.2</td>\n",
       "</tr>\n",
       "</table><br/><br/>Warnings:<br/>[1] Standard Errors assume that the covariance matrix of the errors is correctly specified."
      ],
      "text/plain": [
       "<class 'statsmodels.iolib.summary.Summary'>\n",
       "\"\"\"\n",
       "                            OLS Regression Results                            \n",
       "==============================================================================\n",
       "Dep. Variable:                 600000   R-squared:                       0.949\n",
       "Model:                            OLS   Adj. R-squared:                  0.949\n",
       "Method:                 Least Squares   F-statistic:                     4560.\n",
       "Date:                Mon, 29 Oct 2018   Prob (F-statistic):          1.83e-159\n",
       "Time:                        17:05:57   Log-Likelihood:                 509.57\n",
       "No. Observations:                 245   AIC:                            -1015.\n",
       "Df Residuals:                     243   BIC:                            -1008.\n",
       "Df Model:                           1                                         \n",
       "Covariance Type:            nonrobust                                         \n",
       "==============================================================================\n",
       "                 coef    std err          t      P>|t|      [0.025      0.975]\n",
       "------------------------------------------------------------------------------\n",
       "const          1.2269      0.015     83.071      0.000       1.198       1.256\n",
       "601988         1.0641      0.016     67.531      0.000       1.033       1.095\n",
       "==============================================================================\n",
       "Omnibus:                       19.538   Durbin-Watson:                   0.161\n",
       "Prob(Omnibus):                  0.000   Jarque-Bera (JB):               13.245\n",
       "Skew:                           0.444   Prob(JB):                      0.00133\n",
       "Kurtosis:                       2.286   Cond. No.                         15.2\n",
       "==============================================================================\n",
       "\n",
       "Warnings:\n",
       "[1] Standard Errors assume that the covariance matrix of the errors is correctly specified.\n",
       "\"\"\""
      ]
     },
     "execution_count": 30,
     "metadata": {},
     "output_type": "execute_result"
    }
   ],
   "source": [
    "# cointegration test\n",
    "model=sm.OLS(log_PBf,sm.add_constant(log_PAf)).fit()\n",
    "model.summary()"
   ]
  },
  {
   "cell_type": "code",
   "execution_count": 33,
   "metadata": {},
   "outputs": [
    {
     "name": "stdout",
     "output_type": "stream",
     "text": [
      "True\n",
      "   Augmented Dickey-Fuller Results   \n",
      "=====================================\n",
      "Test Statistic                 -3.193\n",
      "P-value                         0.020\n",
      "Lags                                0\n",
      "-------------------------------------\n",
      "\n",
      "Trend: Constant\n",
      "Critical Values: -3.46 (1%), -2.87 (5%), -2.57 (10%)\n",
      "Null Hypothesis: The process contains a unit root.\n",
      "Alternative Hypothesis: The process is weakly stationary.\n"
     ]
    }
   ],
   "source": [
    "# residue unit root test\n",
    "alpha=model.params[0]\n",
    "beta=model.params[1]\n",
    "spreadf=log_PBf-beta*log_PAf-alpha\n",
    "adfSpread=ADF(spreadf)\n",
    "print(adfSpread.summary().as_text())\n",
    "# indeed cointegration relationship"
   ]
  },
  {
   "cell_type": "code",
   "execution_count": 34,
   "metadata": {},
   "outputs": [],
   "source": [
    "# pairing\n",
    "mu=np.mean(spreadf)\n",
    "sd=np.std(spreadf)"
   ]
  },
  {
   "cell_type": "code",
   "execution_count": 35,
   "metadata": {},
   "outputs": [
    {
     "data": {
      "text/plain": [
       "count    119.000000\n",
       "mean      -0.037295\n",
       "std        0.052204\n",
       "min       -0.163903\n",
       "25%       -0.063038\n",
       "50%       -0.033336\n",
       "75%        0.000503\n",
       "max        0.057989\n",
       "dtype: float64"
      ]
     },
     "execution_count": 35,
     "metadata": {},
     "output_type": "execute_result"
    }
   ],
   "source": [
    "# trading days, determine position interval\n",
    "tradStart='2015-01-01'\n",
    "tradEnd='2015-06-30'\n",
    "PAt=PA[tradStart:tradEnd]\n",
    "PBt=PB[tradStart:tradEnd]\n",
    "CoSpreadT=np.log(PBt)-beta*np.log(PAt)-alpha\n",
    "CoSpreadT.describe()"
   ]
  },
  {
   "cell_type": "code",
   "execution_count": 37,
   "metadata": {},
   "outputs": [
    {
     "data": {
      "text/plain": [
       "<matplotlib.lines.Line2D at 0x115700eb8>"
      ]
     },
     "execution_count": 37,
     "metadata": {},
     "output_type": "execute_result"
    },
    {
     "data": {
      "image/png": "[encoded data removed]",
      "text/plain": [
       "<Figure size 432x288 with 1 Axes>"
      ]
     },
     "metadata": {},
     "output_type": "display_data"
    }
   ],
   "source": [
    "# plot spread interval\n",
    "import matplotlib.pyplot as plt \n",
    "CoSpreadT.plot()\n",
    "plt.title('spread series (cointegration) (trading period)')\n",
    "plt.axhline(y=mu,color='black')\n",
    "plt.axhline(y=mu+0.2*sd,color='blue',ls='-',lw=2)\n",
    "plt.axhline(y=mu-0.2*sd,color='blue',ls='-',lw=2)\n",
    "plt.axhline(y=mu+1.5*sd,color='green',ls='--',lw=2.5)\n",
    "plt.axhline(y=mu-1.5*sd,color='green',ls='--',lw=2.5)\n",
    "plt.axhline(y=mu+2.5*sd,color='red',ls='-.',lw=3)\n",
    "plt.axhline(y=mu-2.5*sd,color='red',ls='-.',lw=3)"
   ]
  },
  {
   "cell_type": "code",
   "execution_count": 40,
   "metadata": {},
   "outputs": [
    {
     "data": {
      "text/plain": [
       "Trddt\n",
       "2015-01-05   -1\n",
       "2015-01-06   -2\n",
       "2015-01-07   -3\n",
       "2015-01-08   -2\n",
       "2015-01-09   -3\n",
       "dtype: int64"
      ]
     },
     "execution_count": 40,
     "metadata": {},
     "output_type": "execute_result"
    }
   ],
   "source": [
    "# according to the plot above, we trade with this strategy and simulate the market\n",
    "level=(float('-inf'),mu-2.5*sd,mu-1.5*sd,mu-0.2*sd,mu+0.2*sd,mu+1.5*sd,mu+2.5*sd,float('inf'))\n",
    "prcLevel=pd.cut(CoSpreadT,level,labels=False)-3\n",
    "prcLevel.head()"
   ]
  },
  {
   "cell_type": "code",
   "execution_count": 41,
   "metadata": {},
   "outputs": [],
   "source": [
    "# signals\n",
    "def TradeSig(prcLevel):\n",
    "    n=len(prcLevel)\n",
    "    signal=np.zeros(n)\n",
    "    for i in range(1,n):\n",
    "        if prcLevel[i-1]==1 and prcLevel[i]==2:\n",
    "            signal[i]=-2\n",
    "        elif prcLevel[i-1]==1 and prcLevel[i]==0:\n",
    "            signal[i]=2\n",
    "        elif prcLevel[i-1]==2 and prcLevel[i]==3:\n",
    "            signal[i]=3\n",
    "        elif prcLevel[i-1]==-1 and prcLevel[i]==-2:\n",
    "            signal[i]=1\n",
    "        elif prcLevel[i-1]==-1 and prcLevel[i]==0:\n",
    "            signal[i]=-1\n",
    "        elif prcLevel[i-1]==-2 and prcLevel[i]==-3:\n",
    "            signal[i]=-3\n",
    "    return(signal)"
   ]
  },
  {
   "cell_type": "code",
   "execution_count": 42,
   "metadata": {},
   "outputs": [],
   "source": [
    "signal=TradeSig(prcLevel)\n",
    "position=[signal[0]]\n",
    "ns=len(signal)"
   ]
  },
  {
   "cell_type": "code",
   "execution_count": 44,
   "metadata": {},
   "outputs": [],
   "source": [
    "for i in range(1,ns):\n",
    "    position.append(position[-1])\n",
    "    if signal[i]==1:\n",
    "        position[i]=1\n",
    "    elif signal[i]==-2:\n",
    "        position[i]=-1\n",
    "    elif signal[i]==-1 and position[i-1]==1:\n",
    "        position[i]=0\n",
    "    elif signal[i]==2 and position[i-1]==-1:\n",
    "        position[i]=0\n",
    "    elif signal[i]==3:\n",
    "        position[i]=0\n",
    "    elif signal[i]==-3:\n",
    "        position[i]=0"
   ]
  },
  {
   "cell_type": "code",
   "execution_count": 45,
   "metadata": {},
   "outputs": [
    {
     "data": {
      "text/plain": [
       "Trddt\n",
       "2015-06-24    0.0\n",
       "2015-06-25    0.0\n",
       "2015-06-26    0.0\n",
       "2015-06-29    0.0\n",
       "2015-06-30    0.0\n",
       "dtype: float64"
      ]
     },
     "execution_count": 45,
     "metadata": {},
     "output_type": "execute_result"
    }
   ],
   "source": [
    "position=pd.Series(position,index=CoSpreadT.index)\n",
    "position.tail()"
   ]
  },
  {
   "cell_type": "code",
   "execution_count": 48,
   "metadata": {},
   "outputs": [],
   "source": [
    "# simulate tradings\n",
    "def TradeSim(priceX,priceY,position):\n",
    "    n=len(position)\n",
    "    size=1000\n",
    "    shareY=size*position\n",
    "    shareX=[(-beta)*shareY[0]*priceY[0]/priceX[0]]\n",
    "    cash=[2000]\n",
    "    for i in range(1,n):\n",
    "        shareX.append(shareX[i-1])\n",
    "        cash.append(cash[i-1])\n",
    "        if position[i-1]==0 and position[i]==1:\n",
    "            shareX[i]=(-beta)*shareY[i]*priceY[i]/priceX[i]\n",
    "            cash[i]=cash[i-1]-(shareY[i]*priceY[i]+shareX[i]*priceX[i])\n",
    "        elif position[i-1]==0 and position[i]==-1:\n",
    "            shareX[i]=(-beta)*shareY[i]*priceY[i]/priceX[i]\n",
    "            cash[i]=cash[i-1]-(shareY[i]*priceY[i]+shareX[i]*priceX[i])\n",
    "        elif position[i-1]==1 and position[i]==-0:\n",
    "            shareX[i]=0\n",
    "            cash[i]=cash[i-1]+(shareY[i-1]*priceY[i]+shareX[i-1]*priceX[i])\n",
    "        elif position[i-1]==-1 and position[i]==-0:\n",
    "            shareX[i]=0\n",
    "            cash[i]=cash[i-1]+(shareY[i-1]*priceY[i]+shareX[i-1]*priceX[i])\n",
    "    cash=pd.Series(cash,index=position.index)\n",
    "    shareY=pd.Series(shareY,index=position.index)\n",
    "    shareX=pd.Series(shareX,index=position.index)\n",
    "    asset=cash+shareY*priceY+shareX*priceX\n",
    "    account=pd.DataFrame({'Position':position,'ShareY':shareY,'ShareX':shareX,'Cash':cash,'Asset':asset})\n",
    "    return(account)"
   ]
  },
  {
   "cell_type": "code",
   "execution_count": 50,
   "metadata": {},
   "outputs": [
    {
     "data": {
      "text/html": [
       "<div>\n",
       "<style scoped>\n",
       "    .dataframe tbody tr th:only-of-type {\n",
       "        vertical-align: middle;\n",
       "    }\n",
       "\n",
       "    .dataframe tbody tr th {\n",
       "        vertical-align: top;\n",
       "    }\n",
       "\n",
       "    .dataframe thead th {\n",
       "        text-align: right;\n",
       "    }\n",
       "</style>\n",
       "<table border=\"1\" class=\"dataframe\">\n",
       "  <thead>\n",
       "    <tr style=\"text-align: right;\">\n",
       "      <th></th>\n",
       "      <th>Position</th>\n",
       "      <th>ShareY</th>\n",
       "      <th>ShareX</th>\n",
       "      <th>Cash</th>\n",
       "      <th>Asset</th>\n",
       "    </tr>\n",
       "    <tr>\n",
       "      <th>Trddt</th>\n",
       "      <th></th>\n",
       "      <th></th>\n",
       "      <th></th>\n",
       "      <th></th>\n",
       "      <th></th>\n",
       "    </tr>\n",
       "  </thead>\n",
       "  <tbody>\n",
       "    <tr>\n",
       "      <th>2015-06-24</th>\n",
       "      <td>0.0</td>\n",
       "      <td>0.0</td>\n",
       "      <td>0.0</td>\n",
       "      <td>5992.514</td>\n",
       "      <td>5992.514</td>\n",
       "    </tr>\n",
       "    <tr>\n",
       "      <th>2015-06-25</th>\n",
       "      <td>0.0</td>\n",
       "      <td>0.0</td>\n",
       "      <td>0.0</td>\n",
       "      <td>5992.514</td>\n",
       "      <td>5992.514</td>\n",
       "    </tr>\n",
       "    <tr>\n",
       "      <th>2015-06-26</th>\n",
       "      <td>0.0</td>\n",
       "      <td>0.0</td>\n",
       "      <td>0.0</td>\n",
       "      <td>5992.514</td>\n",
       "      <td>5992.514</td>\n",
       "    </tr>\n",
       "    <tr>\n",
       "      <th>2015-06-29</th>\n",
       "      <td>0.0</td>\n",
       "      <td>0.0</td>\n",
       "      <td>0.0</td>\n",
       "      <td>5992.514</td>\n",
       "      <td>5992.514</td>\n",
       "    </tr>\n",
       "    <tr>\n",
       "      <th>2015-06-30</th>\n",
       "      <td>0.0</td>\n",
       "      <td>0.0</td>\n",
       "      <td>0.0</td>\n",
       "      <td>5992.514</td>\n",
       "      <td>5992.514</td>\n",
       "    </tr>\n",
       "  </tbody>\n",
       "</table>\n",
       "</div>"
      ],
      "text/plain": [
       "            Position  ShareY  ShareX      Cash     Asset\n",
       "Trddt                                                   \n",
       "2015-06-24       0.0     0.0     0.0  5992.514  5992.514\n",
       "2015-06-25       0.0     0.0     0.0  5992.514  5992.514\n",
       "2015-06-26       0.0     0.0     0.0  5992.514  5992.514\n",
       "2015-06-29       0.0     0.0     0.0  5992.514  5992.514\n",
       "2015-06-30       0.0     0.0     0.0  5992.514  5992.514"
      ]
     },
     "execution_count": 50,
     "metadata": {},
     "output_type": "execute_result"
    }
   ],
   "source": [
    "account=TradeSim(PAt,PBt,position)\n",
    "account.tail()"
   ]
  },
  {
   "cell_type": "code",
   "execution_count": 56,
   "metadata": {},
   "outputs": [
    {
     "data": {
      "text/plain": [
       "<matplotlib.axes._subplots.AxesSubplot at 0x10e4641d0>"
      ]
     },
     "execution_count": 56,
     "metadata": {},
     "output_type": "execute_result"
    },
    {
     "data": {
      "image/png": "[encoded data removed]",
      "text/plain": [
       "<Figure size 432x288 with 1 Axes>"
      ]
     },
     "metadata": {},
     "output_type": "display_data"
    }
   ],
   "source": [
    "account.iloc[:,[0,1,4]].plot(style=['--','-',':'])\n",
    "# plot may be wrong, but the procedure is certainly correct"
   ]
  },
  {
   "cell_type": "code",
   "execution_count": null,
   "metadata": {},
   "outputs": [],
   "source": []
  }
 ],
 "metadata": {
  "kernelspec": {
   "display_name": "Python 3",
   "language": "python",
   "name": "python3"
  },
  "language_info": {
   "codemirror_mode": {
    "name": "ipython",
    "version": 3
   },
   "file_extension": ".py",
   "mimetype": "text/x-python",
   "name": "python",
   "nbconvert_exporter": "python",
   "pygments_lexer": "ipython3",
   "version": "3.6.5"
  }
 },
 "nbformat": 4,
 "nbformat_minor": 2
}
