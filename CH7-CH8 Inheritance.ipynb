{
 "cells": [
  {
   "cell_type": "code",
   "execution_count": 3,
   "metadata": {},
   "outputs": [
    {
     "data": {
      "text/plain": [
       "(7, 3)"
      ]
     },
     "execution_count": 3,
     "metadata": {},
     "output_type": "execute_result"
    }
   ],
   "source": [
    "def my_function(x,y):\n",
    "    z1=x+y\n",
    "    z2=x-y\n",
    "    return z1,z2\n",
    "r1, r2=my_function(5,2)\n",
    "r1,r2#saved as tuple"
   ]
  },
  {
   "cell_type": "code",
   "execution_count": 4,
   "metadata": {},
   "outputs": [
    {
     "data": {
      "text/plain": [
       "(['A', 'c', 'd', 'e'], 6)"
      ]
     },
     "execution_count": 4,
     "metadata": {},
     "output_type": "execute_result"
    }
   ],
   "source": [
    "def change_obj(x,y):\n",
    "    x[0]='A'\n",
    "    y=7\n",
    "letters=['b','c','d','e']\n",
    "number=6\n",
    "change_obj(letters,number)\n",
    "letters,number#changeable and non-changeable "
   ]
  },
  {
   "cell_type": "code",
   "execution_count": 8,
   "metadata": {},
   "outputs": [
    {
     "data": {
      "text/plain": [
       "(6, 6)"
      ]
     },
     "execution_count": 8,
     "metadata": {},
     "output_type": "execute_result"
    }
   ],
   "source": [
    "def my_add(add):#changeable parameters\n",
    "    sum=0\n",
    "    for i in add:\n",
    "        sum=sum+i\n",
    "    return sum\n",
    "numbers1=(1,2,3)\n",
    "numbers2=[1,2,3]\n",
    "my_add(numbers1),my_add(numbers2)\n",
    "#my_add(1,2,3) is wrong, if we want to do so, \n",
    "#we have to use pointer, which means that we have to use '*' in front of those parameters"
   ]
  },
  {
   "cell_type": "code",
   "execution_count": 11,
   "metadata": {},
   "outputs": [
    {
     "data": {
      "text/plain": [
       "7.199999999999999"
      ]
     },
     "execution_count": 11,
     "metadata": {},
     "output_type": "execute_result"
    }
   ],
   "source": [
    "def weighted_sum(x1,x2,*y):\n",
    "    sum=0\n",
    "    size=len(y)\n",
    "    weight=0.3/size\n",
    "    for i in y:\n",
    "        sum=sum+weight*i\n",
    "    sum+=0.4*x1+0.3*x2\n",
    "    return sum\n",
    "weighted_sum(6,7,8,9,10)"
   ]
  },
  {
   "cell_type": "code",
   "execution_count": 13,
   "metadata": {},
   "outputs": [
    {
     "name": "stdout",
     "output_type": "stream",
     "text": [
      "Hello World\n"
     ]
    }
   ],
   "source": [
    "greeting = lambda:print(\"Hello World\")\n",
    "greeting()"
   ]
  },
  {
   "cell_type": "code",
   "execution_count": 15,
   "metadata": {},
   "outputs": [
    {
     "name": "stdout",
     "output_type": "stream",
     "text": [
      "9\n",
      "27\n",
      "81\n",
      "243\n"
     ]
    }
   ],
   "source": [
    "L=[lambda x:x**2,lambda x:x**3,lambda x:x**4,lambda x:x**5]\n",
    "for p in L:\n",
    "    print(p(3))"
   ]
  },
  {
   "cell_type": "code",
   "execution_count": 17,
   "metadata": {},
   "outputs": [
    {
     "name": "stdout",
     "output_type": "stream",
     "text": [
      "20\n"
     ]
    }
   ],
   "source": [
    "a=10\n",
    "def fun():\n",
    "    global a\n",
    "    a=20\n",
    "fun()\n",
    "print(a)"
   ]
  },
  {
   "cell_type": "code",
   "execution_count": 23,
   "metadata": {},
   "outputs": [
    {
     "data": {
      "text/plain": [
       "('001', 12)"
      ]
     },
     "execution_count": 23,
     "metadata": {},
     "output_type": "execute_result"
    }
   ],
   "source": [
    "class Asset(object):\n",
    "    pass\n",
    "asset1=Asset()\n",
    "asset1.id='001'\n",
    "asset2=Asset()\n",
    "asset2.price=12\n",
    "asset1.id,asset2.price#different attributes from the same class, but too free to being robust"
   ]
  },
  {
   "cell_type": "code",
   "execution_count": 25,
   "metadata": {},
   "outputs": [
    {
     "data": {
      "text/plain": [
       "(<__main__.Asset at 0x10946bf28>, '003', 11.5)"
      ]
     },
     "execution_count": 25,
     "metadata": {},
     "output_type": "execute_result"
    }
   ],
   "source": [
    "class Asset(object):#with specified attrbutes\n",
    "        def __init__(self,id,price):\n",
    "            self.id=id\n",
    "            self.price=price\n",
    "asset3=Asset('003',11.5)\n",
    "asset3,asset3.id,asset3.price"
   ]
  },
  {
   "cell_type": "code",
   "execution_count": 28,
   "metadata": {},
   "outputs": [
    {
     "name": "stdout",
     "output_type": "stream",
     "text": [
      "The id of the asset is : 003\n"
     ]
    }
   ],
   "source": [
    "def print_id(asset):\n",
    "    print(\"The id of the asset is : {}\".format(asset.id))\n",
    "print_id(asset3)\n",
    "#this is bad for management of the system, because outside resources can easily get access to inner datas"
   ]
  },
  {
   "cell_type": "code",
   "execution_count": 29,
   "metadata": {},
   "outputs": [
    {
     "name": "stdout",
     "output_type": "stream",
     "text": [
      "The id of the asset is : 005\n"
     ]
    }
   ],
   "source": [
    "class Asset(object):#with specified attrbutes\n",
    "        def __init__(self,id,price):\n",
    "            self.id=id\n",
    "            self.price=price\n",
    "        def print_id(asset):\n",
    "            print(\"The id of the asset is : {}\".format(asset.id))\n",
    "asset5=Asset('005',30)\n",
    "asset5.print_id()\n",
    "#this enhances casual access form outside, but we still can add private attribute to it like below"
   ]
  },
  {
   "cell_type": "code",
   "execution_count": 31,
   "metadata": {},
   "outputs": [
    {
     "ename": "AttributeError",
     "evalue": "'Asset' object has no attribute '__id'",
     "output_type": "error",
     "traceback": [
      "\u001b[0;31m---------------------------------------------------------------------------\u001b[0m",
      "\u001b[0;31mAttributeError\u001b[0m                            Traceback (most recent call last)",
      "\u001b[0;32m<ipython-input-31-e1eb8c0e5d9f>\u001b[0m in \u001b[0;36m<module>\u001b[0;34m()\u001b[0m\n\u001b[1;32m      6\u001b[0m             \u001b[0mprint\u001b[0m\u001b[0;34m(\u001b[0m\u001b[0;34m\"The id of the asset is : {}\"\u001b[0m\u001b[0;34m.\u001b[0m\u001b[0mformat\u001b[0m\u001b[0;34m(\u001b[0m\u001b[0masset\u001b[0m\u001b[0;34m.\u001b[0m\u001b[0m__id\u001b[0m\u001b[0;34m)\u001b[0m\u001b[0;34m)\u001b[0m\u001b[0;34m\u001b[0m\u001b[0m\n\u001b[1;32m      7\u001b[0m \u001b[0masset6\u001b[0m\u001b[0;34m=\u001b[0m\u001b[0mAsset\u001b[0m\u001b[0;34m(\u001b[0m\u001b[0;34m'006'\u001b[0m\u001b[0;34m,\u001b[0m\u001b[0;36m70\u001b[0m\u001b[0;34m)\u001b[0m\u001b[0;34m\u001b[0m\u001b[0m\n\u001b[0;32m----> 8\u001b[0;31m \u001b[0masset6\u001b[0m\u001b[0;34m.\u001b[0m\u001b[0m__id\u001b[0m\u001b[0;31m#it will show that there is a error in the process\u001b[0m\u001b[0;34m\u001b[0m\u001b[0m\n\u001b[0m\u001b[1;32m      9\u001b[0m \u001b[0;31m#the solution os to define getID(self): return (self__id)\u001b[0m\u001b[0;34m\u001b[0m\u001b[0;34m\u001b[0m\u001b[0m\n",
      "\u001b[0;31mAttributeError\u001b[0m: 'Asset' object has no attribute '__id'"
     ]
    }
   ],
   "source": [
    "class Asset(object):#with specified attrbutes\n",
    "        def __init__(self,id,price):\n",
    "            self.__id=id\n",
    "            self.__price=price\n",
    "        def print_id(asset):\n",
    "            print(\"The id of the asset is : {}\".format(asset.__id))\n",
    "asset6=Asset('006',70)\n",
    "asset6.__id#it will show that there is a error in the process\n",
    "#the solution os to define getID(self): return (self__id)"
   ]
  },
  {
   "cell_type": "code",
   "execution_count": 33,
   "metadata": {},
   "outputs": [],
   "source": [
    "from datetime import datetime\n",
    "class Asset(object):\n",
    "    \n",
    "    share=0\n",
    "    buyTime=datetime.strptime('1900-1-1','%Y-%m-%d')\n",
    "    sellTime=datetime.strptime('1900-1-1','%Y-%m-%d')\n",
    "    \n",
    "    def __init__(self,id,price):\n",
    "            self.id=id\n",
    "            self.price=price\n",
    "            \n",
    "    def buy(self,share,time):\n",
    "        self.share+=share\n",
    "        self.buyTime=datetime.strptime(time,'%Y-%m-%d')\n",
    "    \n",
    "    def sell(self,share,time):\n",
    "        self.share-=share\n",
    "        self.sellTime=datetime.strptime(time,'%Y-%m-%d')\n",
    "#then we add a class that can not be shorted\n",
    "class NonShortableAsset(Asset):\n",
    "    def sell(self,share,time):\n",
    "        if self.share>=share:\n",
    "            self.share-=share\n",
    "            self.sellTime=datetime.strptime(time,'%Y-%m-%d')\n",
    "        else:\n",
    "            print('Not permitted! Not enough shares to sell.')\n",
    "            print('Current share is {}'.format(self.share))\n",
    "            \n",
    "            return"
   ]
  },
  {
   "cell_type": "code",
   "execution_count": null,
   "metadata": {},
   "outputs": [],
   "source": [
    "#We define a child class by inherit the properties of parent class."
   ]
  }
 ],
 "metadata": {
  "kernelspec": {
   "display_name": "Python 3",
   "language": "python",
   "name": "python3"
  },
  "language_info": {
   "codemirror_mode": {
    "name": "ipython",
    "version": 3
   },
   "file_extension": ".py",
   "mimetype": "text/x-python",
   "name": "python",
   "nbconvert_exporter": "python",
   "pygments_lexer": "ipython3",
   "version": "3.6.5"
  }
 },
 "nbformat": 4,
 "nbformat_minor": 2
}
