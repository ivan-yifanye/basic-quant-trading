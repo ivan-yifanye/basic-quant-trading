{
 "cells": [
  {
   "cell_type": "code",
   "execution_count": 1,
   "metadata": {},
   "outputs": [],
   "source": [
    "# special kinds of K-lines\n",
    "# doji: when the open and close prices are quite similar\n",
    "# hammer: upper or lower shadow is very short"
   ]
  },
  {
   "cell_type": "code",
   "execution_count": 2,
   "metadata": {},
   "outputs": [
    {
     "data": {
      "text/html": [
       "<div>\n",
       "<style scoped>\n",
       "    .dataframe tbody tr th:only-of-type {\n",
       "        vertical-align: middle;\n",
       "    }\n",
       "\n",
       "    .dataframe tbody tr th {\n",
       "        vertical-align: top;\n",
       "    }\n",
       "\n",
       "    .dataframe thead th {\n",
       "        text-align: right;\n",
       "    }\n",
       "</style>\n",
       "<table border=\"1\" class=\"dataframe\">\n",
       "  <thead>\n",
       "    <tr style=\"text-align: right;\">\n",
       "      <th></th>\n",
       "      <th>Date</th>\n",
       "      <th>Open</th>\n",
       "      <th>High</th>\n",
       "      <th>Low</th>\n",
       "      <th>Close</th>\n",
       "      <th>Volume</th>\n",
       "    </tr>\n",
       "  </thead>\n",
       "  <tbody>\n",
       "    <tr>\n",
       "      <th>0</th>\n",
       "      <td>2015-03-02</td>\n",
       "      <td>3332.720947</td>\n",
       "      <td>3336.760010</td>\n",
       "      <td>3298.668945</td>\n",
       "      <td>3336.284912</td>\n",
       "      <td>346400</td>\n",
       "    </tr>\n",
       "    <tr>\n",
       "      <th>1</th>\n",
       "      <td>2015-03-03</td>\n",
       "      <td>3317.695068</td>\n",
       "      <td>3317.695068</td>\n",
       "      <td>3260.428955</td>\n",
       "      <td>3263.052002</td>\n",
       "      <td>382000</td>\n",
       "    </tr>\n",
       "    <tr>\n",
       "      <th>2</th>\n",
       "      <td>2015-03-04</td>\n",
       "      <td>3264.181885</td>\n",
       "      <td>3286.587891</td>\n",
       "      <td>3250.483887</td>\n",
       "      <td>3279.532959</td>\n",
       "      <td>293600</td>\n",
       "    </tr>\n",
       "  </tbody>\n",
       "</table>\n",
       "</div>"
      ],
      "text/plain": [
       "         Date         Open         High          Low        Close  Volume\n",
       "0  2015-03-02  3332.720947  3336.760010  3298.668945  3336.284912  346400\n",
       "1  2015-03-03  3317.695068  3317.695068  3260.428955  3263.052002  382000\n",
       "2  2015-03-04  3264.181885  3286.587891  3250.483887  3279.532959  293600"
      ]
     },
     "execution_count": 2,
     "metadata": {},
     "output_type": "execute_result"
    }
   ],
   "source": [
    "import pandas as pd\n",
    "ssec2015=pd.read_csv('SSEC2015.csv')\n",
    "ssec2015=ssec2015.iloc[:,1:]\n",
    "ssec2015.head(3)"
   ]
  },
  {
   "cell_type": "code",
   "execution_count": 3,
   "metadata": {},
   "outputs": [
    {
     "data": {
      "text/html": [
       "<div>\n",
       "<style scoped>\n",
       "    .dataframe tbody tr th:only-of-type {\n",
       "        vertical-align: middle;\n",
       "    }\n",
       "\n",
       "    .dataframe tbody tr th {\n",
       "        vertical-align: top;\n",
       "    }\n",
       "\n",
       "    .dataframe thead th {\n",
       "        text-align: right;\n",
       "    }\n",
       "</style>\n",
       "<table border=\"1\" class=\"dataframe\">\n",
       "  <thead>\n",
       "    <tr style=\"text-align: right;\">\n",
       "      <th></th>\n",
       "      <th>Date</th>\n",
       "      <th>Open</th>\n",
       "      <th>High</th>\n",
       "      <th>Low</th>\n",
       "      <th>Close</th>\n",
       "      <th>Volume</th>\n",
       "    </tr>\n",
       "  </thead>\n",
       "  <tbody>\n",
       "    <tr>\n",
       "      <th>19</th>\n",
       "      <td>2015-03-27</td>\n",
       "      <td>3686.134033</td>\n",
       "      <td>3710.477051</td>\n",
       "      <td>3656.831055</td>\n",
       "      <td>3691.095947</td>\n",
       "      <td>408900</td>\n",
       "    </tr>\n",
       "    <tr>\n",
       "      <th>20</th>\n",
       "      <td>2015-03-30</td>\n",
       "      <td>3710.612061</td>\n",
       "      <td>3795.935059</td>\n",
       "      <td>3710.612061</td>\n",
       "      <td>3786.568115</td>\n",
       "      <td>564700</td>\n",
       "    </tr>\n",
       "    <tr>\n",
       "      <th>21</th>\n",
       "      <td>2015-03-31</td>\n",
       "      <td>3822.987061</td>\n",
       "      <td>3835.566895</td>\n",
       "      <td>3737.042969</td>\n",
       "      <td>3747.898926</td>\n",
       "      <td>561700</td>\n",
       "    </tr>\n",
       "  </tbody>\n",
       "</table>\n",
       "</div>"
      ],
      "text/plain": [
       "          Date         Open         High          Low        Close  Volume\n",
       "19  2015-03-27  3686.134033  3710.477051  3656.831055  3691.095947  408900\n",
       "20  2015-03-30  3710.612061  3795.935059  3710.612061  3786.568115  564700\n",
       "21  2015-03-31  3822.987061  3835.566895  3737.042969  3747.898926  561700"
      ]
     },
     "execution_count": 3,
     "metadata": {},
     "output_type": "execute_result"
    }
   ],
   "source": [
    "ssec2015.iloc[-3:,:]"
   ]
  },
  {
   "cell_type": "code",
   "execution_count": 4,
   "metadata": {},
   "outputs": [],
   "source": [
    "# date type must be float\n",
    "from matplotlib.dates import DateFormatter,WeekdayLocator,DayLocator,MONDAY,date2num\n",
    "from datetime import datetime\n",
    "ssec2015.Date=[date2num(datetime.strptime(date,\"%Y-%m-%d\")) for date in ssec2015.Date]"
   ]
  },
  {
   "cell_type": "code",
   "execution_count": 5,
   "metadata": {},
   "outputs": [
    {
     "data": {
      "text/plain": [
       "pandas.core.frame.DataFrame"
      ]
     },
     "execution_count": 5,
     "metadata": {},
     "output_type": "execute_result"
    }
   ],
   "source": [
    "type(ssec2015)"
   ]
  },
  {
   "cell_type": "code",
   "execution_count": 6,
   "metadata": {},
   "outputs": [],
   "source": [
    "# candlestick_ohlc needs list type, transfer below\n",
    "ssec15list=list()\n",
    "for i in range(len(ssec2015)):\n",
    "    ssec15list.append(ssec2015.iloc[i,:])"
   ]
  },
  {
   "cell_type": "code",
   "execution_count": 9,
   "metadata": {},
   "outputs": [
    {
     "name": "stderr",
     "output_type": "stream",
     "text": [
      "/anaconda3/lib/python3.6/site-packages/matplotlib/font_manager.py:1331: UserWarning: findfont: Font family ['sans-serif'] not found. Falling back to DejaVu Sans\n",
      "  (prop.get_family(), self.defaultFamily[fontext]))\n"
     ]
    },
    {
     "data": {
      "image/png": "[encoded data removed]",
      "text/plain": [
       "<Figure size 432x288 with 1 Axes>"
      ]
     },
     "metadata": {},
     "output_type": "display_data"
    }
   ],
   "source": [
    "from mpl_finance import candlestick_ohlc\n",
    "import matplotlib.pyplot as plt\n",
    "ax=plt.subplot()\n",
    "mondays=WeekdayLocator(MONDAY)\n",
    "weekFormatter=DateFormatter('%y %b %d')\n",
    "ax.xaxis.set_major_locator(mondays)\n",
    "ax.xaxis.set_minor_locator(DayLocator())\n",
    "ax.xaxis.set_major_formatter(weekFormatter)\n",
    "plt.rcParams['font.sans-serif'] = ['SimHei']\n",
    "plt.rcParams['axes.unicode_minus'] = False\n",
    "ax.set_title(\"SH 2015.3 K-lines\")\n",
    "candlestick_ohlc(ax, ssec15list, width=0.7,colorup='r', colordown='g')\n",
    "plt.setp(plt.gca().get_xticklabels(),rotation=50, horizontalalignment='center')\n",
    "plt.show()"
   ]
  },
  {
   "cell_type": "code",
   "execution_count": 10,
   "metadata": {
    "scrolled": true
   },
   "outputs": [
    {
     "name": "stdout",
     "output_type": "stream",
     "text": [
      "Help on function candlestick_ohlc in module mpl_finance:\n",
      "\n",
      "candlestick_ohlc(ax, quotes, width=0.2, colorup='k', colordown='r', alpha=1.0)\n",
      "    Plot the time, open, high, low, close as a vertical line ranging\n",
      "    from low to high.  Use a rectangular bar to represent the\n",
      "    open-close span.  If close >= open, use colorup to color the bar,\n",
      "    otherwise use colordown\n",
      "    \n",
      "    Parameters\n",
      "    ----------\n",
      "    ax : `Axes`\n",
      "        an Axes instance to plot to\n",
      "    quotes : sequence of (time, open, high, low, close, ...) sequences\n",
      "        As long as the first 5 elements are these values,\n",
      "        the record can be as long as you want (e.g., it may store volume).\n",
      "    \n",
      "        time must be in float days format - see date2num\n",
      "    \n",
      "    width : float\n",
      "        fraction of a day for the rectangle width\n",
      "    colorup : color\n",
      "        the color of the rectangle where close >= open\n",
      "    colordown : color\n",
      "         the color of the rectangle where close <  open\n",
      "    alpha : float\n",
      "        the rectangle alpha level\n",
      "    \n",
      "    Returns\n",
      "    -------\n",
      "    ret : tuple\n",
      "        returns (lines, patches) where lines is a list of lines\n",
      "        added and patches is a list of the rectangle patches added\n",
      "\n"
     ]
    }
   ],
   "source": [
    "help(candlestick_ohlc)"
   ]
  },
  {
   "cell_type": "code",
   "execution_count": null,
   "metadata": {},
   "outputs": [],
   "source": []
  },
  {
   "cell_type": "code",
   "execution_count": 11,
   "metadata": {},
   "outputs": [],
   "source": [
    "# patterns\n",
    "# continuation and reversal patterns"
   ]
  },
  {
   "cell_type": "code",
   "execution_count": 12,
   "metadata": {
    "scrolled": false
   },
   "outputs": [
    {
     "data": {
      "text/html": [
       "<div>\n",
       "<style scoped>\n",
       "    .dataframe tbody tr th:only-of-type {\n",
       "        vertical-align: middle;\n",
       "    }\n",
       "\n",
       "    .dataframe tbody tr th {\n",
       "        vertical-align: top;\n",
       "    }\n",
       "\n",
       "    .dataframe thead th {\n",
       "        text-align: right;\n",
       "    }\n",
       "</style>\n",
       "<table border=\"1\" class=\"dataframe\">\n",
       "  <thead>\n",
       "    <tr style=\"text-align: right;\">\n",
       "      <th></th>\n",
       "      <th>Open</th>\n",
       "      <th>High</th>\n",
       "      <th>Low</th>\n",
       "      <th>Close</th>\n",
       "      <th>Volume</th>\n",
       "    </tr>\n",
       "    <tr>\n",
       "      <th>Date</th>\n",
       "      <th></th>\n",
       "      <th></th>\n",
       "      <th></th>\n",
       "      <th></th>\n",
       "      <th></th>\n",
       "    </tr>\n",
       "  </thead>\n",
       "  <tbody>\n",
       "    <tr>\n",
       "      <th>2012-01-04</th>\n",
       "      <td>2211.995117</td>\n",
       "      <td>2217.520020</td>\n",
       "      <td>2168.644043</td>\n",
       "      <td>2169.389893</td>\n",
       "      <td>49200</td>\n",
       "    </tr>\n",
       "    <tr>\n",
       "      <th>2012-01-05</th>\n",
       "      <td>2160.896973</td>\n",
       "      <td>2183.404053</td>\n",
       "      <td>2145.555908</td>\n",
       "      <td>2148.451904</td>\n",
       "      <td>58800</td>\n",
       "    </tr>\n",
       "  </tbody>\n",
       "</table>\n",
       "</div>"
      ],
      "text/plain": [
       "                   Open         High          Low        Close  Volume\n",
       "Date                                                                  \n",
       "2012-01-04  2211.995117  2217.520020  2168.644043  2169.389893   49200\n",
       "2012-01-05  2160.896973  2183.404053  2145.555908  2148.451904   58800"
      ]
     },
     "execution_count": 12,
     "metadata": {},
     "output_type": "execute_result"
    }
   ],
   "source": [
    "# morning star\n",
    "# negative -> doji -> positive\n",
    "# dusk star\n",
    "# positive -> doji -> negative\n",
    "ssec2012=pd.read_csv('SSEC2012.csv')\n",
    "ssec2012.index=ssec2012.iloc[:,1]\n",
    "ssec2012.index=pd.to_datetime(ssec2012.index, format='%Y-%m-%d')\n",
    "ssec2012=ssec2012.iloc[:,2:]\n",
    "ssec2012.head(2)"
   ]
  },
  {
   "cell_type": "code",
   "execution_count": 14,
   "metadata": {},
   "outputs": [
    {
     "data": {
      "text/html": [
       "<div>\n",
       "<style scoped>\n",
       "    .dataframe tbody tr th:only-of-type {\n",
       "        vertical-align: middle;\n",
       "    }\n",
       "\n",
       "    .dataframe tbody tr th {\n",
       "        vertical-align: top;\n",
       "    }\n",
       "\n",
       "    .dataframe thead th {\n",
       "        text-align: right;\n",
       "    }\n",
       "</style>\n",
       "<table border=\"1\" class=\"dataframe\">\n",
       "  <thead>\n",
       "    <tr style=\"text-align: right;\">\n",
       "      <th></th>\n",
       "      <th>Open</th>\n",
       "      <th>High</th>\n",
       "      <th>Low</th>\n",
       "      <th>Close</th>\n",
       "      <th>Volume</th>\n",
       "    </tr>\n",
       "    <tr>\n",
       "      <th>Date</th>\n",
       "      <th></th>\n",
       "      <th></th>\n",
       "      <th></th>\n",
       "      <th></th>\n",
       "      <th></th>\n",
       "    </tr>\n",
       "  </thead>\n",
       "  <tbody>\n",
       "    <tr>\n",
       "      <th>2012-12-28</th>\n",
       "      <td>2207.913086</td>\n",
       "      <td>2234.868896</td>\n",
       "      <td>2204.002930</td>\n",
       "      <td>2233.251953</td>\n",
       "      <td>116000</td>\n",
       "    </tr>\n",
       "    <tr>\n",
       "      <th>2012-12-31</th>\n",
       "      <td>2236.460938</td>\n",
       "      <td>2269.511963</td>\n",
       "      <td>2236.460938</td>\n",
       "      <td>2269.127930</td>\n",
       "      <td>128000</td>\n",
       "    </tr>\n",
       "  </tbody>\n",
       "</table>\n",
       "</div>"
      ],
      "text/plain": [
       "                   Open         High          Low        Close  Volume\n",
       "Date                                                                  \n",
       "2012-12-28  2207.913086  2234.868896  2204.002930  2233.251953  116000\n",
       "2012-12-31  2236.460938  2269.511963  2236.460938  2269.127930  128000"
      ]
     },
     "execution_count": 14,
     "metadata": {},
     "output_type": "execute_result"
    }
   ],
   "source": [
    "ssec2012.iloc[-2:,:]"
   ]
  },
  {
   "cell_type": "code",
   "execution_count": 15,
   "metadata": {},
   "outputs": [],
   "source": [
    "Close=ssec2012.Close\n",
    "Open=ssec2012.Open"
   ]
  },
  {
   "cell_type": "code",
   "execution_count": 16,
   "metadata": {},
   "outputs": [
    {
     "data": {
      "text/plain": [
       "Date\n",
       "2012-01-04   -42.605224\n",
       "2012-01-05   -12.445069\n",
       "2012-01-06    15.248047\n",
       "2012-01-09    61.148926\n",
       "2012-01-10    63.911865\n",
       "dtype: float64"
      ]
     },
     "execution_count": 16,
     "metadata": {},
     "output_type": "execute_result"
    }
   ],
   "source": [
    "# compute the difference of daily open and close\n",
    "ClOp=Close-Open\n",
    "ClOp.head()"
   ]
  },
  {
   "cell_type": "code",
   "execution_count": 17,
   "metadata": {},
   "outputs": [
    {
     "data": {
      "text/plain": [
       "count    243.000000\n",
       "mean       2.244368\n",
       "std       22.884043\n",
       "min      -73.685059\n",
       "25%      -11.442016\n",
       "50%        1.513183\n",
       "75%       14.296997\n",
       "max       91.843994\n",
       "dtype: float64"
      ]
     },
     "execution_count": 17,
     "metadata": {},
     "output_type": "execute_result"
    }
   ],
   "source": [
    "ClOp.describe()"
   ]
  },
  {
   "cell_type": "code",
   "execution_count": 18,
   "metadata": {},
   "outputs": [
    {
     "data": {
      "text/plain": [
       "165"
      ]
     },
     "execution_count": 18,
     "metadata": {},
     "output_type": "execute_result"
    }
   ],
   "source": [
    "Shape = [0,0,0]\n",
    "lag1ClOp=ClOp.shift(1)\n",
    "lag2ClOp=ClOp.shift(2)\n",
    "# make decisions\n",
    "for i in range(3,len(ClOp),1):\n",
    "    if all([lag2ClOp[i]<-11,abs(lag1ClOp[i])<2,ClOp[i]>6,abs(ClOp[i])>abs(lag2ClOp[i]*0.5)]):\n",
    "        Shape.append(1)\n",
    "    else:\n",
    "        Shape.append(0)\n",
    "# return the index of the 1st '1' (the star we arr looking for)\n",
    "Shape.index(1)"
   ]
  },
  {
   "cell_type": "code",
   "execution_count": 19,
   "metadata": {},
   "outputs": [],
   "source": [
    "# catch the direction and plot\n",
    "lagOpen=Open.shift(1)\n",
    "lagClose=Close.shift(1)\n",
    "lag2Close=Close.shift(2)"
   ]
  },
  {
   "cell_type": "code",
   "execution_count": 20,
   "metadata": {},
   "outputs": [
    {
     "data": {
      "text/plain": [
       "12"
      ]
     },
     "execution_count": 20,
     "metadata": {},
     "output_type": "execute_result"
    }
   ],
   "source": [
    "# find doji\n",
    "Doji=[0,0,0]\n",
    "for i in range(3,len(Open),1):\n",
    "    if all([lagOpen[i]<Open[i],lagOpen[i]<lag2Close[i],lagClose[i]<Open[i],(lagClose[i]<lag2Close[i])]):\n",
    "        Doji.append(1)\n",
    "    else:\n",
    "        Doji.append(0)\n",
    "Doji.count(1)"
   ]
  },
  {
   "cell_type": "code",
   "execution_count": 21,
   "metadata": {},
   "outputs": [],
   "source": [
    "# illustrate the flop tendency\n",
    "ret=Close/Close.shift(1)-1\n",
    "lag1ret=ret.shift(1)\n",
    "lag2ret=ret.shift(2)\n",
    "Trend=[0,0,0]\n",
    "# find the flop trend \n",
    "for i in range(3,len(ret)):\n",
    "    if all([lag1ret[i]<0,lag2ret[i]<0]):\n",
    "        Trend.append(1)\n",
    "    else:\n",
    "        Trend.append(0)"
   ]
  },
  {
   "cell_type": "code",
   "execution_count": 22,
   "metadata": {},
   "outputs": [
    {
     "name": "stdout",
     "output_type": "stream",
     "text": [
      "2012-09-06 00:00:00\n"
     ]
    }
   ],
   "source": [
    "StarSig=[]\n",
    "# use the three signals above to find the star\n",
    "for i in range(len(Trend)):\n",
    "    if all([Shape[i]==1,Doji[i]==1,Trend[i]==1]):\n",
    "        StarSig.append(1)\n",
    "    else:\n",
    "        StarSig.append(0)\n",
    "# consider 2012's trend\n",
    "for i in range(len(StarSig)):\n",
    "    if StarSig[i]==1:\n",
    "        print(ssec2012.index[i])"
   ]
  },
  {
   "cell_type": "code",
   "execution_count": 24,
   "metadata": {},
   "outputs": [
    {
     "name": "stderr",
     "output_type": "stream",
     "text": [
      "/anaconda3/lib/python3.6/site-packages/pandas/core/indexing.py:362: SettingWithCopyWarning: \n",
      "A value is trying to be set on a copy of a slice from a DataFrame.\n",
      "Try using .loc[row_indexer,col_indexer] = value instead\n",
      "\n",
      "See the caveats in the documentation: http://pandas.pydata.org/pandas-docs/stable/indexing.html#indexing-view-versus-copy\n",
      "  self.obj[key] = _infer_fill_value(value)\n",
      "/anaconda3/lib/python3.6/site-packages/pandas/core/indexing.py:543: SettingWithCopyWarning: \n",
      "A value is trying to be set on a copy of a slice from a DataFrame.\n",
      "Try using .loc[row_indexer,col_indexer] = value instead\n",
      "\n",
      "See the caveats in the documentation: http://pandas.pydata.org/pandas-docs/stable/indexing.html#indexing-view-versus-copy\n",
      "  self.obj[item] = s\n",
      "/anaconda3/lib/python3.6/site-packages/matplotlib/font_manager.py:1331: UserWarning: findfont: Font family ['sans-serif'] not found. Falling back to DejaVu Sans\n",
      "  (prop.get_family(), self.defaultFamily[fontext]))\n"
     ]
    },
    {
     "data": {
      "image/png": "[encoded data removed]",
      "text/plain": [
       "<Figure size 432x288 with 1 Axes>"
      ]
     },
     "metadata": {},
     "output_type": "display_data"
    }
   ],
   "source": [
    "# extract trading data and plot\n",
    "ssec201209=ssec2012['2012-08-21':'2012-09-30']\n",
    "# need to specify path before import\n",
    "# import candle.py\n",
    "import candle\n",
    "candle.candlePlot(ssec201209, title='SH 2012.9 daily K-lines')"
   ]
  },
  {
   "cell_type": "code",
   "execution_count": 25,
   "metadata": {},
   "outputs": [],
   "source": [
    "# Dark Cloud Cover & embrace line\n",
    "# higher negative following lower positive \n",
    "# bigger negative following smaller positive "
   ]
  },
  {
   "cell_type": "code",
   "execution_count": 26,
   "metadata": {},
   "outputs": [],
   "source": [
    "ssec2011=pd.read_csv('SSEC2011.csv')\n",
    "ssec2011.index=ssec2011.iloc[:,1]\n",
    "ssec2011.index=pd.to_datetime(ssec2011.index, format='%Y-%m-%d')\n",
    "ssec2011=ssec2011.iloc[:,2:]"
   ]
  },
  {
   "cell_type": "code",
   "execution_count": 27,
   "metadata": {},
   "outputs": [],
   "source": [
    "Close11=ssec2011.Close\n",
    "Open11=ssec2011.Open"
   ]
  },
  {
   "cell_type": "code",
   "execution_count": 28,
   "metadata": {},
   "outputs": [],
   "source": [
    "# find two candles\n",
    "lagClose11=Close11.shift(1)\n",
    "lagOpen11=Open11.shift(1)\n",
    "Cloud=pd.Series(0,index=Close11.index)\n",
    "for i in range(1,len(Close11)):\n",
    "    if all([Close11[i]<Open11[i],lagClose11[i]>lagOpen11[i],Open11[i]>lagClose11[i],\\\n",
    "            Close11[i]<0.5*(lagClose11[i]+lagOpen11[i]),Close11[i]>lagOpen11[i]]):\n",
    "        Cloud[i]=1"
   ]
  },
  {
   "cell_type": "code",
   "execution_count": 29,
   "metadata": {},
   "outputs": [
    {
     "data": {
      "text/plain": [
       "Date\n",
       "2011-05-19    2\n",
       "2011-08-16    2\n",
       "dtype: int64"
      ]
     },
     "execution_count": 29,
     "metadata": {},
     "output_type": "execute_result"
    }
   ],
   "source": [
    "# define ascending trend\n",
    "Trend=pd.Series(0,index=Close11.index)\n",
    "for i in range(2,len(Close11)):\n",
    "    if Close11[i-1]>Close11[i-2]>Close11[i-3]:\n",
    "        Trend[i]=1\n",
    "# find dark clouds\n",
    "darkCloud=Cloud+Trend\n",
    "darkCloud[darkCloud==2]"
   ]
  },
  {
   "cell_type": "code",
   "execution_count": 32,
   "metadata": {},
   "outputs": [
    {
     "name": "stderr",
     "output_type": "stream",
     "text": [
      "/anaconda3/lib/python3.6/site-packages/pandas/core/indexing.py:362: SettingWithCopyWarning: \n",
      "A value is trying to be set on a copy of a slice from a DataFrame.\n",
      "Try using .loc[row_indexer,col_indexer] = value instead\n",
      "\n",
      "See the caveats in the documentation: http://pandas.pydata.org/pandas-docs/stable/indexing.html#indexing-view-versus-copy\n",
      "  self.obj[key] = _infer_fill_value(value)\n",
      "/anaconda3/lib/python3.6/site-packages/pandas/core/indexing.py:630: SettingWithCopyWarning: \n",
      "A value is trying to be set on a copy of a slice from a DataFrame.\n",
      "Try using .loc[row_indexer,col_indexer] = value instead\n",
      "\n",
      "See the caveats in the documentation: http://pandas.pydata.org/pandas-docs/stable/indexing.html#indexing-view-versus-copy\n",
      "  self.obj[item_labels[indexer[info_axis]]] = value\n",
      "/anaconda3/lib/python3.6/site-packages/matplotlib/font_manager.py:1331: UserWarning: findfont: Font family ['sans-serif'] not found. Falling back to DejaVu Sans\n",
      "  (prop.get_family(), self.defaultFamily[fontext]))\n"
     ]
    },
    {
     "data": {
      "image/png": "[encoded data removed]",
      "text/plain": [
       "<Figure size 432x288 with 1 Axes>"
      ]
     },
     "metadata": {},
     "output_type": "display_data"
    }
   ],
   "source": [
    "ssec201105=ssec2011['2011-05-01':'2011-05-30']           \n",
    "candle.candlePlot(ssec201105, title='SH 2011.5 K-lines')"
   ]
  },
  {
   "cell_type": "code",
   "execution_count": 33,
   "metadata": {},
   "outputs": [
    {
     "name": "stderr",
     "output_type": "stream",
     "text": [
      "/anaconda3/lib/python3.6/site-packages/pandas/core/indexing.py:362: SettingWithCopyWarning: \n",
      "A value is trying to be set on a copy of a slice from a DataFrame.\n",
      "Try using .loc[row_indexer,col_indexer] = value instead\n",
      "\n",
      "See the caveats in the documentation: http://pandas.pydata.org/pandas-docs/stable/indexing.html#indexing-view-versus-copy\n",
      "  self.obj[key] = _infer_fill_value(value)\n",
      "/anaconda3/lib/python3.6/site-packages/pandas/core/indexing.py:630: SettingWithCopyWarning: \n",
      "A value is trying to be set on a copy of a slice from a DataFrame.\n",
      "Try using .loc[row_indexer,col_indexer] = value instead\n",
      "\n",
      "See the caveats in the documentation: http://pandas.pydata.org/pandas-docs/stable/indexing.html#indexing-view-versus-copy\n",
      "  self.obj[item_labels[indexer[info_axis]]] = value\n",
      "/anaconda3/lib/python3.6/site-packages/matplotlib/font_manager.py:1331: UserWarning: findfont: Font family ['sans-serif'] not found. Falling back to DejaVu Sans\n",
      "  (prop.get_family(), self.defaultFamily[fontext]))\n"
     ]
    },
    {
     "data": {
      "image/png": "[encoded data removed]",
      "text/plain": [
       "<Figure size 432x288 with 1 Axes>"
      ]
     },
     "metadata": {},
     "output_type": "display_data"
    }
   ],
   "source": [
    "ssec201108=ssec2011['2011-08-01':'2011-08-30']\n",
    "candle.candlePlot(ssec201108, title='SH 2011.8 K-lines')"
   ]
  },
  {
   "cell_type": "code",
   "execution_count": 71,
   "metadata": {},
   "outputs": [],
   "source": []
  },
  {
   "cell_type": "code",
   "execution_count": null,
   "metadata": {},
   "outputs": [],
   "source": []
  },
  {
   "cell_type": "code",
   "execution_count": null,
   "metadata": {},
   "outputs": [],
   "source": []
  }
 ],
 "metadata": {
  "kernelspec": {
   "display_name": "Python 3",
   "language": "python",
   "name": "python3"
  },
  "language_info": {
   "codemirror_mode": {
    "name": "ipython",
    "version": 3
   },
   "file_extension": ".py",
   "mimetype": "text/x-python",
   "name": "python",
   "nbconvert_exporter": "python",
   "pygments_lexer": "ipython3",
   "version": "3.6.5"
  }
 },
 "nbformat": 4,
 "nbformat_minor": 2
}
