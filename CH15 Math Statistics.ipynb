{
 "cells": [
  {
   "cell_type": "code",
   "execution_count": 1,
   "metadata": {},
   "outputs": [
    {
     "data": {
      "text/plain": [
       "(9.8772248927975479, 10.222775107202454)"
      ]
     },
     "execution_count": 1,
     "metadata": {},
     "output_type": "execute_result"
    }
   ],
   "source": [
    "#interval estimation\n",
    "from scipy import stats\n",
    "import numpy as np\n",
    "x=[10.1,10,9.8,10.5,9.7,\\\n",
    "  10.1,9.9,10.2,10.3,9.9]#initialize\n",
    "stats.t.interval(0.95,len(x)-1,np.mean(x),stats.sem(x))"
   ]
  },
  {
   "cell_type": "code",
   "execution_count": 9,
   "metadata": {},
   "outputs": [
    {
     "data": {
      "text/plain": [
       "<matplotlib.axes._subplots.AxesSubplot at 0x1173e05c0>"
      ]
     },
     "execution_count": 9,
     "metadata": {},
     "output_type": "execute_result"
    },
    {
     "data": {
      "image/png": "[encoded data removed]",
      "text/plain": [
       "<Figure size 432x288 with 1 Axes>"
      ]
     },
     "metadata": {},
     "output_type": "display_data"
    }
   ],
   "source": [
    "#analyze SHindex\n",
    "#before analyzing its means, we have to estimate its distributions\n",
    "import pandas as pd\n",
    "SHindex=pd.read_csv('TRD_Index.csv')\n",
    "Retindex=SHindex.Retindex#extract return sequence\n",
    "Retindex.hist()"
   ]
  },
  {
   "cell_type": "code",
   "execution_count": 12,
   "metadata": {},
   "outputs": [
    {
     "data": {
      "text/plain": [
       "[<matplotlib.lines.Line2D at 0x11531bb00>]"
      ]
     },
     "execution_count": 12,
     "metadata": {},
     "output_type": "execute_result"
    },
    {
     "data": {
      "image/png": "[encoded data removed]",
      "text/plain": [
       "<Figure size 432x288 with 1 Axes>"
      ]
     },
     "metadata": {},
     "output_type": "display_data"
    }
   ],
   "source": [
    "mu=Retindex.mean()\n",
    "sigma=Retindex.std()\n",
    "import matplotlib.pyplot as plt\n",
    "plt.plot(np.arange(-0.06,0.062,0.002),\\\n",
    "        stats.norm.pdf(np.arange(-0.06,0.062,0.002),\\\n",
    "        mu,sigma))"
   ]
  },
  {
   "cell_type": "code",
   "execution_count": 14,
   "metadata": {},
   "outputs": [
    {
     "data": {
      "text/plain": [
       "(-0.00061124370129507781, 0.00073188726565151367)"
      ]
     },
     "execution_count": 14,
     "metadata": {},
     "output_type": "execute_result"
    }
   ],
   "source": [
    "stats.t.interval(0.95,len(Retindex)-1,np.mean(Retindex),stats.sem(Retindex))\n",
    "#interval est. for mean"
   ]
  },
  {
   "cell_type": "code",
   "execution_count": 19,
   "metadata": {},
   "outputs": [
    {
     "data": {
      "text/plain": [
       "Ttest_1sampResult(statistic=0.5532263041157256, pvalue=0.58021065517057679)"
      ]
     },
     "execution_count": 19,
     "metadata": {},
     "output_type": "execute_result"
    }
   ],
   "source": [
    "#hypothesis test\n",
    "#one sample t test\n",
    "TRD_Index=pd.read_table('TRD_Index.txt',sep='\\t')\n",
    "SHindex=TRD_Index[TRD_Index.Indexcd==1]\n",
    "SHRet=SHindex.Retindex\n",
    "stats.ttest_1samp(SHRet,0)\n",
    "#test if the \\mu==0\n",
    "#if significant level==5%<p value, then we do not reject null hypothesis"
   ]
  },
  {
   "cell_type": "code",
   "execution_count": 21,
   "metadata": {},
   "outputs": [
    {
     "data": {
      "text/plain": [
       "Ttest_indResult(statistic=-0.72987989529568853, pvalue=0.46553424479899419)"
      ]
     },
     "execution_count": 21,
     "metadata": {},
     "output_type": "execute_result"
    }
   ],
   "source": [
    "#independent samples t test\n",
    "#test if two samples have the same \\mu\n",
    "SZindex=TRD_Index[TRD_Index.Indexcd==399106]\n",
    "SZRet=SZindex.Retindex\n",
    "stats.ttest_ind(SHRet,SZRet)\n",
    "#do not reject"
   ]
  },
  {
   "cell_type": "code",
   "execution_count": 24,
   "metadata": {},
   "outputs": [
    {
     "data": {
      "text/plain": [
       "Ttest_relResult(statistic=-2.2428576035269878, pvalue=0.02508644157970355)"
      ]
     },
     "execution_count": 24,
     "metadata": {},
     "output_type": "execute_result"
    }
   ],
   "source": [
    "#paired sample t test\n",
    "#when two samples are correlated, it's very much like one sample t test\n",
    "#the same sample size is needed for both samples\n",
    "stats.ttest_rel(SHRet,SZRet)\n",
    "#this time, indeed reject"
   ]
  },
  {
   "cell_type": "code",
   "execution_count": null,
   "metadata": {},
   "outputs": [],
   "source": []
  }
 ],
 "metadata": {
  "kernelspec": {
   "display_name": "Python 3",
   "language": "python",
   "name": "python3"
  },
  "language_info": {
   "codemirror_mode": {
    "name": "ipython",
    "version": 3
   },
   "file_extension": ".py",
   "mimetype": "text/x-python",
   "name": "python",
   "nbconvert_exporter": "python",
   "pygments_lexer": "ipython3",
   "version": "3.6.5"
  }
 },
 "nbformat": 4,
 "nbformat_minor": 2
}
