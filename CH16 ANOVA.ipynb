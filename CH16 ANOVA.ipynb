{
 "cells": [
  {
   "cell_type": "code",
   "execution_count": 1,
   "metadata": {},
   "outputs": [],
   "source": [
    "# ANOVA analysises the relationships between different variables which affects the result\n",
    "# for example, we may ask whether stocks in different insustries have different returns?\n",
    "# Factors (regions or industries, whose components are called levels) \\\n",
    "# affect response variables (returns of stocks)\n",
    "# ANOVA emphasises to compare between different groups and determine whether it is significant"
   ]
  },
  {
   "cell_type": "code",
   "execution_count": 2,
   "metadata": {},
   "outputs": [],
   "source": [
    "# when we are going to analysis a specific problem, we can only control some factors\\\n",
    "# others are stochastic, whcih is always stated as errors"
   ]
  },
  {
   "cell_type": "code",
   "execution_count": 3,
   "metadata": {},
   "outputs": [],
   "source": [
    "# under j level, y_ij-\\bar{y}=y_ij-\\bar{y_j}+\\bar{y_j}-\\bar{y}\n",
    "# TSS=\\sum (y_ij-\\bar{y})^2=\\sum (y_ij-\\bar{y_j})^2+\\sum (\\bar{y_j}-\\bar{y})^2=ESS+FSS\n",
    "# degree of freedom: N-1=M-1+N-M"
   ]
  },
  {
   "cell_type": "code",
   "execution_count": 4,
   "metadata": {},
   "outputs": [],
   "source": [
    "# significance test\n",
    "# assume Y_ij~N(\\mu_j,\\sigma_0^2)\n",
    "# the larger MSF, the more significant the factor\n",
    "# consider the critical value, if it is too large then we reject the null hypothesis"
   ]
  },
  {
   "cell_type": "code",
   "execution_count": 14,
   "metadata": {},
   "outputs": [
    {
     "name": "stdout",
     "output_type": "stream",
     "text": [
      "                 df      sum_sq   mean_sq         F        PR(>F)\n",
      "C(Industry)    74.0   60.517228  0.817800  4.177614  4.382045e-28\n",
      "Residual     2302.0  450.634318  0.195758       NaN           NaN\n"
     ]
    }
   ],
   "source": [
    "#single factor ANOVA\n",
    "#we simply consider the influence of one factor--industries\n",
    "import pandas as pd\n",
    "import statsmodels.stats.anova as anova\n",
    "from statsmodels.formula.api import ols\n",
    "year_return=pd.read_csv('TRD_year.csv',\\\n",
    "                       encoding='gbk')\n",
    "year_return.dropna()\n",
    "model=ols('Return~C(Industry)',\\\n",
    "        data=year_return.dropna()).fit()\n",
    "table1=anova.anova_lm(model)\n",
    "print(table1)"
   ]
  },
  {
   "cell_type": "code",
   "execution_count": 18,
   "metadata": {},
   "outputs": [
    {
     "name": "stdout",
     "output_type": "stream",
     "text": [
      "                df        sum_sq       mean_sq          F         PR(>F)\n",
      "C(married)     6.0  1.956487e+10  3.260811e+09  15.551238   9.355695e-18\n",
      "C(educatn)    19.0  2.082990e+11  1.096311e+10  52.284500  9.947527e-180\n",
      "Residual    4829.0  1.012553e+12  2.096818e+08        NaN            NaN\n"
     ]
    }
   ],
   "source": [
    "#multi factor ANOVA\n",
    "PSID=pd.read_csv('PSID.csv')\n",
    "model=ols('earnings~C(married)+C(educatn)',\\\n",
    "         data=PSID.dropna()).fit()\n",
    "table2=anova.anova_lm(model)\n",
    "print(table2)"
   ]
  },
  {
   "cell_type": "code",
   "execution_count": 19,
   "metadata": {},
   "outputs": [
    {
     "name": "stdout",
     "output_type": "stream",
     "text": [
      "                           df        sum_sq       mean_sq          F  \\\n",
      "C(married)                6.0  1.956487e+10  3.260811e+09  15.477314   \n",
      "C(educatn)               19.0  2.082990e+11  1.096311e+10  52.035962   \n",
      "C(married):C(educatn)   114.0  2.250816e+10  1.974400e+08   0.937141   \n",
      "Residual               4745.0  9.996921e+11  2.106833e+08        NaN   \n",
      "\n",
      "                              PR(>F)  \n",
      "C(married)              1.160545e-17  \n",
      "C(educatn)             1.334463e-178  \n",
      "C(married):C(educatn)   6.687800e-01  \n",
      "Residual                         NaN  \n"
     ]
    }
   ],
   "source": [
    "#factorial ANOVA\n",
    "model=ols('earnings~C(married)*C(educatn)',\\\n",
    "         data=PSID.dropna()).fit()\n",
    "table3=anova.anova_lm(model)\n",
    "print(table3)"
   ]
  },
  {
   "cell_type": "code",
   "execution_count": null,
   "metadata": {},
   "outputs": [],
   "source": [
    "#ANOVA tells us that whether a factor is affecting a continuous type variable"
   ]
  }
 ],
 "metadata": {
  "kernelspec": {
   "display_name": "Python 3",
   "language": "python",
   "name": "python3"
  },
  "language_info": {
   "codemirror_mode": {
    "name": "ipython",
    "version": 3
   },
   "file_extension": ".py",
   "mimetype": "text/x-python",
   "name": "python",
   "nbconvert_exporter": "python",
   "pygments_lexer": "ipython3",
   "version": "3.6.5"
  }
 },
 "nbformat": 4,
 "nbformat_minor": 2
}
