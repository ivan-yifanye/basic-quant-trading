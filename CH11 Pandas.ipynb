{
 "cells": [
  {
   "cell_type": "code",
   "execution_count": 3,
   "metadata": {},
   "outputs": [
    {
     "data": {
      "text/plain": [
       "Series([], dtype: float64)"
      ]
     },
     "execution_count": 3,
     "metadata": {},
     "output_type": "execute_result"
    }
   ],
   "source": [
    "import pandas as pd\n",
    "import numpy as np\n",
    "S1=pd.Series()\n",
    "S1#a null series"
   ]
  },
  {
   "cell_type": "code",
   "execution_count": 4,
   "metadata": {},
   "outputs": [
    {
     "data": {
      "text/plain": [
       "(a    1\n",
       " b    3\n",
       " c    5\n",
       " d    7\n",
       " e    9\n",
       " dtype: int64,\n",
       " array([1, 3, 5, 7, 9]),\n",
       " Index(['a', 'b', 'c', 'd', 'e'], dtype='object'))"
      ]
     },
     "execution_count": 4,
     "metadata": {},
     "output_type": "execute_result"
    }
   ],
   "source": [
    "S2=pd.Series([1,3,5,7,9],\\\n",
    "            index=['a','b','c','d','e'])\n",
    "S2,S2.values,S2.index"
   ]
  },
  {
   "cell_type": "code",
   "execution_count": 5,
   "metadata": {},
   "outputs": [
    {
     "data": {
      "text/plain": [
       "a    1\n",
       "b    2\n",
       "c    3\n",
       "dtype: int64"
      ]
     },
     "execution_count": 5,
     "metadata": {},
     "output_type": "execute_result"
    }
   ],
   "source": [
    "pd.Series({'a':1,'b':2,'c':3})"
   ]
  },
  {
   "cell_type": "code",
   "execution_count": 6,
   "metadata": {},
   "outputs": [
    {
     "data": {
      "text/plain": [
       "0    1\n",
       "1    2\n",
       "2    3\n",
       "3    4\n",
       "4    5\n",
       "dtype: int64"
      ]
     },
     "execution_count": 6,
     "metadata": {},
     "output_type": "execute_result"
    }
   ],
   "source": [
    "pd.Series([1,2,3,4,5])#using default index"
   ]
  },
  {
   "cell_type": "code",
   "execution_count": 7,
   "metadata": {},
   "outputs": [
    {
     "data": {
      "text/plain": [
       "(0    0.223979\n",
       " 1    0.744591\n",
       " 2   -0.334269\n",
       " 3    1.389172\n",
       " 4   -2.296095\n",
       " dtype: float64, 0    2\n",
       " 1    3\n",
       " 2    4\n",
       " 3    5\n",
       " dtype: int64)"
      ]
     },
     "execution_count": 7,
     "metadata": {},
     "output_type": "execute_result"
    }
   ],
   "source": [
    "np.random.seed(54321)#random seed\n",
    "pd.Series(np.random.randn(5)),pd.Series(np.arange(2,6))"
   ]
  },
  {
   "cell_type": "code",
   "execution_count": 8,
   "metadata": {},
   "outputs": [
    {
     "data": {
      "text/plain": [
       "(0      0\n",
       " 1    NaN\n",
       " 2      2\n",
       " 3      4\n",
       " 4      6\n",
       " dtype: object, 3       4\n",
       " 4       6\n",
       " 5       8\n",
       " 6    True\n",
       " 7      10\n",
       " 8      12\n",
       " dtype: object, 2    2\n",
       " 4    6\n",
       " 0    0\n",
       " dtype: object)"
      ]
     },
     "execution_count": 8,
     "metadata": {},
     "output_type": "execute_result"
    }
   ],
   "source": [
    "S4=pd.Series([0,np.NaN,2,4,6,8,\\\n",
    "            True, 10,12])\n",
    "S4.head(),S4.tail(6),S4.take([2,4,0])"
   ]
  },
  {
   "cell_type": "code",
   "execution_count": 9,
   "metadata": {},
   "outputs": [
    {
     "data": {
      "text/plain": [
       "(5, 7, a    1\n",
       " c    5\n",
       " dtype: int64)"
      ]
     },
     "execution_count": 9,
     "metadata": {},
     "output_type": "execute_result"
    }
   ],
   "source": [
    "S5=pd.Series([1,3,5,7,9],\\\n",
    "            index=['a','b','c','d','e'])\n",
    "S5[2],S2['d'],S2[['a','c']]"
   ]
  },
  {
   "cell_type": "code",
   "execution_count": 10,
   "metadata": {},
   "outputs": [
    {
     "data": {
      "text/plain": [
       "(a    1\n",
       " b    3\n",
       " c    5\n",
       " d    7\n",
       " e    9\n",
       " dtype: int64, a    1\n",
       " b    3\n",
       " c    5\n",
       " d    7\n",
       " dtype: int64)"
      ]
     },
     "execution_count": 10,
     "metadata": {},
     "output_type": "execute_result"
    }
   ],
   "source": [
    "#slice by indexes, including end point\n",
    "#slice by locations, not including end point \n",
    "S5['a':'e'],S5[0:4]"
   ]
  },
  {
   "cell_type": "code",
   "execution_count": 11,
   "metadata": {},
   "outputs": [],
   "source": [
    "#Time series are special series with indexes being timestamp\n",
    "from datetime import datetime\n",
    "import pandas as pd\n",
    "date=datetime(2016,1,1)\n",
    "date=pd.Timestamp(date)\n",
    "ts=pd.Series(1,index=[date])\n",
    "#complicated because the function datestamp can not be used by groups"
   ]
  },
  {
   "cell_type": "code",
   "execution_count": 12,
   "metadata": {},
   "outputs": [],
   "source": [
    "dates=['2016-01-01','2016-01-02','2016-01-03']\n",
    "ts=pd.Series([1,2,3],index=pd.to_datetime(dates))\n",
    "#fix the problem above"
   ]
  },
  {
   "cell_type": "code",
   "execution_count": 13,
   "metadata": {},
   "outputs": [
    {
     "data": {
      "text/plain": [
       "(1, 1, 1)"
      ]
     },
     "execution_count": 13,
     "metadata": {},
     "output_type": "execute_result"
    }
   ],
   "source": [
    "#Time series are just special series, nothing difficult\n",
    "ts['01/01/2016'],ts['20160101'],ts['2016-01-01']"
   ]
  },
  {
   "cell_type": "code",
   "execution_count": 14,
   "metadata": {},
   "outputs": [
    {
     "data": {
      "text/plain": [
       "(2016-01-01    1\n",
       " 2016-01-02    2\n",
       " 2016-01-03    3\n",
       " dtype: int64, 2016-01-01    1\n",
       " 2016-01-02    2\n",
       " 2016-01-03    3\n",
       " dtype: int64)"
      ]
     },
     "execution_count": 14,
     "metadata": {},
     "output_type": "execute_result"
    }
   ],
   "source": [
    "ts['2016'],ts['2016-01':'2016-02']"
   ]
  },
  {
   "cell_type": "code",
   "execution_count": 15,
   "metadata": {},
   "outputs": [
    {
     "data": {
      "text/plain": [
       "(2016-01-01    1\n",
       " 2016-01-02    2\n",
       " dtype: int64, 2016-01-02    2\n",
       " 2016-01-03    3\n",
       " dtype: int64)"
      ]
     },
     "execution_count": 15,
     "metadata": {},
     "output_type": "execute_result"
    }
   ],
   "source": [
    "ts.truncate(after='2016-01-02'),ts.truncate(before='2016-01-02')"
   ]
  },
  {
   "cell_type": "code",
   "execution_count": 16,
   "metadata": {},
   "outputs": [
    {
     "data": {
      "text/plain": [
       "(2016-01-01    NaN\n",
       " 2016-01-02    1.0\n",
       " 2016-01-03    2.0\n",
       " dtype: float64, 2016-01-01    2.0\n",
       " 2016-01-02    3.0\n",
       " 2016-01-03    NaN\n",
       " dtype: float64)"
      ]
     },
     "execution_count": 16,
     "metadata": {},
     "output_type": "execute_result"
    }
   ],
   "source": [
    "ts.shift(1),ts.shift(-1)"
   ]
  },
  {
   "cell_type": "code",
   "execution_count": 17,
   "metadata": {},
   "outputs": [
    {
     "data": {
      "text/plain": [
       "2016-01-01         NaN\n",
       "2016-01-02    0.010816\n",
       "2016-01-03    0.021887\n",
       "2016-01-04   -0.017135\n",
       "2016-01-05    0.033414\n",
       "dtype: float64"
      ]
     },
     "execution_count": 17,
     "metadata": {},
     "output_type": "execute_result"
    }
   ],
   "source": [
    "#Example: compute returns\n",
    "price=pd.Series([20.34,20.56,21.01,20.65,21.34],\\\n",
    "               index=pd.to_datetime(['2016-01-01','2016-01-02',\\\n",
    "                                    '2016-01-03','2016-01-04',\\\n",
    "                                    '2016-01-05']))\n",
    "(price-price.shift(1))/price.shift(1)"
   ]
  },
  {
   "cell_type": "code",
   "execution_count": 18,
   "metadata": {},
   "outputs": [
    {
     "data": {
      "text/plain": [
       "True"
      ]
     },
     "execution_count": 18,
     "metadata": {},
     "output_type": "execute_result"
    }
   ],
   "source": [
    "#transition between high-frequency data and low-frequency data\n",
    "ts.index.freq is None"
   ]
  },
  {
   "cell_type": "code",
   "execution_count": 19,
   "metadata": {},
   "outputs": [
    {
     "data": {
      "text/plain": [
       "DatetimeIndexResampler [freq=<MonthBegin>, axis=0, closed=left, label=left, convention=start, base=0]"
      ]
     },
     "execution_count": 19,
     "metadata": {},
     "output_type": "execute_result"
    }
   ],
   "source": [
    "rts=ts.resample('MS',how=None)\n",
    "#'M' indicates the last day of a month\n",
    "#'MS' indicates the first day of a month\n",
    "rts"
   ]
  },
  {
   "cell_type": "code",
   "execution_count": 20,
   "metadata": {},
   "outputs": [
    {
     "data": {
      "text/html": [
       "<div>\n",
       "<style scoped>\n",
       "    .dataframe tbody tr th:only-of-type {\n",
       "        vertical-align: middle;\n",
       "    }\n",
       "\n",
       "    .dataframe tbody tr th {\n",
       "        vertical-align: top;\n",
       "    }\n",
       "\n",
       "    .dataframe thead th {\n",
       "        text-align: right;\n",
       "    }\n",
       "</style>\n",
       "<table border=\"1\" class=\"dataframe\">\n",
       "  <thead>\n",
       "    <tr style=\"text-align: right;\">\n",
       "      <th></th>\n",
       "      <th>A</th>\n",
       "      <th>B</th>\n",
       "      <th>C</th>\n",
       "      <th>D</th>\n",
       "    </tr>\n",
       "  </thead>\n",
       "  <tbody>\n",
       "    <tr>\n",
       "      <th>2016-01-01</th>\n",
       "      <td>1.141205</td>\n",
       "      <td>0.055448</td>\n",
       "      <td>-0.082760</td>\n",
       "      <td>-0.651688</td>\n",
       "    </tr>\n",
       "    <tr>\n",
       "      <th>2016-01-02</th>\n",
       "      <td>-0.016022</td>\n",
       "      <td>-0.574465</td>\n",
       "      <td>0.048143</td>\n",
       "      <td>0.499497</td>\n",
       "    </tr>\n",
       "    <tr>\n",
       "      <th>2016-01-03</th>\n",
       "      <td>0.155397</td>\n",
       "      <td>0.762543</td>\n",
       "      <td>0.560489</td>\n",
       "      <td>0.332483</td>\n",
       "    </tr>\n",
       "    <tr>\n",
       "      <th>2016-01-04</th>\n",
       "      <td>-0.545423</td>\n",
       "      <td>0.592000</td>\n",
       "      <td>-0.565781</td>\n",
       "      <td>-0.120315</td>\n",
       "    </tr>\n",
       "    <tr>\n",
       "      <th>2016-01-05</th>\n",
       "      <td>0.429711</td>\n",
       "      <td>-0.553929</td>\n",
       "      <td>0.305712</td>\n",
       "      <td>0.219993</td>\n",
       "    </tr>\n",
       "    <tr>\n",
       "      <th>2016-01-06</th>\n",
       "      <td>0.992988</td>\n",
       "      <td>0.720928</td>\n",
       "      <td>0.338761</td>\n",
       "      <td>-0.482821</td>\n",
       "    </tr>\n",
       "  </tbody>\n",
       "</table>\n",
       "</div>"
      ],
      "text/plain": [
       "                   A         B         C         D\n",
       "2016-01-01  1.141205  0.055448 -0.082760 -0.651688\n",
       "2016-01-02 -0.016022 -0.574465  0.048143  0.499497\n",
       "2016-01-03  0.155397  0.762543  0.560489  0.332483\n",
       "2016-01-04 -0.545423  0.592000 -0.565781 -0.120315\n",
       "2016-01-05  0.429711 -0.553929  0.305712  0.219993\n",
       "2016-01-06  0.992988  0.720928  0.338761 -0.482821"
      ]
     },
     "execution_count": 20,
     "metadata": {},
     "output_type": "execute_result"
    }
   ],
   "source": [
    "#DataFrame is a set of series which share the same indexes\n",
    "dates=['2016-01-01','2016-01-02','2016-01-03','2016-01-04','2016-01-05','2016-01-06']\n",
    "dates=pd.to_datetime(dates)\n",
    "df=pd.DataFrame(np.random.randn(6,4),index=dates,columns=list('ABCD'))\n",
    "df"
   ]
  },
  {
   "cell_type": "code",
   "execution_count": 21,
   "metadata": {},
   "outputs": [],
   "source": [
    "#pd.read_table('data_file',sep='\\t',header=None,names=None)#csv or txt files are fine\n",
    "#pd.read_csv('filepath/test.csv',header=None,sep=',')"
   ]
  },
  {
   "cell_type": "code",
   "execution_count": 22,
   "metadata": {},
   "outputs": [
    {
     "data": {
      "text/plain": [
       "(                   A         B         C         D\n",
       " 2016-01-01  1.141205  0.055448 -0.082760 -0.651688\n",
       " 2016-01-02 -0.016022 -0.574465  0.048143  0.499497\n",
       " 2016-01-03  0.155397  0.762543  0.560489  0.332483\n",
       " 2016-01-04 -0.545423  0.592000 -0.565781 -0.120315\n",
       " 2016-01-05  0.429711 -0.553929  0.305712  0.219993,\n",
       "                    A         B         C         D\n",
       " 2016-01-01  1.141205  0.055448 -0.082760 -0.651688\n",
       " 2016-01-02 -0.016022 -0.574465  0.048143  0.499497\n",
       " 2016-01-03  0.155397  0.762543  0.560489  0.332483\n",
       " 2016-01-04 -0.545423  0.592000 -0.565781 -0.120315\n",
       " 2016-01-05  0.429711 -0.553929  0.305712  0.219993\n",
       " 2016-01-06  0.992988  0.720928  0.338761 -0.482821,\n",
       " Index(['A', 'B', 'C', 'D'], dtype='object'),\n",
       " DatetimeIndex(['2016-01-01', '2016-01-02', '2016-01-03', '2016-01-04',\n",
       "                '2016-01-05', '2016-01-06'],\n",
       "               dtype='datetime64[ns]', freq=None),\n",
       " array([[ 1.14120478,  0.05544775, -0.08276013, -0.65168766],\n",
       "        [-0.01602191, -0.57446469,  0.04814256,  0.49949734],\n",
       "        [ 0.15539682,  0.76254251,  0.56048876,  0.33248345],\n",
       "        [-0.54542288,  0.5920001 , -0.5657811 , -0.12031526],\n",
       "        [ 0.42971137, -0.55392888,  0.30571161,  0.21999276],\n",
       "        [ 0.99298786,  0.7209282 ,  0.33876055, -0.48282117]]),\n",
       "               A         B         C         D\n",
       " count  6.000000  6.000000  6.000000  6.000000\n",
       " mean   0.359643  0.167087  0.100760 -0.033808\n",
       " std    0.635430  0.620336  0.397675  0.463437\n",
       " min   -0.545423 -0.574465 -0.565781 -0.651688\n",
       " 25%    0.026833 -0.401585 -0.050034 -0.392195\n",
       " 50%    0.292554  0.323724  0.176927  0.049839\n",
       " 75%    0.852169  0.688696  0.330498  0.304361\n",
       " max    1.141205  0.762543  0.560489  0.499497)"
      ]
     },
     "execution_count": 22,
     "metadata": {},
     "output_type": "execute_result"
    }
   ],
   "source": [
    "df.head(),\\\n",
    "df.tail(6),\\\n",
    "df.columns,\\\n",
    "df.index,\\\n",
    "df.values,\\\n",
    "df.describe()"
   ]
  },
  {
   "cell_type": "code",
   "execution_count": 23,
   "metadata": {},
   "outputs": [
    {
     "data": {
      "text/plain": [
       "(                   A         B         C         D\n",
       " 2016-01-02 -0.016022 -0.574465  0.048143  0.499497\n",
       " 2016-01-03  0.155397  0.762543  0.560489  0.332483, 2016-01-01    1.141205\n",
       " 2016-01-02   -0.016022\n",
       " 2016-01-03    0.155397\n",
       " 2016-01-04   -0.545423\n",
       " 2016-01-05    0.429711\n",
       " 2016-01-06    0.992988\n",
       " Name: A, dtype: float64,                    A         C\n",
       " 2016-01-01  1.141205 -0.082760\n",
       " 2016-01-02 -0.016022  0.048143\n",
       " 2016-01-03  0.155397  0.560489\n",
       " 2016-01-04 -0.545423 -0.565781\n",
       " 2016-01-05  0.429711  0.305712\n",
       " 2016-01-06  0.992988  0.338761,                    A         B         C         D\n",
       " 2016-01-01  1.141205  0.055448 -0.082760 -0.651688\n",
       " 2016-01-03  0.155397  0.762543  0.560489  0.332483\n",
       " 2016-01-05  0.429711 -0.553929  0.305712  0.219993\n",
       " 2016-01-06  0.992988  0.720928  0.338761 -0.482821)"
      ]
     },
     "execution_count": 23,
     "metadata": {},
     "output_type": "execute_result"
    }
   ],
   "source": [
    "#indexing and slicing of DataFrame type datas\n",
    "df[1:3],df['A'],df[['A','C']],df[df['A']>0]"
   ]
  },
  {
   "cell_type": "code",
   "execution_count": 24,
   "metadata": {},
   "outputs": [
    {
     "data": {
      "text/html": [
       "<div>\n",
       "<style scoped>\n",
       "    .dataframe tbody tr th:only-of-type {\n",
       "        vertical-align: middle;\n",
       "    }\n",
       "\n",
       "    .dataframe tbody tr th {\n",
       "        vertical-align: top;\n",
       "    }\n",
       "\n",
       "    .dataframe thead th {\n",
       "        text-align: right;\n",
       "    }\n",
       "</style>\n",
       "<table border=\"1\" class=\"dataframe\">\n",
       "  <thead>\n",
       "    <tr style=\"text-align: right;\">\n",
       "      <th></th>\n",
       "      <th>A</th>\n",
       "      <th>B</th>\n",
       "      <th>C</th>\n",
       "    </tr>\n",
       "  </thead>\n",
       "  <tbody>\n",
       "    <tr>\n",
       "      <th>2016-01-01</th>\n",
       "      <td>1.141205</td>\n",
       "      <td>0.055448</td>\n",
       "      <td>-0.082760</td>\n",
       "    </tr>\n",
       "    <tr>\n",
       "      <th>2016-01-02</th>\n",
       "      <td>-0.016022</td>\n",
       "      <td>-0.574465</td>\n",
       "      <td>0.048143</td>\n",
       "    </tr>\n",
       "  </tbody>\n",
       "</table>\n",
       "</div>"
      ],
      "text/plain": [
       "                   A         B         C\n",
       "2016-01-01  1.141205  0.055448 -0.082760\n",
       "2016-01-02 -0.016022 -0.574465  0.048143"
      ]
     },
     "execution_count": 24,
     "metadata": {},
     "output_type": "execute_result"
    }
   ],
   "source": [
    "#indexing and slicing of indexes\n",
    "df.loc[dates[0:2],'A':'C']#df.loc[:,'A':'C']"
   ]
  },
  {
   "cell_type": "code",
   "execution_count": 25,
   "metadata": {},
   "outputs": [
    {
     "data": {
      "text/html": [
       "<div>\n",
       "<style scoped>\n",
       "    .dataframe tbody tr th:only-of-type {\n",
       "        vertical-align: middle;\n",
       "    }\n",
       "\n",
       "    .dataframe tbody tr th {\n",
       "        vertical-align: top;\n",
       "    }\n",
       "\n",
       "    .dataframe thead th {\n",
       "        text-align: right;\n",
       "    }\n",
       "</style>\n",
       "<table border=\"1\" class=\"dataframe\">\n",
       "  <thead>\n",
       "    <tr style=\"text-align: right;\">\n",
       "      <th></th>\n",
       "      <th>B</th>\n",
       "      <th>C</th>\n",
       "      <th>D</th>\n",
       "    </tr>\n",
       "  </thead>\n",
       "  <tbody>\n",
       "    <tr>\n",
       "      <th>2016-01-02</th>\n",
       "      <td>-0.574465</td>\n",
       "      <td>0.048143</td>\n",
       "      <td>0.499497</td>\n",
       "    </tr>\n",
       "    <tr>\n",
       "      <th>2016-01-03</th>\n",
       "      <td>0.762543</td>\n",
       "      <td>0.560489</td>\n",
       "      <td>0.332483</td>\n",
       "    </tr>\n",
       "    <tr>\n",
       "      <th>2016-01-04</th>\n",
       "      <td>0.592000</td>\n",
       "      <td>-0.565781</td>\n",
       "      <td>-0.120315</td>\n",
       "    </tr>\n",
       "  </tbody>\n",
       "</table>\n",
       "</div>"
      ],
      "text/plain": [
       "                   B         C         D\n",
       "2016-01-02 -0.574465  0.048143  0.499497\n",
       "2016-01-03  0.762543  0.560489  0.332483\n",
       "2016-01-04  0.592000 -0.565781 -0.120315"
      ]
     },
     "execution_count": 25,
     "metadata": {},
     "output_type": "execute_result"
    }
   ],
   "source": [
    "#indexing and slicing of locations\n",
    "df.iloc[1:4,1:4]"
   ]
  },
  {
   "cell_type": "code",
   "execution_count": 26,
   "metadata": {},
   "outputs": [
    {
     "name": "stderr",
     "output_type": "stream",
     "text": [
      "/anaconda3/lib/python3.6/site-packages/ipykernel_launcher.py:2: DeprecationWarning: \n",
      ".ix is deprecated. Please use\n",
      ".loc for label based indexing or\n",
      ".iloc for positional indexing\n",
      "\n",
      "See the documentation here:\n",
      "http://pandas.pydata.org/pandas-docs/stable/indexing.html#ix-indexer-is-deprecated\n",
      "  \n"
     ]
    },
    {
     "data": {
      "text/html": [
       "<div>\n",
       "<style scoped>\n",
       "    .dataframe tbody tr th:only-of-type {\n",
       "        vertical-align: middle;\n",
       "    }\n",
       "\n",
       "    .dataframe tbody tr th {\n",
       "        vertical-align: top;\n",
       "    }\n",
       "\n",
       "    .dataframe thead th {\n",
       "        text-align: right;\n",
       "    }\n",
       "</style>\n",
       "<table border=\"1\" class=\"dataframe\">\n",
       "  <thead>\n",
       "    <tr style=\"text-align: right;\">\n",
       "      <th></th>\n",
       "      <th>A</th>\n",
       "      <th>B</th>\n",
       "      <th>C</th>\n",
       "    </tr>\n",
       "  </thead>\n",
       "  <tbody>\n",
       "    <tr>\n",
       "      <th>2016-01-02</th>\n",
       "      <td>-0.016022</td>\n",
       "      <td>-0.574465</td>\n",
       "      <td>0.048143</td>\n",
       "    </tr>\n",
       "    <tr>\n",
       "      <th>2016-01-03</th>\n",
       "      <td>0.155397</td>\n",
       "      <td>0.762543</td>\n",
       "      <td>0.560489</td>\n",
       "    </tr>\n",
       "  </tbody>\n",
       "</table>\n",
       "</div>"
      ],
      "text/plain": [
       "                   A         B         C\n",
       "2016-01-02 -0.016022 -0.574465  0.048143\n",
       "2016-01-03  0.155397  0.762543  0.560489"
      ]
     },
     "execution_count": 26,
     "metadata": {},
     "output_type": "execute_result"
    }
   ],
   "source": [
    "#mixed (generalized) method of indexing and slicing \n",
    "df.ix[1:3,'A':'C']"
   ]
  },
  {
   "cell_type": "code",
   "execution_count": 27,
   "metadata": {},
   "outputs": [
    {
     "data": {
      "text/html": [
       "<div>\n",
       "<style scoped>\n",
       "    .dataframe tbody tr th:only-of-type {\n",
       "        vertical-align: middle;\n",
       "    }\n",
       "\n",
       "    .dataframe tbody tr th {\n",
       "        vertical-align: top;\n",
       "    }\n",
       "\n",
       "    .dataframe thead th {\n",
       "        text-align: right;\n",
       "    }\n",
       "</style>\n",
       "<table border=\"1\" class=\"dataframe\">\n",
       "  <thead>\n",
       "    <tr style=\"text-align: right;\">\n",
       "      <th></th>\n",
       "      <th>2016-01-01 00:00:00</th>\n",
       "      <th>2016-01-02 00:00:00</th>\n",
       "      <th>2016-01-03 00:00:00</th>\n",
       "      <th>2016-01-04 00:00:00</th>\n",
       "      <th>2016-01-05 00:00:00</th>\n",
       "      <th>2016-01-06 00:00:00</th>\n",
       "    </tr>\n",
       "  </thead>\n",
       "  <tbody>\n",
       "    <tr>\n",
       "      <th>A</th>\n",
       "      <td>1.141205</td>\n",
       "      <td>-0.016022</td>\n",
       "      <td>0.155397</td>\n",
       "      <td>-0.545423</td>\n",
       "      <td>0.429711</td>\n",
       "      <td>0.992988</td>\n",
       "    </tr>\n",
       "    <tr>\n",
       "      <th>B</th>\n",
       "      <td>0.055448</td>\n",
       "      <td>-0.574465</td>\n",
       "      <td>0.762543</td>\n",
       "      <td>0.592000</td>\n",
       "      <td>-0.553929</td>\n",
       "      <td>0.720928</td>\n",
       "    </tr>\n",
       "    <tr>\n",
       "      <th>C</th>\n",
       "      <td>-0.082760</td>\n",
       "      <td>0.048143</td>\n",
       "      <td>0.560489</td>\n",
       "      <td>-0.565781</td>\n",
       "      <td>0.305712</td>\n",
       "      <td>0.338761</td>\n",
       "    </tr>\n",
       "    <tr>\n",
       "      <th>D</th>\n",
       "      <td>-0.651688</td>\n",
       "      <td>0.499497</td>\n",
       "      <td>0.332483</td>\n",
       "      <td>-0.120315</td>\n",
       "      <td>0.219993</td>\n",
       "      <td>-0.482821</td>\n",
       "    </tr>\n",
       "  </tbody>\n",
       "</table>\n",
       "</div>"
      ],
      "text/plain": [
       "   2016-01-01  2016-01-02  2016-01-03  2016-01-04  2016-01-05  2016-01-06\n",
       "A    1.141205   -0.016022    0.155397   -0.545423    0.429711    0.992988\n",
       "B    0.055448   -0.574465    0.762543    0.592000   -0.553929    0.720928\n",
       "C   -0.082760    0.048143    0.560489   -0.565781    0.305712    0.338761\n",
       "D   -0.651688    0.499497    0.332483   -0.120315    0.219993   -0.482821"
      ]
     },
     "execution_count": 27,
     "metadata": {},
     "output_type": "execute_result"
    }
   ],
   "source": [
    "df.T#transpose"
   ]
  },
  {
   "cell_type": "code",
   "execution_count": 28,
   "metadata": {},
   "outputs": [
    {
     "data": {
      "text/html": [
       "<div>\n",
       "<style scoped>\n",
       "    .dataframe tbody tr th:only-of-type {\n",
       "        vertical-align: middle;\n",
       "    }\n",
       "\n",
       "    .dataframe tbody tr th {\n",
       "        vertical-align: top;\n",
       "    }\n",
       "\n",
       "    .dataframe thead th {\n",
       "        text-align: right;\n",
       "    }\n",
       "</style>\n",
       "<table border=\"1\" class=\"dataframe\">\n",
       "  <thead>\n",
       "    <tr style=\"text-align: right;\">\n",
       "      <th></th>\n",
       "      <th>A</th>\n",
       "      <th>B</th>\n",
       "      <th>C</th>\n",
       "      <th>D</th>\n",
       "    </tr>\n",
       "  </thead>\n",
       "  <tbody>\n",
       "    <tr>\n",
       "      <th>2016-01-01</th>\n",
       "      <td>1.141205</td>\n",
       "      <td>0.055448</td>\n",
       "      <td>-0.082760</td>\n",
       "      <td>-0.651688</td>\n",
       "    </tr>\n",
       "    <tr>\n",
       "      <th>2016-01-06</th>\n",
       "      <td>0.992988</td>\n",
       "      <td>0.720928</td>\n",
       "      <td>0.338761</td>\n",
       "      <td>-0.482821</td>\n",
       "    </tr>\n",
       "    <tr>\n",
       "      <th>2016-01-05</th>\n",
       "      <td>0.429711</td>\n",
       "      <td>-0.553929</td>\n",
       "      <td>0.305712</td>\n",
       "      <td>0.219993</td>\n",
       "    </tr>\n",
       "    <tr>\n",
       "      <th>2016-01-03</th>\n",
       "      <td>0.155397</td>\n",
       "      <td>0.762543</td>\n",
       "      <td>0.560489</td>\n",
       "      <td>0.332483</td>\n",
       "    </tr>\n",
       "    <tr>\n",
       "      <th>2016-01-02</th>\n",
       "      <td>-0.016022</td>\n",
       "      <td>-0.574465</td>\n",
       "      <td>0.048143</td>\n",
       "      <td>0.499497</td>\n",
       "    </tr>\n",
       "    <tr>\n",
       "      <th>2016-01-04</th>\n",
       "      <td>-0.545423</td>\n",
       "      <td>0.592000</td>\n",
       "      <td>-0.565781</td>\n",
       "      <td>-0.120315</td>\n",
       "    </tr>\n",
       "  </tbody>\n",
       "</table>\n",
       "</div>"
      ],
      "text/plain": [
       "                   A         B         C         D\n",
       "2016-01-01  1.141205  0.055448 -0.082760 -0.651688\n",
       "2016-01-06  0.992988  0.720928  0.338761 -0.482821\n",
       "2016-01-05  0.429711 -0.553929  0.305712  0.219993\n",
       "2016-01-03  0.155397  0.762543  0.560489  0.332483\n",
       "2016-01-02 -0.016022 -0.574465  0.048143  0.499497\n",
       "2016-01-04 -0.545423  0.592000 -0.565781 -0.120315"
      ]
     },
     "execution_count": 28,
     "metadata": {},
     "output_type": "execute_result"
    }
   ],
   "source": [
    "df.sort_values(by='A',ascending=False)"
   ]
  },
  {
   "cell_type": "code",
   "execution_count": 29,
   "metadata": {},
   "outputs": [
    {
     "data": {
      "text/html": [
       "<div>\n",
       "<style scoped>\n",
       "    .dataframe tbody tr th:only-of-type {\n",
       "        vertical-align: middle;\n",
       "    }\n",
       "\n",
       "    .dataframe tbody tr th {\n",
       "        vertical-align: top;\n",
       "    }\n",
       "\n",
       "    .dataframe thead th {\n",
       "        text-align: right;\n",
       "    }\n",
       "</style>\n",
       "<table border=\"1\" class=\"dataframe\">\n",
       "  <thead>\n",
       "    <tr style=\"text-align: right;\">\n",
       "      <th></th>\n",
       "      <th>A</th>\n",
       "      <th>B</th>\n",
       "      <th>C</th>\n",
       "      <th>D</th>\n",
       "    </tr>\n",
       "  </thead>\n",
       "  <tbody>\n",
       "    <tr>\n",
       "      <th>2016-01-01</th>\n",
       "      <td>6.0</td>\n",
       "      <td>3.0</td>\n",
       "      <td>2.0</td>\n",
       "      <td>1.0</td>\n",
       "    </tr>\n",
       "    <tr>\n",
       "      <th>2016-01-02</th>\n",
       "      <td>2.0</td>\n",
       "      <td>1.0</td>\n",
       "      <td>3.0</td>\n",
       "      <td>6.0</td>\n",
       "    </tr>\n",
       "    <tr>\n",
       "      <th>2016-01-03</th>\n",
       "      <td>3.0</td>\n",
       "      <td>6.0</td>\n",
       "      <td>6.0</td>\n",
       "      <td>5.0</td>\n",
       "    </tr>\n",
       "    <tr>\n",
       "      <th>2016-01-04</th>\n",
       "      <td>1.0</td>\n",
       "      <td>4.0</td>\n",
       "      <td>1.0</td>\n",
       "      <td>3.0</td>\n",
       "    </tr>\n",
       "    <tr>\n",
       "      <th>2016-01-05</th>\n",
       "      <td>4.0</td>\n",
       "      <td>2.0</td>\n",
       "      <td>4.0</td>\n",
       "      <td>4.0</td>\n",
       "    </tr>\n",
       "    <tr>\n",
       "      <th>2016-01-06</th>\n",
       "      <td>5.0</td>\n",
       "      <td>5.0</td>\n",
       "      <td>5.0</td>\n",
       "      <td>2.0</td>\n",
       "    </tr>\n",
       "  </tbody>\n",
       "</table>\n",
       "</div>"
      ],
      "text/plain": [
       "              A    B    C    D\n",
       "2016-01-01  6.0  3.0  2.0  1.0\n",
       "2016-01-02  2.0  1.0  3.0  6.0\n",
       "2016-01-03  3.0  6.0  6.0  5.0\n",
       "2016-01-04  1.0  4.0  1.0  3.0\n",
       "2016-01-05  4.0  2.0  4.0  4.0\n",
       "2016-01-06  5.0  5.0  5.0  2.0"
      ]
     },
     "execution_count": 29,
     "metadata": {},
     "output_type": "execute_result"
    }
   ],
   "source": [
    "df.rank(axis=0)"
   ]
  },
  {
   "cell_type": "code",
   "execution_count": 31,
   "metadata": {},
   "outputs": [
    {
     "data": {
      "text/html": [
       "<div>\n",
       "<style scoped>\n",
       "    .dataframe tbody tr th:only-of-type {\n",
       "        vertical-align: middle;\n",
       "    }\n",
       "\n",
       "    .dataframe tbody tr th {\n",
       "        vertical-align: top;\n",
       "    }\n",
       "\n",
       "    .dataframe thead th {\n",
       "        text-align: right;\n",
       "    }\n",
       "</style>\n",
       "<table border=\"1\" class=\"dataframe\">\n",
       "  <thead>\n",
       "    <tr style=\"text-align: right;\">\n",
       "      <th></th>\n",
       "      <th>A</th>\n",
       "      <th>B</th>\n",
       "      <th>C</th>\n",
       "      <th>D</th>\n",
       "    </tr>\n",
       "  </thead>\n",
       "  <tbody>\n",
       "    <tr>\n",
       "      <th>2016-01-01</th>\n",
       "      <td>1.0</td>\n",
       "      <td>2.0</td>\n",
       "      <td>3.0</td>\n",
       "      <td>4.0</td>\n",
       "    </tr>\n",
       "    <tr>\n",
       "      <th>2016-01-02</th>\n",
       "      <td>3.0</td>\n",
       "      <td>4.0</td>\n",
       "      <td>2.0</td>\n",
       "      <td>1.0</td>\n",
       "    </tr>\n",
       "    <tr>\n",
       "      <th>2016-01-03</th>\n",
       "      <td>4.0</td>\n",
       "      <td>1.0</td>\n",
       "      <td>2.0</td>\n",
       "      <td>3.0</td>\n",
       "    </tr>\n",
       "    <tr>\n",
       "      <th>2016-01-04</th>\n",
       "      <td>3.0</td>\n",
       "      <td>1.0</td>\n",
       "      <td>4.0</td>\n",
       "      <td>2.0</td>\n",
       "    </tr>\n",
       "    <tr>\n",
       "      <th>2016-01-05</th>\n",
       "      <td>1.0</td>\n",
       "      <td>4.0</td>\n",
       "      <td>2.0</td>\n",
       "      <td>3.0</td>\n",
       "    </tr>\n",
       "    <tr>\n",
       "      <th>2016-01-06</th>\n",
       "      <td>1.0</td>\n",
       "      <td>2.0</td>\n",
       "      <td>3.0</td>\n",
       "      <td>4.0</td>\n",
       "    </tr>\n",
       "  </tbody>\n",
       "</table>\n",
       "</div>"
      ],
      "text/plain": [
       "              A    B    C    D\n",
       "2016-01-01  1.0  2.0  3.0  4.0\n",
       "2016-01-02  3.0  4.0  2.0  1.0\n",
       "2016-01-03  4.0  1.0  2.0  3.0\n",
       "2016-01-04  3.0  1.0  4.0  2.0\n",
       "2016-01-05  1.0  4.0  2.0  3.0\n",
       "2016-01-06  1.0  2.0  3.0  4.0"
      ]
     },
     "execution_count": 31,
     "metadata": {},
     "output_type": "execute_result"
    }
   ],
   "source": [
    "df.rank(axis=1,ascending=False)"
   ]
  },
  {
   "cell_type": "code",
   "execution_count": 41,
   "metadata": {},
   "outputs": [
    {
     "data": {
      "text/html": [
       "<div>\n",
       "<style scoped>\n",
       "    .dataframe tbody tr th:only-of-type {\n",
       "        vertical-align: middle;\n",
       "    }\n",
       "\n",
       "    .dataframe tbody tr th {\n",
       "        vertical-align: top;\n",
       "    }\n",
       "\n",
       "    .dataframe thead th {\n",
       "        text-align: right;\n",
       "    }\n",
       "</style>\n",
       "<table border=\"1\" class=\"dataframe\">\n",
       "  <thead>\n",
       "    <tr style=\"text-align: right;\">\n",
       "      <th></th>\n",
       "      <th>A</th>\n",
       "      <th>B</th>\n",
       "      <th>C</th>\n",
       "      <th>D</th>\n",
       "      <th>E</th>\n",
       "    </tr>\n",
       "  </thead>\n",
       "  <tbody>\n",
       "    <tr>\n",
       "      <th>2016-01-01</th>\n",
       "      <td>1.141205</td>\n",
       "      <td>0.055448</td>\n",
       "      <td>-0.082760</td>\n",
       "      <td>-0.651688</td>\n",
       "      <td>NaN</td>\n",
       "    </tr>\n",
       "    <tr>\n",
       "      <th>2016-01-02</th>\n",
       "      <td>-0.016022</td>\n",
       "      <td>-0.574465</td>\n",
       "      <td>0.048143</td>\n",
       "      <td>0.499497</td>\n",
       "      <td>1.0</td>\n",
       "    </tr>\n",
       "    <tr>\n",
       "      <th>2016-01-03</th>\n",
       "      <td>0.155397</td>\n",
       "      <td>0.762543</td>\n",
       "      <td>0.560489</td>\n",
       "      <td>0.332483</td>\n",
       "      <td>2.0</td>\n",
       "    </tr>\n",
       "    <tr>\n",
       "      <th>2016-01-04</th>\n",
       "      <td>-0.545423</td>\n",
       "      <td>0.592000</td>\n",
       "      <td>-0.565781</td>\n",
       "      <td>-0.120315</td>\n",
       "      <td>3.0</td>\n",
       "    </tr>\n",
       "    <tr>\n",
       "      <th>2016-01-05</th>\n",
       "      <td>0.429711</td>\n",
       "      <td>-0.553929</td>\n",
       "      <td>0.305712</td>\n",
       "      <td>0.219993</td>\n",
       "      <td>4.0</td>\n",
       "    </tr>\n",
       "    <tr>\n",
       "      <th>2016-01-06</th>\n",
       "      <td>0.992988</td>\n",
       "      <td>0.720928</td>\n",
       "      <td>0.338761</td>\n",
       "      <td>-0.482821</td>\n",
       "      <td>5.0</td>\n",
       "    </tr>\n",
       "  </tbody>\n",
       "</table>\n",
       "</div>"
      ],
      "text/plain": [
       "                   A         B         C         D    E\n",
       "2016-01-01  1.141205  0.055448 -0.082760 -0.651688  NaN\n",
       "2016-01-02 -0.016022 -0.574465  0.048143  0.499497  1.0\n",
       "2016-01-03  0.155397  0.762543  0.560489  0.332483  2.0\n",
       "2016-01-04 -0.545423  0.592000 -0.565781 -0.120315  3.0\n",
       "2016-01-05  0.429711 -0.553929  0.305712  0.219993  4.0\n",
       "2016-01-06  0.992988  0.720928  0.338761 -0.482821  5.0"
      ]
     },
     "execution_count": 41,
     "metadata": {},
     "output_type": "execute_result"
    }
   ],
   "source": [
    "s1=pd.Series([1,2,3,4,5,6],index=pd.date_range('20160102',periods=6))\n",
    "df['E']=s1\n",
    "df"
   ]
  },
  {
   "cell_type": "code",
   "execution_count": 43,
   "metadata": {},
   "outputs": [
    {
     "data": {
      "text/html": [
       "<div>\n",
       "<style scoped>\n",
       "    .dataframe tbody tr th:only-of-type {\n",
       "        vertical-align: middle;\n",
       "    }\n",
       "\n",
       "    .dataframe tbody tr th {\n",
       "        vertical-align: top;\n",
       "    }\n",
       "\n",
       "    .dataframe thead th {\n",
       "        text-align: right;\n",
       "    }\n",
       "</style>\n",
       "<table border=\"1\" class=\"dataframe\">\n",
       "  <thead>\n",
       "    <tr style=\"text-align: right;\">\n",
       "      <th></th>\n",
       "      <th>A</th>\n",
       "      <th>B</th>\n",
       "      <th>C</th>\n",
       "      <th>D</th>\n",
       "      <th>0</th>\n",
       "    </tr>\n",
       "  </thead>\n",
       "  <tbody>\n",
       "    <tr>\n",
       "      <th>2016-01-01</th>\n",
       "      <td>1.141205</td>\n",
       "      <td>0.055448</td>\n",
       "      <td>-0.082760</td>\n",
       "      <td>-0.651688</td>\n",
       "      <td>NaN</td>\n",
       "    </tr>\n",
       "    <tr>\n",
       "      <th>2016-01-02</th>\n",
       "      <td>-0.016022</td>\n",
       "      <td>-0.574465</td>\n",
       "      <td>0.048143</td>\n",
       "      <td>0.499497</td>\n",
       "      <td>1.0</td>\n",
       "    </tr>\n",
       "    <tr>\n",
       "      <th>2016-01-03</th>\n",
       "      <td>0.155397</td>\n",
       "      <td>0.762543</td>\n",
       "      <td>0.560489</td>\n",
       "      <td>0.332483</td>\n",
       "      <td>2.0</td>\n",
       "    </tr>\n",
       "    <tr>\n",
       "      <th>2016-01-04</th>\n",
       "      <td>-0.545423</td>\n",
       "      <td>0.592000</td>\n",
       "      <td>-0.565781</td>\n",
       "      <td>-0.120315</td>\n",
       "      <td>3.0</td>\n",
       "    </tr>\n",
       "    <tr>\n",
       "      <th>2016-01-05</th>\n",
       "      <td>0.429711</td>\n",
       "      <td>-0.553929</td>\n",
       "      <td>0.305712</td>\n",
       "      <td>0.219993</td>\n",
       "      <td>4.0</td>\n",
       "    </tr>\n",
       "    <tr>\n",
       "      <th>2016-01-06</th>\n",
       "      <td>0.992988</td>\n",
       "      <td>0.720928</td>\n",
       "      <td>0.338761</td>\n",
       "      <td>-0.482821</td>\n",
       "      <td>5.0</td>\n",
       "    </tr>\n",
       "    <tr>\n",
       "      <th>2016-01-07</th>\n",
       "      <td>NaN</td>\n",
       "      <td>NaN</td>\n",
       "      <td>NaN</td>\n",
       "      <td>NaN</td>\n",
       "      <td>6.0</td>\n",
       "    </tr>\n",
       "  </tbody>\n",
       "</table>\n",
       "</div>"
      ],
      "text/plain": [
       "                   A         B         C         D    0\n",
       "2016-01-01  1.141205  0.055448 -0.082760 -0.651688  NaN\n",
       "2016-01-02 -0.016022 -0.574465  0.048143  0.499497  1.0\n",
       "2016-01-03  0.155397  0.762543  0.560489  0.332483  2.0\n",
       "2016-01-04 -0.545423  0.592000 -0.565781 -0.120315  3.0\n",
       "2016-01-05  0.429711 -0.553929  0.305712  0.219993  4.0\n",
       "2016-01-06  0.992988  0.720928  0.338761 -0.482821  5.0\n",
       "2016-01-07       NaN       NaN       NaN       NaN  6.0"
      ]
     },
     "execution_count": 43,
     "metadata": {},
     "output_type": "execute_result"
    }
   ],
   "source": [
    "df=df[list('ABCD')]\n",
    "pd.concat([df,s1],axis=1)"
   ]
  },
  {
   "cell_type": "code",
   "execution_count": 46,
   "metadata": {},
   "outputs": [
    {
     "name": "stderr",
     "output_type": "stream",
     "text": [
      "/anaconda3/lib/python3.6/site-packages/pandas/core/frame.py:6211: FutureWarning: Sorting because non-concatenation axis is not aligned. A future version\n",
      "of pandas will change to not sort by default.\n",
      "\n",
      "To accept the future behavior, pass 'sort=False'.\n",
      "\n",
      "To retain the current behavior and silence the warning, pass 'sort=True'.\n",
      "\n",
      "  sort=sort)\n"
     ]
    },
    {
     "data": {
      "text/html": [
       "<div>\n",
       "<style scoped>\n",
       "    .dataframe tbody tr th:only-of-type {\n",
       "        vertical-align: middle;\n",
       "    }\n",
       "\n",
       "    .dataframe tbody tr th {\n",
       "        vertical-align: top;\n",
       "    }\n",
       "\n",
       "    .dataframe thead th {\n",
       "        text-align: right;\n",
       "    }\n",
       "</style>\n",
       "<table border=\"1\" class=\"dataframe\">\n",
       "  <thead>\n",
       "    <tr style=\"text-align: right;\">\n",
       "      <th></th>\n",
       "      <th>A</th>\n",
       "      <th>B</th>\n",
       "      <th>C</th>\n",
       "      <th>D</th>\n",
       "    </tr>\n",
       "  </thead>\n",
       "  <tbody>\n",
       "    <tr>\n",
       "      <th>2016-01-01</th>\n",
       "      <td>1.141205</td>\n",
       "      <td>0.055448</td>\n",
       "      <td>-0.082760</td>\n",
       "      <td>-0.651688</td>\n",
       "    </tr>\n",
       "    <tr>\n",
       "      <th>2016-01-02</th>\n",
       "      <td>-0.016022</td>\n",
       "      <td>-0.574465</td>\n",
       "      <td>0.048143</td>\n",
       "      <td>0.499497</td>\n",
       "    </tr>\n",
       "    <tr>\n",
       "      <th>2016-01-03</th>\n",
       "      <td>0.155397</td>\n",
       "      <td>0.762543</td>\n",
       "      <td>0.560489</td>\n",
       "      <td>0.332483</td>\n",
       "    </tr>\n",
       "    <tr>\n",
       "      <th>2016-01-04</th>\n",
       "      <td>-0.545423</td>\n",
       "      <td>0.592000</td>\n",
       "      <td>-0.565781</td>\n",
       "      <td>-0.120315</td>\n",
       "    </tr>\n",
       "    <tr>\n",
       "      <th>2016-01-05</th>\n",
       "      <td>0.429711</td>\n",
       "      <td>-0.553929</td>\n",
       "      <td>0.305712</td>\n",
       "      <td>0.219993</td>\n",
       "    </tr>\n",
       "    <tr>\n",
       "      <th>2016-01-06</th>\n",
       "      <td>0.992988</td>\n",
       "      <td>0.720928</td>\n",
       "      <td>0.338761</td>\n",
       "      <td>-0.482821</td>\n",
       "    </tr>\n",
       "    <tr>\n",
       "      <th>2016-01-10</th>\n",
       "      <td>1.000000</td>\n",
       "      <td>4.000000</td>\n",
       "      <td>7.000000</td>\n",
       "      <td>NaN</td>\n",
       "    </tr>\n",
       "    <tr>\n",
       "      <th>2016-01-11</th>\n",
       "      <td>2.000000</td>\n",
       "      <td>5.000000</td>\n",
       "      <td>8.000000</td>\n",
       "      <td>NaN</td>\n",
       "    </tr>\n",
       "    <tr>\n",
       "      <th>2016-01-12</th>\n",
       "      <td>3.000000</td>\n",
       "      <td>6.000000</td>\n",
       "      <td>9.000000</td>\n",
       "      <td>NaN</td>\n",
       "    </tr>\n",
       "  </tbody>\n",
       "</table>\n",
       "</div>"
      ],
      "text/plain": [
       "                   A         B         C         D\n",
       "2016-01-01  1.141205  0.055448 -0.082760 -0.651688\n",
       "2016-01-02 -0.016022 -0.574465  0.048143  0.499497\n",
       "2016-01-03  0.155397  0.762543  0.560489  0.332483\n",
       "2016-01-04 -0.545423  0.592000 -0.565781 -0.120315\n",
       "2016-01-05  0.429711 -0.553929  0.305712  0.219993\n",
       "2016-01-06  0.992988  0.720928  0.338761 -0.482821\n",
       "2016-01-10  1.000000  4.000000  7.000000       NaN\n",
       "2016-01-11  2.000000  5.000000  8.000000       NaN\n",
       "2016-01-12  3.000000  6.000000  9.000000       NaN"
      ]
     },
     "execution_count": 46,
     "metadata": {},
     "output_type": "execute_result"
    }
   ],
   "source": [
    "df1=pd.DataFrame({'A':[1,2,3],'B':[4,5,6],'C':[7,8,9]},\\\n",
    "                index=pd.date_range('20160110',periods=3))\n",
    "df.append(df1)"
   ]
  },
  {
   "cell_type": "code",
   "execution_count": 47,
   "metadata": {},
   "outputs": [
    {
     "data": {
      "text/html": [
       "<div>\n",
       "<style scoped>\n",
       "    .dataframe tbody tr th:only-of-type {\n",
       "        vertical-align: middle;\n",
       "    }\n",
       "\n",
       "    .dataframe tbody tr th {\n",
       "        vertical-align: top;\n",
       "    }\n",
       "\n",
       "    .dataframe thead th {\n",
       "        text-align: right;\n",
       "    }\n",
       "</style>\n",
       "<table border=\"1\" class=\"dataframe\">\n",
       "  <thead>\n",
       "    <tr style=\"text-align: right;\">\n",
       "      <th></th>\n",
       "      <th>A</th>\n",
       "      <th>B</th>\n",
       "      <th>C</th>\n",
       "    </tr>\n",
       "  </thead>\n",
       "  <tbody>\n",
       "    <tr>\n",
       "      <th>2016-01-01</th>\n",
       "      <td>1.141205</td>\n",
       "      <td>0.055448</td>\n",
       "      <td>-0.082760</td>\n",
       "    </tr>\n",
       "    <tr>\n",
       "      <th>2016-01-02</th>\n",
       "      <td>-0.016022</td>\n",
       "      <td>-0.574465</td>\n",
       "      <td>0.048143</td>\n",
       "    </tr>\n",
       "    <tr>\n",
       "      <th>2016-01-03</th>\n",
       "      <td>0.155397</td>\n",
       "      <td>0.762543</td>\n",
       "      <td>0.560489</td>\n",
       "    </tr>\n",
       "    <tr>\n",
       "      <th>2016-01-04</th>\n",
       "      <td>-0.545423</td>\n",
       "      <td>0.592000</td>\n",
       "      <td>-0.565781</td>\n",
       "    </tr>\n",
       "    <tr>\n",
       "      <th>2016-01-05</th>\n",
       "      <td>0.429711</td>\n",
       "      <td>-0.553929</td>\n",
       "      <td>0.305712</td>\n",
       "    </tr>\n",
       "    <tr>\n",
       "      <th>2016-01-06</th>\n",
       "      <td>0.992988</td>\n",
       "      <td>0.720928</td>\n",
       "      <td>0.338761</td>\n",
       "    </tr>\n",
       "    <tr>\n",
       "      <th>2016-01-10</th>\n",
       "      <td>1.000000</td>\n",
       "      <td>4.000000</td>\n",
       "      <td>7.000000</td>\n",
       "    </tr>\n",
       "    <tr>\n",
       "      <th>2016-01-11</th>\n",
       "      <td>2.000000</td>\n",
       "      <td>5.000000</td>\n",
       "      <td>8.000000</td>\n",
       "    </tr>\n",
       "    <tr>\n",
       "      <th>2016-01-12</th>\n",
       "      <td>3.000000</td>\n",
       "      <td>6.000000</td>\n",
       "      <td>9.000000</td>\n",
       "    </tr>\n",
       "  </tbody>\n",
       "</table>\n",
       "</div>"
      ],
      "text/plain": [
       "                   A         B         C\n",
       "2016-01-01  1.141205  0.055448 -0.082760\n",
       "2016-01-02 -0.016022 -0.574465  0.048143\n",
       "2016-01-03  0.155397  0.762543  0.560489\n",
       "2016-01-04 -0.545423  0.592000 -0.565781\n",
       "2016-01-05  0.429711 -0.553929  0.305712\n",
       "2016-01-06  0.992988  0.720928  0.338761\n",
       "2016-01-10  1.000000  4.000000  7.000000\n",
       "2016-01-11  2.000000  5.000000  8.000000\n",
       "2016-01-12  3.000000  6.000000  9.000000"
      ]
     },
     "execution_count": 47,
     "metadata": {},
     "output_type": "execute_result"
    }
   ],
   "source": [
    "pd.concat([df,df1],join='inner')"
   ]
  },
  {
   "cell_type": "code",
   "execution_count": 51,
   "metadata": {},
   "outputs": [
    {
     "data": {
      "text/html": [
       "<div>\n",
       "<style scoped>\n",
       "    .dataframe tbody tr th:only-of-type {\n",
       "        vertical-align: middle;\n",
       "    }\n",
       "\n",
       "    .dataframe tbody tr th {\n",
       "        vertical-align: top;\n",
       "    }\n",
       "\n",
       "    .dataframe thead th {\n",
       "        text-align: right;\n",
       "    }\n",
       "</style>\n",
       "<table border=\"1\" class=\"dataframe\">\n",
       "  <thead>\n",
       "    <tr style=\"text-align: right;\">\n",
       "      <th></th>\n",
       "      <th>B</th>\n",
       "      <th>C</th>\n",
       "      <th>D</th>\n",
       "    </tr>\n",
       "  </thead>\n",
       "  <tbody>\n",
       "    <tr>\n",
       "      <th>2016-01-01</th>\n",
       "      <td>0.055448</td>\n",
       "      <td>-0.082760</td>\n",
       "      <td>-0.651688</td>\n",
       "    </tr>\n",
       "    <tr>\n",
       "      <th>2016-01-02</th>\n",
       "      <td>-0.574465</td>\n",
       "      <td>0.048143</td>\n",
       "      <td>0.499497</td>\n",
       "    </tr>\n",
       "    <tr>\n",
       "      <th>2016-01-03</th>\n",
       "      <td>0.762543</td>\n",
       "      <td>0.560489</td>\n",
       "      <td>0.332483</td>\n",
       "    </tr>\n",
       "    <tr>\n",
       "      <th>2016-01-04</th>\n",
       "      <td>0.592000</td>\n",
       "      <td>-0.565781</td>\n",
       "      <td>-0.120315</td>\n",
       "    </tr>\n",
       "    <tr>\n",
       "      <th>2016-01-05</th>\n",
       "      <td>-0.553929</td>\n",
       "      <td>0.305712</td>\n",
       "      <td>0.219993</td>\n",
       "    </tr>\n",
       "    <tr>\n",
       "      <th>2016-01-06</th>\n",
       "      <td>0.720928</td>\n",
       "      <td>0.338761</td>\n",
       "      <td>-0.482821</td>\n",
       "    </tr>\n",
       "  </tbody>\n",
       "</table>\n",
       "</div>"
      ],
      "text/plain": [
       "                   B         C         D\n",
       "2016-01-01  0.055448 -0.082760 -0.651688\n",
       "2016-01-02 -0.574465  0.048143  0.499497\n",
       "2016-01-03  0.762543  0.560489  0.332483\n",
       "2016-01-04  0.592000 -0.565781 -0.120315\n",
       "2016-01-05 -0.553929  0.305712  0.219993\n",
       "2016-01-06  0.720928  0.338761 -0.482821"
      ]
     },
     "execution_count": 51,
     "metadata": {},
     "output_type": "execute_result"
    }
   ],
   "source": [
    "df.drop('A',axis=1)"
   ]
  },
  {
   "cell_type": "code",
   "execution_count": 62,
   "metadata": {},
   "outputs": [
    {
     "data": {
      "text/html": [
       "<div>\n",
       "<style scoped>\n",
       "    .dataframe tbody tr th:only-of-type {\n",
       "        vertical-align: middle;\n",
       "    }\n",
       "\n",
       "    .dataframe tbody tr th {\n",
       "        vertical-align: top;\n",
       "    }\n",
       "\n",
       "    .dataframe thead th {\n",
       "        text-align: right;\n",
       "    }\n",
       "</style>\n",
       "<table border=\"1\" class=\"dataframe\">\n",
       "  <thead>\n",
       "    <tr style=\"text-align: right;\">\n",
       "      <th></th>\n",
       "      <th>B</th>\n",
       "      <th>C</th>\n",
       "      <th>D</th>\n",
       "    </tr>\n",
       "  </thead>\n",
       "  <tbody>\n",
       "    <tr>\n",
       "      <th>2016-01-01</th>\n",
       "      <td>0</td>\n",
       "      <td>-0.082760</td>\n",
       "      <td>-0.651688</td>\n",
       "    </tr>\n",
       "    <tr>\n",
       "      <th>2016-01-02</th>\n",
       "      <td>1</td>\n",
       "      <td>0.048143</td>\n",
       "      <td>0.499497</td>\n",
       "    </tr>\n",
       "    <tr>\n",
       "      <th>2016-01-03</th>\n",
       "      <td>2</td>\n",
       "      <td>0.000000</td>\n",
       "      <td>0.000000</td>\n",
       "    </tr>\n",
       "    <tr>\n",
       "      <th>2016-01-04</th>\n",
       "      <td>3</td>\n",
       "      <td>-0.565781</td>\n",
       "      <td>-0.120315</td>\n",
       "    </tr>\n",
       "    <tr>\n",
       "      <th>2016-01-05</th>\n",
       "      <td>4</td>\n",
       "      <td>0.305712</td>\n",
       "      <td>0.219993</td>\n",
       "    </tr>\n",
       "    <tr>\n",
       "      <th>2016-01-06</th>\n",
       "      <td>5</td>\n",
       "      <td>0.338761</td>\n",
       "      <td>-0.482821</td>\n",
       "    </tr>\n",
       "  </tbody>\n",
       "</table>\n",
       "</div>"
      ],
      "text/plain": [
       "            B         C         D\n",
       "2016-01-01  0 -0.082760 -0.651688\n",
       "2016-01-02  1  0.048143  0.499497\n",
       "2016-01-03  2  0.000000  0.000000\n",
       "2016-01-04  3 -0.565781 -0.120315\n",
       "2016-01-05  4  0.305712  0.219993\n",
       "2016-01-06  5  0.338761 -0.482821"
      ]
     },
     "execution_count": 62,
     "metadata": {},
     "output_type": "execute_result"
    }
   ],
   "source": [
    "df.loc[dates[2],'C']=0\n",
    "df.iloc[2,2]=0\n",
    "df.loc[:,'B']=np.arange(0,len(df))\n",
    "df"
   ]
  },
  {
   "cell_type": "code",
   "execution_count": 64,
   "metadata": {},
   "outputs": [
    {
     "data": {
      "text/html": [
       "<div>\n",
       "<style scoped>\n",
       "    .dataframe tbody tr th:only-of-type {\n",
       "        vertical-align: middle;\n",
       "    }\n",
       "\n",
       "    .dataframe tbody tr th {\n",
       "        vertical-align: top;\n",
       "    }\n",
       "\n",
       "    .dataframe thead th {\n",
       "        text-align: right;\n",
       "    }\n",
       "</style>\n",
       "<table border=\"1\" class=\"dataframe\">\n",
       "  <thead>\n",
       "    <tr style=\"text-align: right;\">\n",
       "      <th></th>\n",
       "      <th>A</th>\n",
       "      <th>B</th>\n",
       "      <th>C</th>\n",
       "      <th>D</th>\n",
       "    </tr>\n",
       "  </thead>\n",
       "  <tbody>\n",
       "    <tr>\n",
       "      <th>2016-01-02</th>\n",
       "      <td>NaN</td>\n",
       "      <td>1.0</td>\n",
       "      <td>0.048143</td>\n",
       "      <td>0.499497</td>\n",
       "    </tr>\n",
       "    <tr>\n",
       "      <th>2016-01-03</th>\n",
       "      <td>NaN</td>\n",
       "      <td>2.0</td>\n",
       "      <td>0.000000</td>\n",
       "      <td>0.000000</td>\n",
       "    </tr>\n",
       "    <tr>\n",
       "      <th>2016-01-04</th>\n",
       "      <td>NaN</td>\n",
       "      <td>3.0</td>\n",
       "      <td>-0.565781</td>\n",
       "      <td>-0.120315</td>\n",
       "    </tr>\n",
       "    <tr>\n",
       "      <th>2016-01-05</th>\n",
       "      <td>NaN</td>\n",
       "      <td>4.0</td>\n",
       "      <td>0.305712</td>\n",
       "      <td>0.219993</td>\n",
       "    </tr>\n",
       "    <tr>\n",
       "      <th>2016-01-06</th>\n",
       "      <td>NaN</td>\n",
       "      <td>5.0</td>\n",
       "      <td>0.338761</td>\n",
       "      <td>-0.482821</td>\n",
       "    </tr>\n",
       "    <tr>\n",
       "      <th>2016-01-07</th>\n",
       "      <td>NaN</td>\n",
       "      <td>NaN</td>\n",
       "      <td>NaN</td>\n",
       "      <td>NaN</td>\n",
       "    </tr>\n",
       "    <tr>\n",
       "      <th>2016-01-08</th>\n",
       "      <td>NaN</td>\n",
       "      <td>NaN</td>\n",
       "      <td>NaN</td>\n",
       "      <td>NaN</td>\n",
       "    </tr>\n",
       "  </tbody>\n",
       "</table>\n",
       "</div>"
      ],
      "text/plain": [
       "             A    B         C         D\n",
       "2016-01-02 NaN  1.0  0.048143  0.499497\n",
       "2016-01-03 NaN  2.0  0.000000  0.000000\n",
       "2016-01-04 NaN  3.0 -0.565781 -0.120315\n",
       "2016-01-05 NaN  4.0  0.305712  0.219993\n",
       "2016-01-06 NaN  5.0  0.338761 -0.482821\n",
       "2016-01-07 NaN  NaN       NaN       NaN\n",
       "2016-01-08 NaN  NaN       NaN       NaN"
      ]
     },
     "execution_count": 64,
     "metadata": {},
     "output_type": "execute_result"
    }
   ],
   "source": [
    "new_index=pd.date_range('20160102',periods=7)\n",
    "df.reindex(new_index,columns=list('ABCD'))"
   ]
  },
  {
   "cell_type": "code",
   "execution_count": 66,
   "metadata": {},
   "outputs": [
    {
     "data": {
      "text/plain": [
       "A    NaN\n",
       "B    6.0\n",
       "C    8.0\n",
       "D    NaN\n",
       "dtype: float64"
      ]
     },
     "execution_count": 66,
     "metadata": {},
     "output_type": "execute_result"
    }
   ],
   "source": [
    "#Operaions between series\n",
    "import numpy as np\n",
    "s1=pd.Series([1,2,3],index=list('ABC'))\n",
    "s2=pd.Series([4,5,6],index=list('BCD'))\n",
    "s1+s2"
   ]
  },
  {
   "cell_type": "code",
   "execution_count": 70,
   "metadata": {},
   "outputs": [
    {
     "data": {
      "text/html": [
       "<div>\n",
       "<style scoped>\n",
       "    .dataframe tbody tr th:only-of-type {\n",
       "        vertical-align: middle;\n",
       "    }\n",
       "\n",
       "    .dataframe tbody tr th {\n",
       "        vertical-align: top;\n",
       "    }\n",
       "\n",
       "    .dataframe thead th {\n",
       "        text-align: right;\n",
       "    }\n",
       "</style>\n",
       "<table border=\"1\" class=\"dataframe\">\n",
       "  <thead>\n",
       "    <tr style=\"text-align: right;\">\n",
       "      <th></th>\n",
       "      <th>A</th>\n",
       "      <th>B</th>\n",
       "      <th>C</th>\n",
       "      <th>D</th>\n",
       "    </tr>\n",
       "  </thead>\n",
       "  <tbody>\n",
       "    <tr>\n",
       "      <th>a</th>\n",
       "      <td>0.0</td>\n",
       "      <td>0.0</td>\n",
       "      <td>0.0</td>\n",
       "      <td>NaN</td>\n",
       "    </tr>\n",
       "    <tr>\n",
       "      <th>b</th>\n",
       "      <td>4.0</td>\n",
       "      <td>4.0</td>\n",
       "      <td>4.0</td>\n",
       "      <td>NaN</td>\n",
       "    </tr>\n",
       "    <tr>\n",
       "      <th>c</th>\n",
       "      <td>8.0</td>\n",
       "      <td>8.0</td>\n",
       "      <td>8.0</td>\n",
       "      <td>NaN</td>\n",
       "    </tr>\n",
       "  </tbody>\n",
       "</table>\n",
       "</div>"
      ],
      "text/plain": [
       "     A    B    C   D\n",
       "a  0.0  0.0  0.0 NaN\n",
       "b  4.0  4.0  4.0 NaN\n",
       "c  8.0  8.0  8.0 NaN"
      ]
     },
     "execution_count": 70,
     "metadata": {},
     "output_type": "execute_result"
    }
   ],
   "source": [
    "#Operaions between series and dataframe\n",
    "df1=pd.DataFrame(np.arange(1,13).reshape(3,4),index=list('abc'),columns=list('ABCD'))\n",
    "df1-s1\n",
    "#rows of series do operations with columns of dataframes"
   ]
  },
  {
   "cell_type": "code",
   "execution_count": 71,
   "metadata": {},
   "outputs": [
    {
     "data": {
      "text/html": [
       "<div>\n",
       "<style scoped>\n",
       "    .dataframe tbody tr th:only-of-type {\n",
       "        vertical-align: middle;\n",
       "    }\n",
       "\n",
       "    .dataframe tbody tr th {\n",
       "        vertical-align: top;\n",
       "    }\n",
       "\n",
       "    .dataframe thead th {\n",
       "        text-align: right;\n",
       "    }\n",
       "</style>\n",
       "<table border=\"1\" class=\"dataframe\">\n",
       "  <thead>\n",
       "    <tr style=\"text-align: right;\">\n",
       "      <th></th>\n",
       "      <th>A</th>\n",
       "      <th>B</th>\n",
       "      <th>C</th>\n",
       "      <th>D</th>\n",
       "      <th>E</th>\n",
       "    </tr>\n",
       "  </thead>\n",
       "  <tbody>\n",
       "    <tr>\n",
       "      <th>a</th>\n",
       "      <td>NaN</td>\n",
       "      <td>NaN</td>\n",
       "      <td>NaN</td>\n",
       "      <td>NaN</td>\n",
       "      <td>NaN</td>\n",
       "    </tr>\n",
       "    <tr>\n",
       "      <th>b</th>\n",
       "      <td>NaN</td>\n",
       "      <td>NaN</td>\n",
       "      <td>7.0</td>\n",
       "      <td>16.0</td>\n",
       "      <td>NaN</td>\n",
       "    </tr>\n",
       "    <tr>\n",
       "      <th>c</th>\n",
       "      <td>NaN</td>\n",
       "      <td>NaN</td>\n",
       "      <td>44.0</td>\n",
       "      <td>60.0</td>\n",
       "      <td>NaN</td>\n",
       "    </tr>\n",
       "    <tr>\n",
       "      <th>d</th>\n",
       "      <td>NaN</td>\n",
       "      <td>NaN</td>\n",
       "      <td>NaN</td>\n",
       "      <td>NaN</td>\n",
       "      <td>NaN</td>\n",
       "    </tr>\n",
       "    <tr>\n",
       "      <th>e</th>\n",
       "      <td>NaN</td>\n",
       "      <td>NaN</td>\n",
       "      <td>NaN</td>\n",
       "      <td>NaN</td>\n",
       "      <td>NaN</td>\n",
       "    </tr>\n",
       "  </tbody>\n",
       "</table>\n",
       "</div>"
      ],
      "text/plain": [
       "    A   B     C     D   E\n",
       "a NaN NaN   NaN   NaN NaN\n",
       "b NaN NaN   7.0  16.0 NaN\n",
       "c NaN NaN  44.0  60.0 NaN\n",
       "d NaN NaN   NaN   NaN NaN\n",
       "e NaN NaN   NaN   NaN NaN"
      ]
     },
     "execution_count": 71,
     "metadata": {},
     "output_type": "execute_result"
    }
   ],
   "source": [
    "#Operaions between dataframes\n",
    "df2=pd.DataFrame(np.arange(1,13).reshape(4,3),index=list('bcde'),columns=list('CDE'))\n",
    "df1*df2"
   ]
  },
  {
   "cell_type": "code",
   "execution_count": 72,
   "metadata": {},
   "outputs": [
    {
     "ename": "SyntaxError",
     "evalue": "invalid syntax (<ipython-input-72-31daf046289f>, line 1)",
     "output_type": "error",
     "traceback": [
      "\u001b[0;36m  File \u001b[0;32m\"<ipython-input-72-31daf046289f>\"\u001b[0;36m, line \u001b[0;32m1\u001b[0m\n\u001b[0;31m    df1.div=(df2,fill_value=0)\u001b[0m\n\u001b[0m                           ^\u001b[0m\n\u001b[0;31mSyntaxError\u001b[0m\u001b[0;31m:\u001b[0m invalid syntax\n"
     ]
    }
   ],
   "source": [
    "df1.div=(df2,fill_value=0)"
   ]
  },
  {
   "cell_type": "code",
   "execution_count": 79,
   "metadata": {},
   "outputs": [
    {
     "data": {
      "text/html": [
       "<div>\n",
       "<style scoped>\n",
       "    .dataframe tbody tr th:only-of-type {\n",
       "        vertical-align: middle;\n",
       "    }\n",
       "\n",
       "    .dataframe tbody tr th {\n",
       "        vertical-align: top;\n",
       "    }\n",
       "\n",
       "    .dataframe thead th {\n",
       "        text-align: right;\n",
       "    }\n",
       "</style>\n",
       "<table border=\"1\" class=\"dataframe\">\n",
       "  <thead>\n",
       "    <tr style=\"text-align: right;\">\n",
       "      <th></th>\n",
       "      <th>A</th>\n",
       "      <th>B</th>\n",
       "      <th>C</th>\n",
       "      <th>D</th>\n",
       "    </tr>\n",
       "  </thead>\n",
       "  <tbody>\n",
       "    <tr>\n",
       "      <th>2016-01-01</th>\n",
       "      <td>0.801079</td>\n",
       "      <td>0.604863</td>\n",
       "      <td>0.846041</td>\n",
       "      <td>0.759775</td>\n",
       "    </tr>\n",
       "    <tr>\n",
       "      <th>2016-01-02</th>\n",
       "      <td>0.623491</td>\n",
       "      <td>0.303545</td>\n",
       "      <td>0.127736</td>\n",
       "      <td>0.727033</td>\n",
       "    </tr>\n",
       "    <tr>\n",
       "      <th>2016-01-03</th>\n",
       "      <td>0.761920</td>\n",
       "      <td>0.667198</td>\n",
       "      <td>0.197039</td>\n",
       "      <td>0.849407</td>\n",
       "    </tr>\n",
       "    <tr>\n",
       "      <th>2016-01-04</th>\n",
       "      <td>0.794461</td>\n",
       "      <td>0.863988</td>\n",
       "      <td>0.336870</td>\n",
       "      <td>0.199357</td>\n",
       "    </tr>\n",
       "    <tr>\n",
       "      <th>2016-01-05</th>\n",
       "      <td>0.771585</td>\n",
       "      <td>0.808307</td>\n",
       "      <td>0.134452</td>\n",
       "      <td>0.717724</td>\n",
       "    </tr>\n",
       "    <tr>\n",
       "      <th>2016-01-06</th>\n",
       "      <td>0.914166</td>\n",
       "      <td>0.090763</td>\n",
       "      <td>0.177726</td>\n",
       "      <td>0.879487</td>\n",
       "    </tr>\n",
       "  </tbody>\n",
       "</table>\n",
       "</div>"
      ],
      "text/plain": [
       "                   A         B         C         D\n",
       "2016-01-01  0.801079  0.604863  0.846041  0.759775\n",
       "2016-01-02  0.623491  0.303545  0.127736  0.727033\n",
       "2016-01-03  0.761920  0.667198  0.197039  0.849407\n",
       "2016-01-04  0.794461  0.863988  0.336870  0.199357\n",
       "2016-01-05  0.771585  0.808307  0.134452  0.717724\n",
       "2016-01-06  0.914166  0.090763  0.177726  0.879487"
      ]
     },
     "execution_count": 79,
     "metadata": {},
     "output_type": "execute_result"
    }
   ],
   "source": [
    "#applicaitons of functions\n",
    "df0=pd.DataFrame(np.random.rand(6,4),index=pd.date_range('20160101',periods=6)\\\n",
    "                 ,columns=list('ABCD'))\n",
    "df0"
   ]
  },
  {
   "cell_type": "code",
   "execution_count": 80,
   "metadata": {},
   "outputs": [
    {
     "data": {
      "text/plain": [
       "A    0.914166\n",
       "B    0.863988\n",
       "C    0.846041\n",
       "D    0.879487\n",
       "dtype: float64"
      ]
     },
     "execution_count": 80,
     "metadata": {},
     "output_type": "execute_result"
    }
   ],
   "source": [
    "df0.apply(max,axis=0)"
   ]
  },
  {
   "cell_type": "code",
   "execution_count": 81,
   "metadata": {},
   "outputs": [
    {
     "data": {
      "text/plain": [
       "2016-01-01    0.241178\n",
       "2016-01-02    0.599297\n",
       "2016-01-03    0.652369\n",
       "2016-01-04    0.664631\n",
       "2016-01-05    0.673854\n",
       "2016-01-06    0.823402\n",
       "Freq: D, dtype: float64"
      ]
     },
     "execution_count": 81,
     "metadata": {},
     "output_type": "execute_result"
    }
   ],
   "source": [
    "f=lambda x:x.max()-x.min()\n",
    "df0.apply(f,axis=1)"
   ]
  },
  {
   "cell_type": "code",
   "execution_count": 85,
   "metadata": {},
   "outputs": [
    {
     "data": {
      "text/html": [
       "<div>\n",
       "<style scoped>\n",
       "    .dataframe tbody tr th:only-of-type {\n",
       "        vertical-align: middle;\n",
       "    }\n",
       "\n",
       "    .dataframe tbody tr th {\n",
       "        vertical-align: top;\n",
       "    }\n",
       "\n",
       "    .dataframe thead th {\n",
       "        text-align: right;\n",
       "    }\n",
       "</style>\n",
       "<table border=\"1\" class=\"dataframe\">\n",
       "  <thead>\n",
       "    <tr style=\"text-align: right;\">\n",
       "      <th></th>\n",
       "      <th>A</th>\n",
       "      <th>B</th>\n",
       "      <th>C</th>\n",
       "      <th>D</th>\n",
       "      <th>E</th>\n",
       "    </tr>\n",
       "  </thead>\n",
       "  <tbody>\n",
       "    <tr>\n",
       "      <th>a</th>\n",
       "      <td>0.0</td>\n",
       "      <td>0.0</td>\n",
       "      <td>0.0</td>\n",
       "      <td>0.0</td>\n",
       "      <td>NaN</td>\n",
       "    </tr>\n",
       "    <tr>\n",
       "      <th>b</th>\n",
       "      <td>0.0</td>\n",
       "      <td>0.0</td>\n",
       "      <td>7.0</td>\n",
       "      <td>16.0</td>\n",
       "      <td>0.0</td>\n",
       "    </tr>\n",
       "    <tr>\n",
       "      <th>c</th>\n",
       "      <td>0.0</td>\n",
       "      <td>0.0</td>\n",
       "      <td>44.0</td>\n",
       "      <td>60.0</td>\n",
       "      <td>0.0</td>\n",
       "    </tr>\n",
       "    <tr>\n",
       "      <th>d</th>\n",
       "      <td>NaN</td>\n",
       "      <td>NaN</td>\n",
       "      <td>0.0</td>\n",
       "      <td>0.0</td>\n",
       "      <td>0.0</td>\n",
       "    </tr>\n",
       "    <tr>\n",
       "      <th>e</th>\n",
       "      <td>NaN</td>\n",
       "      <td>NaN</td>\n",
       "      <td>0.0</td>\n",
       "      <td>0.0</td>\n",
       "      <td>0.0</td>\n",
       "    </tr>\n",
       "  </tbody>\n",
       "</table>\n",
       "</div>"
      ],
      "text/plain": [
       "     A    B     C     D    E\n",
       "a  0.0  0.0   0.0   0.0  NaN\n",
       "b  0.0  0.0   7.0  16.0  0.0\n",
       "c  0.0  0.0  44.0  60.0  0.0\n",
       "d  NaN  NaN   0.0   0.0  0.0\n",
       "e  NaN  NaN   0.0   0.0  0.0"
      ]
     },
     "execution_count": 85,
     "metadata": {},
     "output_type": "execute_result"
    }
   ],
   "source": [
    "#how to deal with missing elements?\n",
    "df3=df1.mul(df2,fill_value=0)\n",
    "df3"
   ]
  },
  {
   "cell_type": "code",
   "execution_count": 88,
   "metadata": {},
   "outputs": [
    {
     "data": {
      "text/plain": [
       "(       A      B      C      D      E\n",
       " a  False  False  False  False   True\n",
       " b  False  False  False  False  False\n",
       " c  False  False  False  False  False\n",
       " d   True   True  False  False  False\n",
       " e   True   True  False  False  False,        A      B     C     D      E\n",
       " a   True   True  True  True  False\n",
       " b   True   True  True  True   True\n",
       " c   True   True  True  True   True\n",
       " d  False  False  True  True   True\n",
       " e  False  False  True  True   True, a    0.0\n",
       " b    0.0\n",
       " c    0.0\n",
       " Name: B, dtype: float64)"
      ]
     },
     "execution_count": 88,
     "metadata": {},
     "output_type": "execute_result"
    }
   ],
   "source": [
    "#judgement of missing values\n",
    "df3.isnull(),df3.notnull(),df3.B[df3.B.notnull()]"
   ]
  },
  {
   "cell_type": "code",
   "execution_count": 94,
   "metadata": {},
   "outputs": [
    {
     "name": "stderr",
     "output_type": "stream",
     "text": [
      "/anaconda3/lib/python3.6/site-packages/ipykernel_launcher.py:3: DeprecationWarning: \n",
      ".ix is deprecated. Please use\n",
      ".loc for label based indexing or\n",
      ".iloc for positional indexing\n",
      "\n",
      "See the documentation here:\n",
      "http://pandas.pydata.org/pandas-docs/stable/indexing.html#ix-indexer-is-deprecated\n",
      "  This is separate from the ipykernel package so we can avoid doing imports until\n",
      "/anaconda3/lib/python3.6/site-packages/ipykernel_launcher.py:4: DeprecationWarning: \n",
      ".ix is deprecated. Please use\n",
      ".loc for label based indexing or\n",
      ".iloc for positional indexing\n",
      "\n",
      "See the documentation here:\n",
      "http://pandas.pydata.org/pandas-docs/stable/indexing.html#ix-indexer-is-deprecated\n",
      "  after removing the cwd from sys.path.\n"
     ]
    },
    {
     "data": {
      "text/plain": [
       "(          A         B         C         D\n",
       " a  0.172969  0.224252  0.163661  0.950379\n",
       " b  0.564094  0.287513  0.000000  0.111205\n",
       " c  0.000000  0.648325  0.000000  0.442967\n",
       " d  0.875092  0.059893  0.000000  0.140812\n",
       " e  0.483269  0.439106  0.395731  0.876286,\n",
       "           A         B         C         D\n",
       " a  0.172969  0.224252  0.163661  0.950379\n",
       " b  0.564094  0.287513  0.287513  0.111205\n",
       " c       NaN  0.648325  0.648325  0.442967\n",
       " d  0.875092  0.059893  0.059893  0.140812\n",
       " e  0.483269  0.439106  0.395731  0.876286,\n",
       "           A         B         C         D\n",
       " a  0.172969  0.224252  0.163661  0.950379\n",
       " b  0.564094  0.287513  0.395731  0.111205\n",
       " c  0.875092  0.648325  0.395731  0.442967\n",
       " d  0.875092  0.059893  0.395731  0.140812\n",
       " e  0.483269  0.439106  0.395731  0.876286,\n",
       "           A         B         C         D\n",
       " a  0.172969  0.224252  0.163661  0.950379\n",
       " b  0.564094  0.287513  0.163661  0.111205\n",
       " c  0.564094  0.648325  0.163661  0.442967\n",
       " d  0.875092  0.059893       NaN  0.140812\n",
       " e  0.483269  0.439106  0.395731  0.876286)"
      ]
     },
     "execution_count": 94,
     "metadata": {},
     "output_type": "execute_result"
    }
   ],
   "source": [
    "#filling of missing values\n",
    "df4=pd.DataFrame(np.random.rand(5,4),index=list('abcde')\\\n",
    "                 ,columns=list('ABCD'))\n",
    "df4.ix['c','A']=np.nan\n",
    "df4.ix['b':'d','C']=np.nan\n",
    "df4.fillna(0),df4.fillna(method='ffill',axis=1),df4.fillna(method='bfill')\\\n",
    ",df4.fillna(method='pad',limit=2)"
   ]
  },
  {
   "cell_type": "code",
   "execution_count": 98,
   "metadata": {},
   "outputs": [
    {
     "data": {
      "text/plain": [
       "(          A         B         C         D\n",
       " a  0.172969  0.224252  0.163661  0.950379\n",
       " e  0.483269  0.439106  0.395731  0.876286,           A         B         D\n",
       " a  0.172969  0.224252  0.950379\n",
       " b  0.564094  0.287513  0.111205\n",
       " c       NaN  0.648325  0.442967\n",
       " d  0.875092  0.059893  0.140812\n",
       " e  0.483269  0.439106  0.876286)"
      ]
     },
     "execution_count": 98,
     "metadata": {},
     "output_type": "execute_result"
    }
   ],
   "source": [
    "#deletion of missing values\n",
    "df4.dropna(axis=0),df4.dropna(axis=1,thresh=3)"
   ]
  },
  {
   "cell_type": "code",
   "execution_count": 102,
   "metadata": {},
   "outputs": [
    {
     "data": {
      "text/plain": [
       "0    False\n",
       "1     True\n",
       "2    False\n",
       "3    False\n",
       "4    False\n",
       "5     True\n",
       "6     True\n",
       "dtype: bool"
      ]
     },
     "execution_count": 102,
     "metadata": {},
     "output_type": "execute_result"
    }
   ],
   "source": [
    "#deletion of repeating data\n",
    "df5=pd.DataFrame({'c1':['apple']*3+['banana']*3+['apple'],\\\n",
    "              'c2':['a','a',3,3,'b','b','a']})\n",
    "df5.duplicated()"
   ]
  },
  {
   "cell_type": "code",
   "execution_count": 105,
   "metadata": {},
   "outputs": [
    {
     "data": {
      "text/html": [
       "<div>\n",
       "<style scoped>\n",
       "    .dataframe tbody tr th:only-of-type {\n",
       "        vertical-align: middle;\n",
       "    }\n",
       "\n",
       "    .dataframe tbody tr th {\n",
       "        vertical-align: top;\n",
       "    }\n",
       "\n",
       "    .dataframe thead th {\n",
       "        text-align: right;\n",
       "    }\n",
       "</style>\n",
       "<table border=\"1\" class=\"dataframe\">\n",
       "  <thead>\n",
       "    <tr style=\"text-align: right;\">\n",
       "      <th></th>\n",
       "      <th>c1</th>\n",
       "      <th>c2</th>\n",
       "    </tr>\n",
       "  </thead>\n",
       "  <tbody>\n",
       "    <tr>\n",
       "      <th>0</th>\n",
       "      <td>apple</td>\n",
       "      <td>a</td>\n",
       "    </tr>\n",
       "    <tr>\n",
       "      <th>2</th>\n",
       "      <td>apple</td>\n",
       "      <td>3</td>\n",
       "    </tr>\n",
       "    <tr>\n",
       "      <th>3</th>\n",
       "      <td>banana</td>\n",
       "      <td>3</td>\n",
       "    </tr>\n",
       "    <tr>\n",
       "      <th>4</th>\n",
       "      <td>banana</td>\n",
       "      <td>b</td>\n",
       "    </tr>\n",
       "  </tbody>\n",
       "</table>\n",
       "</div>"
      ],
      "text/plain": [
       "       c1 c2\n",
       "0   apple  a\n",
       "2   apple  3\n",
       "3  banana  3\n",
       "4  banana  b"
      ]
     },
     "execution_count": 105,
     "metadata": {},
     "output_type": "execute_result"
    }
   ],
   "source": [
    "df5.drop_duplicates()"
   ]
  },
  {
   "cell_type": "code",
   "execution_count": 106,
   "metadata": {},
   "outputs": [
    {
     "data": {
      "text/html": [
       "<div>\n",
       "<style scoped>\n",
       "    .dataframe tbody tr th:only-of-type {\n",
       "        vertical-align: middle;\n",
       "    }\n",
       "\n",
       "    .dataframe tbody tr th {\n",
       "        vertical-align: top;\n",
       "    }\n",
       "\n",
       "    .dataframe thead th {\n",
       "        text-align: right;\n",
       "    }\n",
       "</style>\n",
       "<table border=\"1\" class=\"dataframe\">\n",
       "  <thead>\n",
       "    <tr style=\"text-align: right;\">\n",
       "      <th></th>\n",
       "      <th>c1</th>\n",
       "      <th>c2</th>\n",
       "    </tr>\n",
       "  </thead>\n",
       "  <tbody>\n",
       "    <tr>\n",
       "      <th>0</th>\n",
       "      <td>apple</td>\n",
       "      <td>a</td>\n",
       "    </tr>\n",
       "    <tr>\n",
       "      <th>2</th>\n",
       "      <td>apple</td>\n",
       "      <td>3</td>\n",
       "    </tr>\n",
       "    <tr>\n",
       "      <th>4</th>\n",
       "      <td>banana</td>\n",
       "      <td>b</td>\n",
       "    </tr>\n",
       "  </tbody>\n",
       "</table>\n",
       "</div>"
      ],
      "text/plain": [
       "       c1 c2\n",
       "0   apple  a\n",
       "2   apple  3\n",
       "4  banana  b"
      ]
     },
     "execution_count": 106,
     "metadata": {},
     "output_type": "execute_result"
    }
   ],
   "source": [
    "df5.duplicated(['c2'])\n",
    "df5.drop_duplicates(['c2'])"
   ]
  },
  {
   "cell_type": "code",
   "execution_count": null,
   "metadata": {},
   "outputs": [],
   "source": []
  }
 ],
 "metadata": {
  "kernelspec": {
   "display_name": "Python 3",
   "language": "python",
   "name": "python3"
  },
  "language_info": {
   "codemirror_mode": {
    "name": "ipython",
    "version": 3
   },
   "file_extension": ".py",
   "mimetype": "text/x-python",
   "name": "python",
   "nbconvert_exporter": "python",
   "pygments_lexer": "ipython3",
   "version": "3.6.5"
  }
 },
 "nbformat": 4,
 "nbformat_minor": 2
}
