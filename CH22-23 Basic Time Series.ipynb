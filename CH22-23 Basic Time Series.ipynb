{
 "cells": [
  {
   "cell_type": "code",
   "execution_count": 1,
   "metadata": {},
   "outputs": [
    {
     "data": {
      "text/html": [
       "<div>\n",
       "<style scoped>\n",
       "    .dataframe tbody tr th:only-of-type {\n",
       "        vertical-align: middle;\n",
       "    }\n",
       "\n",
       "    .dataframe tbody tr th {\n",
       "        vertical-align: top;\n",
       "    }\n",
       "\n",
       "    .dataframe thead th {\n",
       "        text-align: right;\n",
       "    }\n",
       "</style>\n",
       "<table border=\"1\" class=\"dataframe\">\n",
       "  <thead>\n",
       "    <tr style=\"text-align: right;\">\n",
       "      <th></th>\n",
       "      <th>Indexcd</th>\n",
       "      <th>Daywk</th>\n",
       "      <th>Opnindex</th>\n",
       "      <th>Hiindex</th>\n",
       "      <th>Loindex</th>\n",
       "      <th>Clsindex</th>\n",
       "      <th>Retindex</th>\n",
       "    </tr>\n",
       "    <tr>\n",
       "      <th>Trddt</th>\n",
       "      <th></th>\n",
       "      <th></th>\n",
       "      <th></th>\n",
       "      <th></th>\n",
       "      <th></th>\n",
       "      <th></th>\n",
       "      <th></th>\n",
       "    </tr>\n",
       "  </thead>\n",
       "  <tbody>\n",
       "    <tr>\n",
       "      <th>2014/1/2</th>\n",
       "      <td>1</td>\n",
       "      <td>4</td>\n",
       "      <td>2112.126</td>\n",
       "      <td>2113.110</td>\n",
       "      <td>2101.016</td>\n",
       "      <td>2109.387</td>\n",
       "      <td>-0.003115</td>\n",
       "    </tr>\n",
       "    <tr>\n",
       "      <th>2014/1/3</th>\n",
       "      <td>1</td>\n",
       "      <td>5</td>\n",
       "      <td>2101.542</td>\n",
       "      <td>2102.167</td>\n",
       "      <td>2075.899</td>\n",
       "      <td>2083.136</td>\n",
       "      <td>-0.012445</td>\n",
       "    </tr>\n",
       "    <tr>\n",
       "      <th>2014/1/6</th>\n",
       "      <td>1</td>\n",
       "      <td>1</td>\n",
       "      <td>2078.684</td>\n",
       "      <td>2078.684</td>\n",
       "      <td>2034.006</td>\n",
       "      <td>2045.709</td>\n",
       "      <td>-0.017967</td>\n",
       "    </tr>\n",
       "  </tbody>\n",
       "</table>\n",
       "</div>"
      ],
      "text/plain": [
       "          Indexcd  Daywk  Opnindex   Hiindex   Loindex  Clsindex  Retindex\n",
       "Trddt                                                                     \n",
       "2014/1/2        1      4  2112.126  2113.110  2101.016  2109.387 -0.003115\n",
       "2014/1/3        1      5  2101.542  2102.167  2075.899  2083.136 -0.012445\n",
       "2014/1/6        1      1  2078.684  2078.684  2034.006  2045.709 -0.017967"
      ]
     },
     "execution_count": 1,
     "metadata": {},
     "output_type": "execute_result"
    }
   ],
   "source": [
    "import pandas as pd\n",
    "Index=pd.read_table('TRD_Index_22.txt',sep='\\t',index_col='Trddt')\n",
    "SHindex=Index[Index.Indexcd==1]\n",
    "SHindex.head(n=3)"
   ]
  },
  {
   "cell_type": "code",
   "execution_count": 2,
   "metadata": {},
   "outputs": [
    {
     "data": {
      "text/plain": [
       "pandas.core.frame.DataFrame"
      ]
     },
     "execution_count": 2,
     "metadata": {},
     "output_type": "execute_result"
    }
   ],
   "source": [
    "# check data type\n",
    "type(SHindex)"
   ]
  },
  {
   "cell_type": "code",
   "execution_count": 3,
   "metadata": {},
   "outputs": [
    {
     "data": {
      "text/plain": [
       "Trddt\n",
       "2014/1/2    2109.387\n",
       "2014/1/3    2083.136\n",
       "2014/1/6    2045.709\n",
       "Name: Clsindex, dtype: float64"
      ]
     },
     "execution_count": 3,
     "metadata": {},
     "output_type": "execute_result"
    }
   ],
   "source": [
    "Clsindex=SHindex.Clsindex\n",
    "Clsindex.head(n=3)"
   ]
  },
  {
   "cell_type": "code",
   "execution_count": 4,
   "metadata": {},
   "outputs": [
    {
     "data": {
      "text/plain": [
       "pandas.core.series.Series"
      ]
     },
     "execution_count": 4,
     "metadata": {},
     "output_type": "execute_result"
    }
   ],
   "source": [
    "type(Clsindex)"
   ]
  },
  {
   "cell_type": "code",
   "execution_count": 5,
   "metadata": {},
   "outputs": [
    {
     "data": {
      "text/plain": [
       "pandas.core.indexes.base.Index"
      ]
     },
     "execution_count": 5,
     "metadata": {},
     "output_type": "execute_result"
    }
   ],
   "source": [
    "type(Clsindex.index)"
   ]
  },
  {
   "cell_type": "code",
   "execution_count": 6,
   "metadata": {},
   "outputs": [
    {
     "data": {
      "text/plain": [
       "Trddt\n",
       "2014-01-02    2109.387\n",
       "2014-01-03    2083.136\n",
       "2014-01-06    2045.709\n",
       "Name: Clsindex, dtype: float64"
      ]
     },
     "execution_count": 6,
     "metadata": {},
     "output_type": "execute_result"
    }
   ],
   "source": [
    "# tranfer close prices into Series type\n",
    "Clsindex.index=pd.to_datetime(Clsindex.index)\n",
    "Clsindex.head(n=3)"
   ]
  },
  {
   "cell_type": "code",
   "execution_count": 7,
   "metadata": {},
   "outputs": [
    {
     "data": {
      "text/plain": [
       "pandas.core.series.Series"
      ]
     },
     "execution_count": 7,
     "metadata": {},
     "output_type": "execute_result"
    }
   ],
   "source": [
    "type(Clsindex)"
   ]
  },
  {
   "cell_type": "code",
   "execution_count": 8,
   "metadata": {},
   "outputs": [
    {
     "data": {
      "text/plain": [
       "pandas.core.indexes.datetimes.DatetimeIndex"
      ]
     },
     "execution_count": 8,
     "metadata": {},
     "output_type": "execute_result"
    }
   ],
   "source": [
    "type(Clsindex.index)"
   ]
  },
  {
   "cell_type": "code",
   "execution_count": 10,
   "metadata": {},
   "outputs": [
    {
     "data": {
      "text/plain": [
       "<matplotlib.axes._subplots.AxesSubplot at 0x121e452e8>"
      ]
     },
     "execution_count": 10,
     "metadata": {},
     "output_type": "execute_result"
    },
    {
     "data": {
      "image/png": "[encoded data removed]",
      "text/plain": [
       "<Figure size 432x288 with 1 Axes>"
      ]
     },
     "metadata": {},
     "output_type": "display_data"
    }
   ],
   "source": [
    "Clsindex.plot()"
   ]
  },
  {
   "cell_type": "code",
   "execution_count": 11,
   "metadata": {},
   "outputs": [
    {
     "data": {
      "text/plain": [
       "[            Indexcd  Daywk  Opnindex   Hiindex   Loindex  Clsindex  Retindex\n",
       " Trddt                                                                       \n",
       " 2014-10-08        1      3  2368.576  2382.794  2354.290  2382.794  0.008006\n",
       " 2014-10-09        1      4  2383.859  2391.348  2367.111  2389.371  0.002760,\n",
       "             Indexcd  Daywk  Opnindex   Hiindex   Loindex  Clsindex  Retindex\n",
       " Trddt                                                                       \n",
       " 2014-10-30        1      4  2371.891  2397.256  2365.919  2391.076  0.007605\n",
       " 2014-10-31        1      5  2393.178  2423.596  2384.483  2420.178  0.012171]"
      ]
     },
     "execution_count": 11,
     "metadata": {},
     "output_type": "execute_result"
    }
   ],
   "source": [
    "# filtrate a subset of data\n",
    "SHindex.index=pd.to_datetime(SHindex.index)\n",
    "SHindexPart=SHindex['2014-10-08':'2014-10-31']\n",
    "[SHindexPart.head(n=2),SHindexPart.tail(n=2)]"
   ]
  },
  {
   "cell_type": "code",
   "execution_count": 12,
   "metadata": {},
   "outputs": [
    {
     "data": {
      "text/plain": [
       "[            Indexcd  Daywk  Opnindex   Hiindex   Loindex  Clsindex  Retindex\n",
       " Trddt                                                                       \n",
       " 2015-01-05        1      1  3258.627  3369.281  3253.883  3350.519  0.035813\n",
       " 2015-01-06        1      2  3330.799  3394.224  3303.184  3351.446  0.000277,\n",
       "             Indexcd  Daywk  Opnindex   Hiindex   Loindex  Clsindex  Retindex\n",
       " Trddt                                                                       \n",
       " 2015-04-13        1      1  4072.723  4128.072  4057.293  4121.715  0.021665\n",
       " 2015-04-14        1      2  4125.782  4168.346  4091.257  4135.565  0.003360]"
      ]
     },
     "execution_count": 12,
     "metadata": {},
     "output_type": "execute_result"
    }
   ],
   "source": [
    "SHindex2015=SHindex['2015']\n",
    "[SHindex2015.head(n=2),SHindex2015.tail(n=2)]"
   ]
  },
  {
   "cell_type": "code",
   "execution_count": 13,
   "metadata": {},
   "outputs": [
    {
     "data": {
      "text/html": [
       "<div>\n",
       "<style scoped>\n",
       "    .dataframe tbody tr th:only-of-type {\n",
       "        vertical-align: middle;\n",
       "    }\n",
       "\n",
       "    .dataframe tbody tr th {\n",
       "        vertical-align: top;\n",
       "    }\n",
       "\n",
       "    .dataframe thead th {\n",
       "        text-align: right;\n",
       "    }\n",
       "</style>\n",
       "<table border=\"1\" class=\"dataframe\">\n",
       "  <thead>\n",
       "    <tr style=\"text-align: right;\">\n",
       "      <th></th>\n",
       "      <th>Indexcd</th>\n",
       "      <th>Daywk</th>\n",
       "      <th>Opnindex</th>\n",
       "      <th>Hiindex</th>\n",
       "      <th>Loindex</th>\n",
       "      <th>Clsindex</th>\n",
       "      <th>Retindex</th>\n",
       "    </tr>\n",
       "    <tr>\n",
       "      <th>Trddt</th>\n",
       "      <th></th>\n",
       "      <th></th>\n",
       "      <th></th>\n",
       "      <th></th>\n",
       "      <th></th>\n",
       "      <th></th>\n",
       "      <th></th>\n",
       "    </tr>\n",
       "  </thead>\n",
       "  <tbody>\n",
       "    <tr>\n",
       "      <th>2015-01-05</th>\n",
       "      <td>1</td>\n",
       "      <td>1</td>\n",
       "      <td>3258.627</td>\n",
       "      <td>3369.281</td>\n",
       "      <td>3253.883</td>\n",
       "      <td>3350.519</td>\n",
       "      <td>0.035813</td>\n",
       "    </tr>\n",
       "    <tr>\n",
       "      <th>2015-01-06</th>\n",
       "      <td>1</td>\n",
       "      <td>2</td>\n",
       "      <td>3330.799</td>\n",
       "      <td>3394.224</td>\n",
       "      <td>3303.184</td>\n",
       "      <td>3351.446</td>\n",
       "      <td>0.000277</td>\n",
       "    </tr>\n",
       "  </tbody>\n",
       "</table>\n",
       "</div>"
      ],
      "text/plain": [
       "            Indexcd  Daywk  Opnindex   Hiindex   Loindex  Clsindex  Retindex\n",
       "Trddt                                                                       \n",
       "2015-01-05        1      1  3258.627  3369.281  3253.883  3350.519  0.035813\n",
       "2015-01-06        1      2  3330.799  3394.224  3303.184  3351.446  0.000277"
      ]
     },
     "execution_count": 13,
     "metadata": {},
     "output_type": "execute_result"
    }
   ],
   "source": [
    "SHindexAfternoon2015=SHindex['2015':]\n",
    "SHindexAfternoon2015.head(n=2)"
   ]
  },
  {
   "cell_type": "code",
   "execution_count": 14,
   "metadata": {},
   "outputs": [
    {
     "data": {
      "text/html": [
       "<div>\n",
       "<style scoped>\n",
       "    .dataframe tbody tr th:only-of-type {\n",
       "        vertical-align: middle;\n",
       "    }\n",
       "\n",
       "    .dataframe tbody tr th {\n",
       "        vertical-align: top;\n",
       "    }\n",
       "\n",
       "    .dataframe thead th {\n",
       "        text-align: right;\n",
       "    }\n",
       "</style>\n",
       "<table border=\"1\" class=\"dataframe\">\n",
       "  <thead>\n",
       "    <tr style=\"text-align: right;\">\n",
       "      <th></th>\n",
       "      <th>Indexcd</th>\n",
       "      <th>Daywk</th>\n",
       "      <th>Opnindex</th>\n",
       "      <th>Hiindex</th>\n",
       "      <th>Loindex</th>\n",
       "      <th>Clsindex</th>\n",
       "      <th>Retindex</th>\n",
       "    </tr>\n",
       "    <tr>\n",
       "      <th>Trddt</th>\n",
       "      <th></th>\n",
       "      <th></th>\n",
       "      <th></th>\n",
       "      <th></th>\n",
       "      <th></th>\n",
       "      <th></th>\n",
       "      <th></th>\n",
       "    </tr>\n",
       "  </thead>\n",
       "  <tbody>\n",
       "    <tr>\n",
       "      <th>2014-12-30</th>\n",
       "      <td>1</td>\n",
       "      <td>2</td>\n",
       "      <td>3160.801</td>\n",
       "      <td>3190.299</td>\n",
       "      <td>3130.353</td>\n",
       "      <td>3165.815</td>\n",
       "      <td>-0.000695</td>\n",
       "    </tr>\n",
       "    <tr>\n",
       "      <th>2014-12-31</th>\n",
       "      <td>1</td>\n",
       "      <td>3</td>\n",
       "      <td>3172.597</td>\n",
       "      <td>3239.357</td>\n",
       "      <td>3157.259</td>\n",
       "      <td>3234.677</td>\n",
       "      <td>0.021752</td>\n",
       "    </tr>\n",
       "  </tbody>\n",
       "</table>\n",
       "</div>"
      ],
      "text/plain": [
       "            Indexcd  Daywk  Opnindex   Hiindex   Loindex  Clsindex  Retindex\n",
       "Trddt                                                                       \n",
       "2014-12-30        1      2  3160.801  3190.299  3130.353  3165.815 -0.000695\n",
       "2014-12-31        1      3  3172.597  3239.357  3157.259  3234.677  0.021752"
      ]
     },
     "execution_count": 14,
     "metadata": {},
     "output_type": "execute_result"
    }
   ],
   "source": [
    "SHindexAfternoon2015=SHindex[:'2014-12-31']\n",
    "SHindexAfternoon2015.tail(n=2)"
   ]
  },
  {
   "cell_type": "code",
   "execution_count": 15,
   "metadata": {},
   "outputs": [
    {
     "data": {
      "text/html": [
       "<div>\n",
       "<style scoped>\n",
       "    .dataframe tbody tr th:only-of-type {\n",
       "        vertical-align: middle;\n",
       "    }\n",
       "\n",
       "    .dataframe tbody tr th {\n",
       "        vertical-align: top;\n",
       "    }\n",
       "\n",
       "    .dataframe thead th {\n",
       "        text-align: right;\n",
       "    }\n",
       "</style>\n",
       "<table border=\"1\" class=\"dataframe\">\n",
       "  <thead>\n",
       "    <tr style=\"text-align: right;\">\n",
       "      <th></th>\n",
       "      <th>Indexcd</th>\n",
       "      <th>Daywk</th>\n",
       "      <th>Opnindex</th>\n",
       "      <th>Hiindex</th>\n",
       "      <th>Loindex</th>\n",
       "      <th>Clsindex</th>\n",
       "      <th>Retindex</th>\n",
       "    </tr>\n",
       "    <tr>\n",
       "      <th>Trddt</th>\n",
       "      <th></th>\n",
       "      <th></th>\n",
       "      <th></th>\n",
       "      <th></th>\n",
       "      <th></th>\n",
       "      <th></th>\n",
       "      <th></th>\n",
       "    </tr>\n",
       "  </thead>\n",
       "  <tbody>\n",
       "    <tr>\n",
       "      <th>2014-09-01</th>\n",
       "      <td>1</td>\n",
       "      <td>1</td>\n",
       "      <td>2220.129</td>\n",
       "      <td>2236.286</td>\n",
       "      <td>2217.685</td>\n",
       "      <td>2235.511</td>\n",
       "      <td>0.008259</td>\n",
       "    </tr>\n",
       "    <tr>\n",
       "      <th>2014-09-02</th>\n",
       "      <td>1</td>\n",
       "      <td>2</td>\n",
       "      <td>2239.684</td>\n",
       "      <td>2267.509</td>\n",
       "      <td>2234.378</td>\n",
       "      <td>2266.046</td>\n",
       "      <td>0.013659</td>\n",
       "    </tr>\n",
       "  </tbody>\n",
       "</table>\n",
       "</div>"
      ],
      "text/plain": [
       "            Indexcd  Daywk  Opnindex   Hiindex   Loindex  Clsindex  Retindex\n",
       "Trddt                                                                       \n",
       "2014-09-01        1      1  2220.129  2236.286  2217.685  2235.511  0.008259\n",
       "2014-09-02        1      2  2239.684  2267.509  2234.378  2266.046  0.013659"
      ]
     },
     "execution_count": 15,
     "metadata": {},
     "output_type": "execute_result"
    }
   ],
   "source": [
    "SHindex9End=SHindex['2014-09':'2014']\n",
    "SHindex9End.head(n=2)"
   ]
  },
  {
   "cell_type": "code",
   "execution_count": 16,
   "metadata": {},
   "outputs": [
    {
     "data": {
      "text/plain": [
       "Trddt\n",
       "2014-01-02    2109.387\n",
       "2014-01-03    2083.136\n",
       "2014-01-06    2045.709\n",
       "2014-01-07    2047.317\n",
       "2014-01-08    2044.340\n",
       "Name: Clsindex, dtype: float64"
      ]
     },
     "execution_count": 16,
     "metadata": {},
     "output_type": "execute_result"
    }
   ],
   "source": [
    "# descriptional stats\n",
    "Clsindex.head()"
   ]
  },
  {
   "cell_type": "code",
   "execution_count": 17,
   "metadata": {},
   "outputs": [
    {
     "data": {
      "text/plain": [
       "Trddt\n",
       "2015-04-14    4135.565\n",
       "Name: Clsindex, dtype: float64"
      ]
     },
     "execution_count": 17,
     "metadata": {},
     "output_type": "execute_result"
    }
   ],
   "source": [
    "Clsindex.tail(n=1)"
   ]
  },
  {
   "cell_type": "code",
   "execution_count": 18,
   "metadata": {},
   "outputs": [
    {
     "data": {
      "text/plain": [
       "<matplotlib.axes._subplots.AxesSubplot at 0x121f321d0>"
      ]
     },
     "execution_count": 18,
     "metadata": {},
     "output_type": "execute_result"
    },
    {
     "data": {
      "image/png": "[encoded data removed]",
      "text/plain": [
       "<Figure size 432x288 with 1 Axes>"
      ]
     },
     "metadata": {},
     "output_type": "display_data"
    }
   ],
   "source": [
    "Clsindex.hist()"
   ]
  },
  {
   "cell_type": "code",
   "execution_count": 19,
   "metadata": {},
   "outputs": [
    {
     "data": {
      "text/plain": [
       "[4135.5649999999996,\n",
       " 1991.2529999999999,\n",
       " 2490.0011607717042,\n",
       " 2224.654,\n",
       " 563.7009796636235]"
      ]
     },
     "execution_count": 19,
     "metadata": {},
     "output_type": "execute_result"
    }
   ],
   "source": [
    "[Clsindex.max(),Clsindex.min(),Clsindex.mean(),Clsindex.median(),Clsindex.std()]"
   ]
  },
  {
   "cell_type": "code",
   "execution_count": 20,
   "metadata": {},
   "outputs": [
    {
     "data": {
      "text/plain": [
       "count     311.000000\n",
       "mean     2490.001161\n",
       "std       563.700980\n",
       "min      1991.253000\n",
       "25%      2052.140500\n",
       "50%      2224.654000\n",
       "75%      2996.395000\n",
       "max      4135.565000\n",
       "Name: Clsindex, dtype: float64"
      ]
     },
     "execution_count": 20,
     "metadata": {},
     "output_type": "execute_result"
    }
   ],
   "source": [
    "Clsindex.describe()"
   ]
  },
  {
   "cell_type": "code",
   "execution_count": 21,
   "metadata": {},
   "outputs": [
    {
     "data": {
      "text/plain": [
       "pandas.core.series.Series"
      ]
     },
     "execution_count": 21,
     "metadata": {},
     "output_type": "execute_result"
    }
   ],
   "source": [
    "# Autocorrelation property\n",
    "# Autocorrelation Coefficient Function (ACF), Partial Autocorrelation Coefficient Function (PACF)\n",
    "# Autocovariance: Cov(X_k,X_{k-l})\n",
    "# Autocorrelation Coef: Cov(X_k,X_{k-l})/Var(X_k)\n",
    "# Partial Autocorrelation Coef: Corr(X_k, X_{k-l}|X_{k-1},..., X_{k-l+1})\n",
    "from statsmodels.tsa import stattools\n",
    "import pandas as pd\n",
    "data=pd.read_table('TRD_Index_23.txt',sep='\\t',index_col='Trddt')\n",
    "SHindex=data[data.Indexcd==1]\n",
    "SHindex.index=pd.to_datetime(SHindex.index)\n",
    "SHRet=SHindex.Retindex\n",
    "type(SHRet)"
   ]
  },
  {
   "cell_type": "code",
   "execution_count": 22,
   "metadata": {},
   "outputs": [
    {
     "data": {
      "text/plain": [
       "array([ 1.        ,  0.03527714, -0.01178861, -0.02953388,  0.16043181])"
      ]
     },
     "execution_count": 22,
     "metadata": {},
     "output_type": "execute_result"
    }
   ],
   "source": [
    "acfs=stattools.acf(SHRet)\n",
    "acfs[:5]"
   ]
  },
  {
   "cell_type": "code",
   "execution_count": 23,
   "metadata": {},
   "outputs": [
    {
     "data": {
      "text/plain": [
       "array([ 1.        ,  0.03539094, -0.01313388, -0.02897258,  0.16483494])"
      ]
     },
     "execution_count": 23,
     "metadata": {},
     "output_type": "execute_result"
    }
   ],
   "source": [
    "pacfs=stattools.pacf(SHRet)\n",
    "pacfs[:5]"
   ]
  },
  {
   "cell_type": "code",
   "execution_count": 24,
   "metadata": {},
   "outputs": [
    {
     "data": {
      "image/png": "[encoded data removed]",
      "text/plain": [
       "<Figure size 432x288 with 1 Axes>"
      ]
     },
     "execution_count": 24,
     "metadata": {},
     "output_type": "execute_result"
    },
    {
     "data": {
      "image/png": "[encoded data removed]",
      "text/plain": [
       "<Figure size 432x288 with 1 Axes>"
      ]
     },
     "metadata": {},
     "output_type": "display_data"
    }
   ],
   "source": [
    "# plotting above results\n",
    "from statsmodels.graphics.tsaplots import *\n",
    "plot_acf(SHRet,use_vlines=True,lags=30)"
   ]
  },
  {
   "cell_type": "code",
   "execution_count": 25,
   "metadata": {},
   "outputs": [
    {
     "data": {
      "image/png": "[encoded data removed]",
      "text/plain": [
       "<Figure size 432x288 with 1 Axes>"
      ]
     },
     "execution_count": 25,
     "metadata": {},
     "output_type": "execute_result"
    },
    {
     "data": {
      "image/png": "[encoded data removed]",
      "text/plain": [
       "<Figure size 432x288 with 1 Axes>"
      ]
     },
     "metadata": {},
     "output_type": "display_data"
    }
   ],
   "source": [
    "plot_pacf(SHRet,use_vlines=True,lags=30)"
   ]
  },
  {
   "cell_type": "code",
   "execution_count": 26,
   "metadata": {},
   "outputs": [
    {
     "data": {
      "text/plain": [
       "Text(0.5,1,'2014-2015 SH Index Closing Index')"
      ]
     },
     "execution_count": 26,
     "metadata": {},
     "output_type": "execute_result"
    },
    {
     "data": {
      "image/png": "[encoded data removed]",
      "text/plain": [
       "<Figure size 432x288 with 1 Axes>"
      ]
     },
     "metadata": {},
     "output_type": "display_data"
    }
   ],
   "source": [
    "# stationary property\n",
    "import matplotlib.pyplot as plt\n",
    "SHclose=SHindex.Clsindex\n",
    "SHclose.plot()\n",
    "plt.title('2014-2015 SH Index Closing Index')\n",
    "# if the plot is around some level, it is very likely to be stationary\n",
    "# here the increasing tendency is obvious, so it is probably not stationary"
   ]
  },
  {
   "cell_type": "code",
   "execution_count": 27,
   "metadata": {},
   "outputs": [
    {
     "data": {
      "text/plain": [
       "Text(0.5,1,'2014-2015 SH Index Closing Return')"
      ]
     },
     "execution_count": 27,
     "metadata": {},
     "output_type": "execute_result"
    },
    {
     "data": {
      "image/png": "[encoded data removed]",
      "text/plain": [
       "<Figure size 432x288 with 1 Axes>"
      ]
     },
     "metadata": {},
     "output_type": "display_data"
    }
   ],
   "source": [
    "SHRet.plot()\n",
    "plt.title('2014-2015 SH Index Closing Return')\n",
    "# it is very likely to be stationary"
   ]
  },
  {
   "cell_type": "code",
   "execution_count": 28,
   "metadata": {},
   "outputs": [
    {
     "data": {
      "image/png": "[encoded data removed]",
      "text/plain": [
       "<Figure size 432x288 with 1 Axes>"
      ]
     },
     "execution_count": 28,
     "metadata": {},
     "output_type": "execute_result"
    },
    {
     "data": {
      "image/png": "[encoded data removed]",
      "text/plain": [
       "<Figure size 432x288 with 1 Axes>"
      ]
     },
     "metadata": {},
     "output_type": "display_data"
    }
   ],
   "source": [
    "# if use acf / pacf plot, it is likely to view it as stationary if it goes to zero quickly\n",
    "plot_acf(SHRet,use_vlines=True,lags=30)"
   ]
  },
  {
   "cell_type": "code",
   "execution_count": 29,
   "metadata": {},
   "outputs": [
    {
     "data": {
      "image/png": "[encoded data removed]",
      "text/plain": [
       "<Figure size 432x288 with 1 Axes>"
      ]
     },
     "execution_count": 29,
     "metadata": {},
     "output_type": "execute_result"
    },
    {
     "data": {
      "image/png": "[encoded data removed]",
      "text/plain": [
       "<Figure size 432x288 with 1 Axes>"
      ]
     },
     "metadata": {},
     "output_type": "display_data"
    }
   ],
   "source": [
    "plot_pacf(SHRet,use_vlines=True,lags=30)"
   ]
  },
  {
   "cell_type": "code",
   "execution_count": 30,
   "metadata": {},
   "outputs": [
    {
     "data": {
      "image/png": "[encoded data removed]",
      "text/plain": [
       "<Figure size 432x288 with 1 Axes>"
      ]
     },
     "execution_count": 30,
     "metadata": {},
     "output_type": "execute_result"
    },
    {
     "data": {
      "image/png": "[encoded data removed]",
      "text/plain": [
       "<Figure size 432x288 with 1 Axes>"
      ]
     },
     "metadata": {},
     "output_type": "display_data"
    }
   ],
   "source": [
    "plot_acf(SHclose,use_vlines=True,lags=30)"
   ]
  },
  {
   "cell_type": "code",
   "execution_count": 32,
   "metadata": {},
   "outputs": [
    {
     "name": "stdout",
     "output_type": "stream",
     "text": [
      "True\n",
      "   Augmented Dickey-Fuller Results   \n",
      "=====================================\n",
      "Test Statistic                 -7.559\n",
      "P-value                         0.000\n",
      "Lags                                3\n",
      "-------------------------------------\n",
      "\n",
      "Trend: Constant\n",
      "Critical Values: -3.45 (1%), -2.87 (5%), -2.57 (10%)\n",
      "Null Hypothesis: The process contains a unit root.\n",
      "Alternative Hypothesis: The process is weakly stationary.\n"
     ]
    }
   ],
   "source": [
    "# unit root test\n",
    "# for non-stationary series, we can difference many times to get a staionary series\n",
    "# A time series is stationary or not can be checked by lag operator Lx_t=x_{t-1}\n",
    "# for instance, consider 1st order: (1-L)x_t=\\epsilon_t, the root of 1-L is 1\n",
    "# the norm of 1 is not > 1, so it is not stationary\n",
    "# if all roots are > 1 (doesn't exist unit root), then stationary\n",
    "# use ADF test to check this phenomenon\n",
    "from arch.unitroot import ADF\n",
    "adfSHRet=ADF(SHRet)\n",
    "# return a class\n",
    "print(adfSHRet.summary().as_text())\n",
    "# the statistic is smaller than critical value, then reject null hypothesis (it is stationary)\n",
    "# it is stationary, as the conclusion before"
   ]
  },
  {
   "cell_type": "code",
   "execution_count": 33,
   "metadata": {},
   "outputs": [
    {
     "name": "stdout",
     "output_type": "stream",
     "text": [
      "True\n",
      "   Augmented Dickey-Fuller Results   \n",
      "=====================================\n",
      "Test Statistic                  2.549\n",
      "P-value                         0.999\n",
      "Lags                                4\n",
      "-------------------------------------\n",
      "\n",
      "Trend: Constant\n",
      "Critical Values: -3.45 (1%), -2.87 (5%), -2.57 (10%)\n",
      "Null Hypothesis: The process contains a unit root.\n",
      "Alternative Hypothesis: The process is weakly stationary.\n"
     ]
    }
   ],
   "source": [
    "adfSHclose=ADF(SHclose)\n",
    "print(adfSHclose.summary().as_text())\n",
    "# not stationary"
   ]
  },
  {
   "cell_type": "code",
   "execution_count": 34,
   "metadata": {},
   "outputs": [
    {
     "data": {
      "text/plain": [
       "Text(0.5,1,'White Noise')"
      ]
     },
     "execution_count": 34,
     "metadata": {},
     "output_type": "execute_result"
    },
    {
     "data": {
      "image/png": "[encoded data removed]",
      "text/plain": [
       "<Figure size 432x288 with 1 Axes>"
      ]
     },
     "metadata": {},
     "output_type": "display_data"
    }
   ],
   "source": [
    "# White Noise\n",
    "# generate pure random series\n",
    "whiteNoise=np.random.standard_normal(size=500)\n",
    "plt.plot(whiteNoise,c='b')\n",
    "plt.title('White Noise')"
   ]
  },
  {
   "cell_type": "code",
   "execution_count": 35,
   "metadata": {},
   "outputs": [
    {
     "data": {
      "text/plain": [
       "(array([  0.39077768,   0.43455722,   0.7102307 ,   8.87130492,\n",
       "          9.68869854,   9.69861023,   9.90782614,  10.00770409,\n",
       "         10.05187169,  10.90544768,  11.41474472,  11.41630878]),\n",
       " array([ 0.53189091,  0.80470574,  0.87079499,  0.06439799,  0.08455194,\n",
       "         0.13793151,  0.19385734,  0.26448561,  0.34630225,  0.36493184,\n",
       "         0.40919934,  0.4936175 ]))"
      ]
     },
     "execution_count": 35,
     "metadata": {},
     "output_type": "execute_result"
    }
   ],
   "source": [
    "# like before, the random walk (sum of white noises) is not stationary so it can not be predicted\n",
    "# pure random series (white noise) has significant importance in stats\n",
    "# next we introduce Ljung-Box test\n",
    "# test if a series is a pure random series (means no pattern or properties)\n",
    "LjungBox1=stattools.q_stat(stattools.acf(SHRet)[1:13],len(SHRet))\n",
    "LjungBox1\n",
    "# second row is p-values, which should be considered by us\n",
    "# this case p-value too large so we accept null hypo, then it is pure random"
   ]
  },
  {
   "cell_type": "code",
   "execution_count": 36,
   "metadata": {},
   "outputs": [
    {
     "data": {
      "text/plain": [
       "0.49361749645029318"
      ]
     },
     "execution_count": 36,
     "metadata": {},
     "output_type": "execute_result"
    }
   ],
   "source": [
    "LjungBox1[1][-1]"
   ]
  },
  {
   "cell_type": "code",
   "execution_count": 38,
   "metadata": {},
   "outputs": [
    {
     "data": {
      "text/plain": [
       "0.0"
      ]
     },
     "execution_count": 38,
     "metadata": {},
     "output_type": "execute_result"
    }
   ],
   "source": [
    "LjungBox2=stattools.q_stat(stattools.acf(SHclose)[1:13],len(SHclose))\n",
    "LjungBox2[1][-1]\n",
    "# p-value small, so not pure random, which means maybe autocorrelated"
   ]
  },
  {
   "cell_type": "code",
   "execution_count": null,
   "metadata": {},
   "outputs": [],
   "source": []
  }
 ],
 "metadata": {
  "kernelspec": {
   "display_name": "Python 3",
   "language": "python",
   "name": "python3"
  },
  "language_info": {
   "codemirror_mode": {
    "name": "ipython",
    "version": 3
   },
   "file_extension": ".py",
   "mimetype": "text/x-python",
   "name": "python",
   "nbconvert_exporter": "python",
   "pygments_lexer": "ipython3",
   "version": "3.6.5"
  }
 },
 "nbformat": 4,
 "nbformat_minor": 2
}
