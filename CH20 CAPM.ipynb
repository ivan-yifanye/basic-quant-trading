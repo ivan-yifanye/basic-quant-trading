{
 "cells": [
  {
   "cell_type": "code",
   "execution_count": 5,
   "metadata": {},
   "outputs": [
    {
     "data": {
      "text/html": [
       "<div>\n",
       "<style scoped>\n",
       "    .dataframe tbody tr th:only-of-type {\n",
       "        vertical-align: middle;\n",
       "    }\n",
       "\n",
       "    .dataframe tbody tr th {\n",
       "        vertical-align: top;\n",
       "    }\n",
       "\n",
       "    .dataframe thead th {\n",
       "        text-align: right;\n",
       "    }\n",
       "</style>\n",
       "<table border=\"1\" class=\"dataframe\">\n",
       "  <thead>\n",
       "    <tr style=\"text-align: right;\">\n",
       "      <th></th>\n",
       "      <th>Indexcd</th>\n",
       "      <th>Daywk</th>\n",
       "      <th>Opnindex</th>\n",
       "      <th>Hiindex</th>\n",
       "      <th>Loindex</th>\n",
       "      <th>Clsindex</th>\n",
       "      <th>Retindex</th>\n",
       "    </tr>\n",
       "    <tr>\n",
       "      <th>Trddt</th>\n",
       "      <th></th>\n",
       "      <th></th>\n",
       "      <th></th>\n",
       "      <th></th>\n",
       "      <th></th>\n",
       "      <th></th>\n",
       "      <th></th>\n",
       "    </tr>\n",
       "  </thead>\n",
       "  <tbody>\n",
       "    <tr>\n",
       "      <th>2014/1/2</th>\n",
       "      <td>902</td>\n",
       "      <td>4</td>\n",
       "      <td>3014.540</td>\n",
       "      <td>3029.042</td>\n",
       "      <td>3006.146</td>\n",
       "      <td>3028.749</td>\n",
       "      <td>0.002563</td>\n",
       "    </tr>\n",
       "    <tr>\n",
       "      <th>2014/1/3</th>\n",
       "      <td>902</td>\n",
       "      <td>5</td>\n",
       "      <td>3019.490</td>\n",
       "      <td>3022.980</td>\n",
       "      <td>2988.794</td>\n",
       "      <td>3001.462</td>\n",
       "      <td>-0.009009</td>\n",
       "    </tr>\n",
       "    <tr>\n",
       "      <th>2014/1/6</th>\n",
       "      <td>902</td>\n",
       "      <td>1</td>\n",
       "      <td>2995.242</td>\n",
       "      <td>2995.242</td>\n",
       "      <td>2922.058</td>\n",
       "      <td>2927.477</td>\n",
       "      <td>-0.024650</td>\n",
       "    </tr>\n",
       "    <tr>\n",
       "      <th>2014/1/7</th>\n",
       "      <td>902</td>\n",
       "      <td>2</td>\n",
       "      <td>2911.057</td>\n",
       "      <td>2943.681</td>\n",
       "      <td>2905.071</td>\n",
       "      <td>2938.602</td>\n",
       "      <td>0.003800</td>\n",
       "    </tr>\n",
       "    <tr>\n",
       "      <th>2014/1/8</th>\n",
       "      <td>902</td>\n",
       "      <td>3</td>\n",
       "      <td>2942.276</td>\n",
       "      <td>2972.339</td>\n",
       "      <td>2933.970</td>\n",
       "      <td>2950.733</td>\n",
       "      <td>0.004128</td>\n",
       "    </tr>\n",
       "  </tbody>\n",
       "</table>\n",
       "</div>"
      ],
      "text/plain": [
       "          Indexcd  Daywk  Opnindex   Hiindex   Loindex  Clsindex  Retindex\n",
       "Trddt                                                                     \n",
       "2014/1/2      902      4  3014.540  3029.042  3006.146  3028.749  0.002563\n",
       "2014/1/3      902      5  3019.490  3022.980  2988.794  3001.462 -0.009009\n",
       "2014/1/6      902      1  2995.242  2995.242  2922.058  2927.477 -0.024650\n",
       "2014/1/7      902      2  2911.057  2943.681  2905.071  2938.602  0.003800\n",
       "2014/1/8      902      3  2942.276  2972.339  2933.970  2950.733  0.004128"
      ]
     },
     "execution_count": 5,
     "metadata": {},
     "output_type": "execute_result"
    }
   ],
   "source": [
    "# get index data\n",
    "import pandas as pd\n",
    "indexcd=pd.read_csv('TRD_Index_20.csv',index_col='Trddt')\n",
    "mktcd=indexcd[indexcd.Indexcd==902]\n",
    "mktcd.head()"
   ]
  },
  {
   "cell_type": "code",
   "execution_count": 6,
   "metadata": {},
   "outputs": [
    {
     "data": {
      "text/plain": [
       "Trddt\n",
       "2014-01-02    0.002563\n",
       "2014-01-03   -0.009009\n",
       "2014-01-06   -0.024650\n",
       "2014-01-07    0.003800\n",
       "2014-01-08    0.004128\n",
       "Name: mktret, dtype: float64"
      ]
     },
     "execution_count": 6,
     "metadata": {},
     "output_type": "execute_result"
    }
   ],
   "source": [
    "mktret=pd.Series(mktcd.Retindex.values,index=pd.to_datetime(mktcd.index))\n",
    "mktret.name='mktret'\n",
    "mktret.head()"
   ]
  },
  {
   "cell_type": "code",
   "execution_count": 7,
   "metadata": {},
   "outputs": [
    {
     "data": {
      "text/plain": [
       "Trddt\n",
       "2014-12-25    0.024282\n",
       "2014-12-26    0.020379\n",
       "2014-12-29   -0.005938\n",
       "2014-12-30   -0.008057\n",
       "2014-12-31    0.015834\n",
       "Name: mktret, dtype: float64"
      ]
     },
     "execution_count": 7,
     "metadata": {},
     "output_type": "execute_result"
    }
   ],
   "source": [
    "mktret=mktret['2014-01-02':'2014']\n",
    "mktret.tail()"
   ]
  },
  {
   "cell_type": "code",
   "execution_count": 8,
   "metadata": {},
   "outputs": [
    {
     "data": {
      "text/html": [
       "<div>\n",
       "<style scoped>\n",
       "    .dataframe tbody tr th:only-of-type {\n",
       "        vertical-align: middle;\n",
       "    }\n",
       "\n",
       "    .dataframe tbody tr th {\n",
       "        vertical-align: top;\n",
       "    }\n",
       "\n",
       "    .dataframe thead th {\n",
       "        text-align: right;\n",
       "    }\n",
       "</style>\n",
       "<table border=\"1\" class=\"dataframe\">\n",
       "  <thead>\n",
       "    <tr style=\"text-align: right;\">\n",
       "      <th></th>\n",
       "      <th>Unnamed: 0</th>\n",
       "      <th>Open</th>\n",
       "      <th>High</th>\n",
       "      <th>Low</th>\n",
       "      <th>Close</th>\n",
       "      <th>Volume</th>\n",
       "    </tr>\n",
       "    <tr>\n",
       "      <th>Date</th>\n",
       "      <th></th>\n",
       "      <th></th>\n",
       "      <th></th>\n",
       "      <th></th>\n",
       "      <th></th>\n",
       "      <th></th>\n",
       "    </tr>\n",
       "  </thead>\n",
       "  <tbody>\n",
       "    <tr>\n",
       "      <th>2014-01-01</th>\n",
       "      <td>1</td>\n",
       "      <td>10.59</td>\n",
       "      <td>10.59</td>\n",
       "      <td>10.59</td>\n",
       "      <td>10.59</td>\n",
       "      <td>0</td>\n",
       "    </tr>\n",
       "    <tr>\n",
       "      <th>2014-01-02</th>\n",
       "      <td>2</td>\n",
       "      <td>10.62</td>\n",
       "      <td>10.99</td>\n",
       "      <td>10.58</td>\n",
       "      <td>10.96</td>\n",
       "      <td>10984100</td>\n",
       "    </tr>\n",
       "    <tr>\n",
       "      <th>2014-01-03</th>\n",
       "      <td>3</td>\n",
       "      <td>10.89</td>\n",
       "      <td>11.04</td>\n",
       "      <td>10.71</td>\n",
       "      <td>10.85</td>\n",
       "      <td>7629900</td>\n",
       "    </tr>\n",
       "    <tr>\n",
       "      <th>2014-01-06</th>\n",
       "      <td>4</td>\n",
       "      <td>10.83</td>\n",
       "      <td>10.83</td>\n",
       "      <td>10.00</td>\n",
       "      <td>10.10</td>\n",
       "      <td>14364700</td>\n",
       "    </tr>\n",
       "    <tr>\n",
       "      <th>2014-01-07</th>\n",
       "      <td>5</td>\n",
       "      <td>10.05</td>\n",
       "      <td>10.22</td>\n",
       "      <td>9.95</td>\n",
       "      <td>10.11</td>\n",
       "      <td>5219100</td>\n",
       "    </tr>\n",
       "  </tbody>\n",
       "</table>\n",
       "</div>"
      ],
      "text/plain": [
       "            Unnamed: 0   Open   High    Low  Close    Volume\n",
       "Date                                                        \n",
       "2014-01-01           1  10.59  10.59  10.59  10.59         0\n",
       "2014-01-02           2  10.62  10.99  10.58  10.96  10984100\n",
       "2014-01-03           3  10.89  11.04  10.71  10.85   7629900\n",
       "2014-01-06           4  10.83  10.83  10.00  10.10  14364700\n",
       "2014-01-07           5  10.05  10.22   9.95  10.11   5219100"
      ]
     },
     "execution_count": 8,
     "metadata": {},
     "output_type": "execute_result"
    }
   ],
   "source": [
    "# get stock value data\n",
    "xin_an=pd.read_csv('xin_an.csv',index_col='Date')\n",
    "xin_an.index=pd.to_datetime(xin_an.index)\n",
    "xin_an.head()"
   ]
  },
  {
   "cell_type": "code",
   "execution_count": 10,
   "metadata": {},
   "outputs": [],
   "source": [
    "# we have to remove these data on non trading days (volume=0)\n",
    "xin_an=xin_an[xin_an.Volume!=0]"
   ]
  },
  {
   "cell_type": "code",
   "execution_count": 11,
   "metadata": {},
   "outputs": [
    {
     "data": {
      "text/plain": [
       "Date\n",
       "2014-01-03   -0.010036\n",
       "2014-01-06   -0.069124\n",
       "2014-01-07    0.000990\n",
       "2014-01-08   -0.004946\n",
       "2014-01-09   -0.017893\n",
       "Name: returns, dtype: float64"
      ]
     },
     "execution_count": 11,
     "metadata": {},
     "output_type": "execute_result"
    }
   ],
   "source": [
    "# compute returns using closing prices\n",
    "xin_anret=(xin_an.Close-xin_an.Close.shift(1))/xin_an.Close.shift(1)\n",
    "xin_anret.name='returns'\n",
    "xin_anret=xin_anret.dropna()\n",
    "xin_anret.head()"
   ]
  },
  {
   "cell_type": "code",
   "execution_count": 12,
   "metadata": {},
   "outputs": [
    {
     "data": {
      "text/plain": [
       "Date\n",
       "2014-12-25    0.000000\n",
       "2014-12-26    0.003724\n",
       "2014-12-29   -0.027829\n",
       "2014-12-30   -0.015267\n",
       "2014-12-31    0.005814\n",
       "Name: returns, dtype: float64"
      ]
     },
     "execution_count": 12,
     "metadata": {},
     "output_type": "execute_result"
    }
   ],
   "source": [
    "xin_anret.tail()"
   ]
  },
  {
   "cell_type": "code",
   "execution_count": 14,
   "metadata": {},
   "outputs": [
    {
     "data": {
      "text/html": [
       "<div>\n",
       "<style scoped>\n",
       "    .dataframe tbody tr th:only-of-type {\n",
       "        vertical-align: middle;\n",
       "    }\n",
       "\n",
       "    .dataframe tbody tr th {\n",
       "        vertical-align: top;\n",
       "    }\n",
       "\n",
       "    .dataframe thead th {\n",
       "        text-align: right;\n",
       "    }\n",
       "</style>\n",
       "<table border=\"1\" class=\"dataframe\">\n",
       "  <thead>\n",
       "    <tr style=\"text-align: right;\">\n",
       "      <th></th>\n",
       "      <th>mktret</th>\n",
       "      <th>returns</th>\n",
       "    </tr>\n",
       "  </thead>\n",
       "  <tbody>\n",
       "    <tr>\n",
       "      <th>2014-01-03</th>\n",
       "      <td>-0.009009</td>\n",
       "      <td>-0.010036</td>\n",
       "    </tr>\n",
       "    <tr>\n",
       "      <th>2014-01-06</th>\n",
       "      <td>-0.024650</td>\n",
       "      <td>-0.069124</td>\n",
       "    </tr>\n",
       "    <tr>\n",
       "      <th>2014-01-07</th>\n",
       "      <td>0.003800</td>\n",
       "      <td>0.000990</td>\n",
       "    </tr>\n",
       "    <tr>\n",
       "      <th>2014-01-08</th>\n",
       "      <td>0.004128</td>\n",
       "      <td>-0.004946</td>\n",
       "    </tr>\n",
       "    <tr>\n",
       "      <th>2014-01-09</th>\n",
       "      <td>-0.011499</td>\n",
       "      <td>-0.017893</td>\n",
       "    </tr>\n",
       "  </tbody>\n",
       "</table>\n",
       "</div>"
      ],
      "text/plain": [
       "              mktret   returns\n",
       "2014-01-03 -0.009009 -0.010036\n",
       "2014-01-06 -0.024650 -0.069124\n",
       "2014-01-07  0.003800  0.000990\n",
       "2014-01-08  0.004128 -0.004946\n",
       "2014-01-09 -0.011499 -0.017893"
      ]
     },
     "execution_count": 14,
     "metadata": {},
     "output_type": "execute_result"
    }
   ],
   "source": [
    "# combine xin_an and the market index and compare\n",
    "Ret=pd.merge(pd.DataFrame(mktret),pd.DataFrame(xin_anret),left_index=True,right_index=True,how='inner')\n",
    "Ret.head()"
   ]
  },
  {
   "cell_type": "code",
   "execution_count": 15,
   "metadata": {},
   "outputs": [
    {
     "data": {
      "text/plain": [
       "9.824689212445392e-05"
      ]
     },
     "execution_count": 15,
     "metadata": {},
     "output_type": "execute_result"
    }
   ],
   "source": [
    "# daily riskless return rate\n",
    "rf=1.036**(1/360)-1\n",
    "rf"
   ]
  },
  {
   "cell_type": "code",
   "execution_count": 16,
   "metadata": {},
   "outputs": [
    {
     "data": {
      "text/html": [
       "<div>\n",
       "<style scoped>\n",
       "    .dataframe tbody tr th:only-of-type {\n",
       "        vertical-align: middle;\n",
       "    }\n",
       "\n",
       "    .dataframe tbody tr th {\n",
       "        vertical-align: top;\n",
       "    }\n",
       "\n",
       "    .dataframe thead th {\n",
       "        text-align: right;\n",
       "    }\n",
       "</style>\n",
       "<table border=\"1\" class=\"dataframe\">\n",
       "  <thead>\n",
       "    <tr style=\"text-align: right;\">\n",
       "      <th></th>\n",
       "      <th>mktret</th>\n",
       "      <th>returns</th>\n",
       "    </tr>\n",
       "  </thead>\n",
       "  <tbody>\n",
       "    <tr>\n",
       "      <th>2014-01-03</th>\n",
       "      <td>-0.009107</td>\n",
       "      <td>-0.010135</td>\n",
       "    </tr>\n",
       "    <tr>\n",
       "      <th>2014-01-06</th>\n",
       "      <td>-0.024748</td>\n",
       "      <td>-0.069223</td>\n",
       "    </tr>\n",
       "    <tr>\n",
       "      <th>2014-01-07</th>\n",
       "      <td>0.003702</td>\n",
       "      <td>0.000892</td>\n",
       "    </tr>\n",
       "    <tr>\n",
       "      <th>2014-01-08</th>\n",
       "      <td>0.004030</td>\n",
       "      <td>-0.005044</td>\n",
       "    </tr>\n",
       "    <tr>\n",
       "      <th>2014-01-09</th>\n",
       "      <td>-0.011597</td>\n",
       "      <td>-0.017991</td>\n",
       "    </tr>\n",
       "  </tbody>\n",
       "</table>\n",
       "</div>"
      ],
      "text/plain": [
       "              mktret   returns\n",
       "2014-01-03 -0.009107 -0.010135\n",
       "2014-01-06 -0.024748 -0.069223\n",
       "2014-01-07  0.003702  0.000892\n",
       "2014-01-08  0.004030 -0.005044\n",
       "2014-01-09 -0.011597 -0.017991"
      ]
     },
     "execution_count": 16,
     "metadata": {},
     "output_type": "execute_result"
    }
   ],
   "source": [
    "# risk premium\n",
    "Eret=Ret-rf\n",
    "Eret.head()"
   ]
  },
  {
   "cell_type": "code",
   "execution_count": 18,
   "metadata": {},
   "outputs": [
    {
     "data": {
      "text/plain": [
       "Text(0.5,1,'XinAnGuFen return and market return')"
      ]
     },
     "execution_count": 18,
     "metadata": {},
     "output_type": "execute_result"
    },
    {
     "data": {
      "image/png": "[encoded data removed]",
      "text/plain": [
       "<Figure size 432x288 with 1 Axes>"
      ]
     },
     "metadata": {},
     "output_type": "display_data"
    }
   ],
   "source": [
    "# scatter plot\n",
    "# we have to remove the datatype of Eret\n",
    "import matplotlib.pyplot as plt\n",
    "plt.scatter(Eret.values[:,0],Eret.values[:,1])\n",
    "plt.title('XinAnGuFen return and market return')"
   ]
  },
  {
   "cell_type": "code",
   "execution_count": 20,
   "metadata": {},
   "outputs": [
    {
     "data": {
      "text/html": [
       "<table class=\"simpletable\">\n",
       "<caption>OLS Regression Results</caption>\n",
       "<tr>\n",
       "  <th>Dep. Variable:</th>         <td>returns</td>     <th>  R-squared:         </th> <td>   0.240</td>\n",
       "</tr>\n",
       "<tr>\n",
       "  <th>Model:</th>                   <td>OLS</td>       <th>  Adj. R-squared:    </th> <td>   0.237</td>\n",
       "</tr>\n",
       "<tr>\n",
       "  <th>Method:</th>             <td>Least Squares</td>  <th>  F-statistic:       </th> <td>   75.99</td>\n",
       "</tr>\n",
       "<tr>\n",
       "  <th>Date:</th>             <td>Sun, 21 Oct 2018</td> <th>  Prob (F-statistic):</th> <td>4.78e-16</td>\n",
       "</tr>\n",
       "<tr>\n",
       "  <th>Time:</th>                 <td>20:57:58</td>     <th>  Log-Likelihood:    </th> <td>  575.64</td>\n",
       "</tr>\n",
       "<tr>\n",
       "  <th>No. Observations:</th>      <td>   242</td>      <th>  AIC:               </th> <td>  -1147.</td>\n",
       "</tr>\n",
       "<tr>\n",
       "  <th>Df Residuals:</th>          <td>   240</td>      <th>  BIC:               </th> <td>  -1140.</td>\n",
       "</tr>\n",
       "<tr>\n",
       "  <th>Df Model:</th>              <td>     1</td>      <th>                     </th>     <td> </td>   \n",
       "</tr>\n",
       "<tr>\n",
       "  <th>Covariance Type:</th>      <td>nonrobust</td>    <th>                     </th>     <td> </td>   \n",
       "</tr>\n",
       "</table>\n",
       "<table class=\"simpletable\">\n",
       "<tr>\n",
       "     <td></td>       <th>coef</th>     <th>std err</th>      <th>t</th>      <th>P>|t|</th>  <th>[0.025</th>    <th>0.975]</th>  \n",
       "</tr>\n",
       "<tr>\n",
       "  <th>const</th>  <td>   -0.0017</td> <td>    0.001</td> <td>   -1.154</td> <td> 0.250</td> <td>   -0.005</td> <td>    0.001</td>\n",
       "</tr>\n",
       "<tr>\n",
       "  <th>mktret</th> <td>    1.1299</td> <td>    0.130</td> <td>    8.717</td> <td> 0.000</td> <td>    0.875</td> <td>    1.385</td>\n",
       "</tr>\n",
       "</table>\n",
       "<table class=\"simpletable\">\n",
       "<tr>\n",
       "  <th>Omnibus:</th>       <td>46.845</td> <th>  Durbin-Watson:     </th> <td>   1.983</td>\n",
       "</tr>\n",
       "<tr>\n",
       "  <th>Prob(Omnibus):</th> <td> 0.000</td> <th>  Jarque-Bera (JB):  </th> <td> 213.834</td>\n",
       "</tr>\n",
       "<tr>\n",
       "  <th>Skew:</th>          <td> 0.658</td> <th>  Prob(JB):          </th> <td>3.69e-47</td>\n",
       "</tr>\n",
       "<tr>\n",
       "  <th>Kurtosis:</th>      <td> 7.413</td> <th>  Cond. No.          </th> <td>    89.5</td>\n",
       "</tr>\n",
       "</table><br/><br/>Warnings:<br/>[1] Standard Errors assume that the covariance matrix of the errors is correctly specified."
      ],
      "text/plain": [
       "<class 'statsmodels.iolib.summary.Summary'>\n",
       "\"\"\"\n",
       "                            OLS Regression Results                            \n",
       "==============================================================================\n",
       "Dep. Variable:                returns   R-squared:                       0.240\n",
       "Model:                            OLS   Adj. R-squared:                  0.237\n",
       "Method:                 Least Squares   F-statistic:                     75.99\n",
       "Date:                Sun, 21 Oct 2018   Prob (F-statistic):           4.78e-16\n",
       "Time:                        20:57:58   Log-Likelihood:                 575.64\n",
       "No. Observations:                 242   AIC:                            -1147.\n",
       "Df Residuals:                     240   BIC:                            -1140.\n",
       "Df Model:                           1                                         \n",
       "Covariance Type:            nonrobust                                         \n",
       "==============================================================================\n",
       "                 coef    std err          t      P>|t|      [0.025      0.975]\n",
       "------------------------------------------------------------------------------\n",
       "const         -0.0017      0.001     -1.154      0.250      -0.005       0.001\n",
       "mktret         1.1299      0.130      8.717      0.000       0.875       1.385\n",
       "==============================================================================\n",
       "Omnibus:                       46.845   Durbin-Watson:                   1.983\n",
       "Prob(Omnibus):                  0.000   Jarque-Bera (JB):              213.834\n",
       "Skew:                           0.658   Prob(JB):                     3.69e-47\n",
       "Kurtosis:                       7.413   Cond. No.                         89.5\n",
       "==============================================================================\n",
       "\n",
       "Warnings:\n",
       "[1] Standard Errors assume that the covariance matrix of the errors is correctly specified.\n",
       "\"\"\""
      ]
     },
     "execution_count": 20,
     "metadata": {},
     "output_type": "execute_result"
    }
   ],
   "source": [
    "# regression fitting (with excessive return '\\alpha')\n",
    "import statsmodels.api as sm\n",
    "model=sm.OLS(Eret.returns[1:],sm.add_constant(Eret.mktret[1:]))\n",
    "result=model.fit()\n",
    "result.summary()\n",
    "# \\alpha is not significant and from \\beta we know xin_an is more volatile than the market "
   ]
  },
  {
   "cell_type": "code",
   "execution_count": null,
   "metadata": {},
   "outputs": [],
   "source": []
  }
 ],
 "metadata": {
  "kernelspec": {
   "display_name": "Python 3",
   "language": "python",
   "name": "python3"
  },
  "language_info": {
   "codemirror_mode": {
    "name": "ipython",
    "version": 3
   },
   "file_extension": ".py",
   "mimetype": "text/x-python",
   "name": "python",
   "nbconvert_exporter": "python",
   "pygments_lexer": "ipython3",
   "version": "3.6.5"
  }
 },
 "nbformat": 4,
 "nbformat_minor": 2
}
