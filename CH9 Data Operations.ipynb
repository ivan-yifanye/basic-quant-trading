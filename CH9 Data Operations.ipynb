{
 "cells": [
  {
   "cell_type": "code",
   "execution_count": 2,
   "metadata": {},
   "outputs": [],
   "source": [
    "#priceSequance is a sequence of prices on a trading day\n",
    "#priceAnalysis.py\n",
    "#This means we have created a module after saving\n",
    "def OpenPrice(priceSequence):\n",
    "    Open=priceSequence[0]\n",
    "    return(Open)\n",
    "\n",
    "def ClosePrice(priceSequence):\n",
    "    Close=priceSequence[-1]\n",
    "    return(Close)\n",
    "\n",
    "def HighPrice(priceSequence):\n",
    "    High=priceSequence[0]\n",
    "    for price in priceSequence:\n",
    "        if price >High:\n",
    "            High=price\n",
    "    return(High)\n",
    "       \n",
    "def LowPrice(priceSequence):\n",
    "    Low=priceSequence[0]\n",
    "    for price in priceSequence:\n",
    "        if price <Low:\n",
    "            LOw=price\n",
    "    return(Low)\n",
    "#import priceAnalysis\n",
    "#import priceAnalysis as PrA\n",
    "#from priceAnalysis import ClosePrice\n",
    "#price=[1,2,34,5,6,67,5,6,64,3]\n",
    "#PrA.ClosePrice(Price)\n",
    "\n",
    "#We also can define another module which contains 'High' and 'Low'\n",
    "#and we can invoke them in this module to simplify the codes"
   ]
  },
  {
   "cell_type": "code",
   "execution_count": 3,
   "metadata": {},
   "outputs": [],
   "source": [
    "#math, cmath\n",
    "#calendar, time, datetime"
   ]
  },
  {
   "cell_type": "code",
   "execution_count": 12,
   "metadata": {},
   "outputs": [
    {
     "data": {
      "text/plain": [
       "{\"I'm\": 2,\n",
       " 'only': 1,\n",
       " 'rich': 1,\n",
       " 'because': 1,\n",
       " 'I': 2,\n",
       " 'know': 1,\n",
       " 'when': 1,\n",
       " 'wrong,': 1,\n",
       " 'basically': 1,\n",
       " 'have': 1,\n",
       " 'survived': 1,\n",
       " 'by': 1,\n",
       " 'recognized': 1,\n",
       " 'my': 1,\n",
       " 'mistakes': 1}"
      ]
     },
     "execution_count": 12,
     "metadata": {},
     "output_type": "execute_result"
    }
   ],
   "source": [
    "GeogeSoros='''I'm only rich because I know when I'm wrong, I basically have survived by recognized my mistakes'''\n",
    "split_GS=GeogeSoros.split()\n",
    "count_GS={}#null dictionary\n",
    "for i in split_GS:\n",
    "    count_GS[i]=split_GS.count(i)\n",
    "count_GS"
   ]
  },
  {
   "cell_type": "code",
   "execution_count": null,
   "metadata": {},
   "outputs": [],
   "source": []
  }
 ],
 "metadata": {
  "kernelspec": {
   "display_name": "Python 3",
   "language": "python",
   "name": "python3"
  },
  "language_info": {
   "codemirror_mode": {
    "name": "ipython",
    "version": 3
   },
   "file_extension": ".py",
   "mimetype": "text/x-python",
   "name": "python",
   "nbconvert_exporter": "python",
   "pygments_lexer": "ipython3",
   "version": "3.6.5"
  }
 },
 "nbformat": 4,
 "nbformat_minor": 2
}
