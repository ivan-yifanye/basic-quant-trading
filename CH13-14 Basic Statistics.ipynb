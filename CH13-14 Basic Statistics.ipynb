{
 "cells": [
  {
   "cell_type": "code",
   "execution_count": 1,
   "metadata": {},
   "outputs": [],
   "source": [
    "import pandas as pd"
   ]
  },
  {
   "cell_type": "code",
   "execution_count": 7,
   "metadata": {
    "scrolled": true
   },
   "outputs": [],
   "source": [
    "returns=pd.read_csv(\"retdata.csv\")"
   ]
  },
  {
   "cell_type": "code",
   "execution_count": 8,
   "metadata": {},
   "outputs": [],
   "source": [
    "gsyh=returns.gsyh #prices of ICBC "
   ]
  },
  {
   "cell_type": "code",
   "execution_count": 11,
   "metadata": {},
   "outputs": [
    {
     "data": {
      "image/png": "[encoded data removed]",
      "text/plain": [
       "<Figure size 432x288 with 1 Axes>"
      ]
     },
     "metadata": {},
     "output_type": "display_data"
    }
   ],
   "source": [
    "import matplotlib.pyplot as plt\n",
    "plt.hist(gsyh)\n",
    "plt.show()"
   ]
  },
  {
   "cell_type": "code",
   "execution_count": 16,
   "metadata": {},
   "outputs": [
    {
     "data": {
      "text/plain": [
       "[0.001810969945736434, 0.002264809317829458, 0.0, 0.0, 0    0.0\n",
       " dtype: float64, 0    0.0\n",
       " dtype: float64]"
      ]
     },
     "execution_count": 16,
     "metadata": {},
     "output_type": "execute_result"
    }
   ],
   "source": [
    "[returns.zglt.mean(),returns.pfyh.mean(),returns.zglt.median(),returns.pfyh.median(),\\\n",
    " returns.zglt.mode(),returns.pfyh.mode()]\n",
    "#the return value of mode is Series type (with indexes)"
   ]
  },
  {
   "cell_type": "code",
   "execution_count": 18,
   "metadata": {},
   "outputs": [
    {
     "data": {
      "text/plain": [
       "([-0.006525337500000001, 0.008766644], [-0.005472016, 0.009404664])"
      ]
     },
     "execution_count": 18,
     "metadata": {},
     "output_type": "execute_result"
    }
   ],
   "source": [
    "([returns.zglt.quantile(i) for i in [0.25,0.75]],\\\n",
    " [returns.pfyh.quantile(i) for i in [0.25,0.75]])\n",
    "#up and down quartiles (not 'quantiles' !!!)\n",
    "#above are two list comprehensions"
   ]
  },
  {
   "cell_type": "code",
   "execution_count": 20,
   "metadata": {},
   "outputs": [
    {
     "data": {
      "text/plain": [
       "[0.182285158,\n",
       " 0.011888591205937145,\n",
       " 0.0003140948097641627,\n",
       " 0.017722720157023378]"
      ]
     },
     "execution_count": 20,
     "metadata": {},
     "output_type": "execute_result"
    }
   ],
   "source": [
    "#Range, MAD, var and SD\n",
    "[returns.zglt.max()-returns.zglt.min(),\\\n",
    " returns.zglt.mad(),\\\n",
    " returns.zglt.var(),\\\n",
    " returns.zglt.std()]"
   ]
  },
  {
   "cell_type": "code",
   "execution_count": 25,
   "metadata": {},
   "outputs": [
    {
     "data": {
      "text/plain": [
       "4    0.31\n",
       "5    0.26\n",
       "3    0.21\n",
       "1    0.12\n",
       "2    0.10\n",
       "dtype: float64"
      ]
     },
     "execution_count": 25,
     "metadata": {},
     "output_type": "execute_result"
    }
   ],
   "source": [
    "#Random Variables \n",
    "import numpy as np\n",
    "import pandas as pd\n",
    "RandomNumber=np.random.choice([1,2,3,4,5],size=100,replace=True,p=[0.1,0.1,0.3,0.3,0.2])\n",
    "#generate random numbers with distrubution\n",
    "pd.Series(RandomNumber).value_counts()/100"
   ]
  },
  {
   "cell_type": "code",
   "execution_count": 26,
   "metadata": {},
   "outputs": [
    {
     "data": {
      "text/html": [
       "<div>\n",
       "<style scoped>\n",
       "    .dataframe tbody tr th:only-of-type {\n",
       "        vertical-align: middle;\n",
       "    }\n",
       "\n",
       "    .dataframe tbody tr th {\n",
       "        vertical-align: top;\n",
       "    }\n",
       "\n",
       "    .dataframe thead th {\n",
       "        text-align: right;\n",
       "    }\n",
       "</style>\n",
       "<table border=\"1\" class=\"dataframe\">\n",
       "  <thead>\n",
       "    <tr style=\"text-align: right;\">\n",
       "      <th></th>\n",
       "      <th>date</th>\n",
       "      <th>return</th>\n",
       "      <th>sig</th>\n",
       "    </tr>\n",
       "  </thead>\n",
       "  <tbody>\n",
       "    <tr>\n",
       "      <th>0</th>\n",
       "      <td>2014/1/2</td>\n",
       "      <td>-0.3454</td>\n",
       "      <td>0</td>\n",
       "    </tr>\n",
       "    <tr>\n",
       "      <th>1</th>\n",
       "      <td>2014/1/3</td>\n",
       "      <td>-1.3436</td>\n",
       "      <td>0</td>\n",
       "    </tr>\n",
       "  </tbody>\n",
       "</table>\n",
       "</div>"
      ],
      "text/plain": [
       "       date  return  sig\n",
       "0  2014/1/2 -0.3454    0\n",
       "1  2014/1/3 -1.3436    0"
      ]
     },
     "execution_count": 26,
     "metadata": {},
     "output_type": "execute_result"
    }
   ],
   "source": [
    "HSRet300=pd.read_csv(\"return300.csv\")\n",
    "HSRet300.head(n=2)"
   ]
  },
  {
   "cell_type": "code",
   "execution_count": 32,
   "metadata": {},
   "outputs": [
    {
     "data": {
      "text/plain": [
       "[<matplotlib.lines.Line2D at 0x1a1c21e3c8>]"
      ]
     },
     "execution_count": 32,
     "metadata": {},
     "output_type": "execute_result"
    },
    {
     "data": {
      "image/png": "[encoded data removed]",
      "text/plain": [
       "<Figure size 432x288 with 2 Axes>"
      ]
     },
     "metadata": {},
     "output_type": "display_data"
    }
   ],
   "source": [
    "import matplotlib.pyplot as plt\n",
    "from scipy import stats\n",
    "density=stats.kde.gaussian_kde(HSRet300.iloc[:,1])#generate Gaussian kernel function\n",
    "bins=np.arange(-5,5,0.02)#make segmentation\n",
    "plt.subplot(211)\n",
    "plt.plot(bins,density(bins))\n",
    "plt.subplot(212)\n",
    "plt.plot(bins,density(bins).cumsum())\n",
    "#estimate distributions"
   ]
  },
  {
   "cell_type": "code",
   "execution_count": 33,
   "metadata": {},
   "outputs": [
    {
     "data": {
      "text/plain": [
       "array([59, 51, 50, 52, 46, 45, 45, 48, 50, 59, 40, 49, 49, 52, 46, 65, 56,\n",
       "       44, 55, 51])"
      ]
     },
     "execution_count": 33,
     "metadata": {},
     "output_type": "execute_result"
    }
   ],
   "source": [
    "#Binomial, Normal and others\n",
    "np.random.binomial(100,0.5,20)#n,p and the numbers needed"
   ]
  },
  {
   "cell_type": "code",
   "execution_count": 34,
   "metadata": {},
   "outputs": [
    {
     "data": {
      "text/plain": [
       "4.2281632676012532e-10"
      ]
     },
     "execution_count": 34,
     "metadata": {},
     "output_type": "execute_result"
    }
   ],
   "source": [
    "stats.binom.pmf(20,100,0.5)\n",
    "#caution the parameter order!!!\n",
    "#this is probability (20 heads out of 100 throws)"
   ]
  },
  {
   "cell_type": "code",
   "execution_count": 37,
   "metadata": {},
   "outputs": [
    {
     "data": {
      "text/plain": [
       "5.5795445286255621e-10"
      ]
     },
     "execution_count": 37,
     "metadata": {},
     "output_type": "execute_result"
    }
   ],
   "source": [
    "dd=stats.binom.pmf(np.arange(0,21,1),100,0.5)\n",
    "dd.sum()\n",
    "#CDF of binomial distribution\n",
    "#or just use stats.binom.cdf(20,100,0.5) (no less than 20 heads out of 100 throws)"
   ]
  },
  {
   "cell_type": "code",
   "execution_count": 44,
   "metadata": {},
   "outputs": [
    {
     "data": {
      "text/plain": [
       "[0.5306122448979592, 0.2275149431566236]"
      ]
     },
     "execution_count": 44,
     "metadata": {},
     "output_type": "execute_result"
    }
   ],
   "source": [
    "#apply binomial distribution into finance\n",
    "ret=HSRet300.iloc[:,1]\n",
    "p=len(ret[ret>0])/len(ret)\n",
    "#estimate when returns are positive\n",
    "[p,stats.binom.pmf(6,10,p)]\n",
    "#use above to calculate binomial probability "
   ]
  },
  {
   "cell_type": "code",
   "execution_count": 49,
   "metadata": {},
   "outputs": [
    {
     "data": {
      "text/plain": [
       "[array([ 0.36202708,  0.01807153,  0.33015351,  0.38661954,  0.32512924]),\n",
       " array([ 0.67027627,  0.99357251,  0.26919871,  0.59890043,  0.26119097])]"
      ]
     },
     "execution_count": 49,
     "metadata": {},
     "output_type": "execute_result"
    }
   ],
   "source": [
    "Norm=np.random.normal(size=5)\n",
    "[stats.norm.pdf(Norm),stats.norm.cdf(Norm)]"
   ]
  },
  {
   "cell_type": "code",
   "execution_count": null,
   "metadata": {},
   "outputs": [],
   "source": [
    "#VaR\n",
    "#under some certain probability level, the biggest potential loss\n",
    "#P(X_t<-VaR)=\\alpha%\n",
    "#1-\\alpha% is called confidence level"
   ]
  },
  {
   "cell_type": "code",
   "execution_count": 51,
   "metadata": {},
   "outputs": [
    {
     "data": {
      "text/plain": [
       "-1.8176732130631714"
      ]
     },
     "execution_count": 51,
     "metadata": {},
     "output_type": "execute_result"
    }
   ],
   "source": [
    "HSRet300_RetMean=ret.mean()\n",
    "HSRet300_RetVar=ret.var()\n",
    "stats.norm.ppf(0.05,HSRet300_RetMean,ret.var()**0.5)\n",
    "#ppf is used to get the quantile which has 0.05 cdf\n",
    "#then the opposite number of the value above is VaR"
   ]
  },
  {
   "cell_type": "code",
   "execution_count": 55,
   "metadata": {},
   "outputs": [
    {
     "data": {
      "text/plain": [
       "[<matplotlib.lines.Line2D at 0x1a1c450588>]"
      ]
     },
     "execution_count": 55,
     "metadata": {},
     "output_type": "execute_result"
    },
    {
     "data": {
      "image/png": "[encoded data removed]",
      "text/plain": [
       "<Figure size 432x288 with 1 Axes>"
      ]
     },
     "metadata": {},
     "output_type": "display_data"
    }
   ],
   "source": [
    "#The three distributions\n",
    "plt.plot(np.arange(0,5,0.002)\\\n",
    "         ,stats.chi.pdf(np.arange(0,5,0.002),3))"
   ]
  },
  {
   "cell_type": "code",
   "execution_count": 56,
   "metadata": {},
   "outputs": [
    {
     "data": {
      "text/plain": [
       "<matplotlib.legend.Legend at 0x1a1c56d390>"
      ]
     },
     "execution_count": 56,
     "metadata": {},
     "output_type": "execute_result"
    },
    {
     "data": {
      "image/png": "[encoded data removed]",
      "text/plain": [
       "<Figure size 432x288 with 1 Axes>"
      ]
     },
     "metadata": {},
     "output_type": "display_data"
    }
   ],
   "source": [
    "x=np.arange(-4,4.004,0.004)\n",
    "plt.plot(x,stats.norm.pdf(x),label='normal')\n",
    "plt.plot(x,stats.t.pdf(x,5),label='df=5')\n",
    "plt.plot(x,stats.t.pdf(x,30),label='df=30')\n",
    "plt.legend()"
   ]
  },
  {
   "cell_type": "code",
   "execution_count": 57,
   "metadata": {},
   "outputs": [
    {
     "name": "stderr",
     "output_type": "stream",
     "text": [
      "/anaconda3/lib/python3.6/site-packages/scipy/stats/_continuous_distns.py:1591: RuntimeWarning: divide by zero encountered in log\n",
      "  lPx = m/2 * np.log(m) + n/2 * np.log(n) + (n/2 - 1) * np.log(x)\n"
     ]
    },
    {
     "data": {
      "text/plain": [
       "[<matplotlib.lines.Line2D at 0x1a1c6b1630>]"
      ]
     },
     "execution_count": 57,
     "metadata": {},
     "output_type": "execute_result"
    },
    {
     "data": {
      "image/png": "[encoded data removed]",
      "text/plain": [
       "<Figure size 432x288 with 1 Axes>"
      ]
     },
     "metadata": {},
     "output_type": "display_data"
    }
   ],
   "source": [
    "plt.plot(np.arange(0,5,0.002),\\\n",
    "        stats.f.pdf(np.arange(0,5,0.002),4,40))"
   ]
  },
  {
   "cell_type": "code",
   "execution_count": 60,
   "metadata": {},
   "outputs": [
    {
     "data": {
      "text/plain": [
       "Text(0,0.5,'SZ')"
      ]
     },
     "execution_count": 60,
     "metadata": {},
     "output_type": "execute_result"
    },
    {
     "data": {
      "image/png": "[encoded data removed]",
      "text/plain": [
       "<Figure size 432x288 with 1 Axes>"
      ]
     },
     "metadata": {},
     "output_type": "display_data"
    }
   ],
   "source": [
    "#analysis of the corrilation between SH and SZ\n",
    "TRD_Index=pd.read_csv('TRD_Index.txt',sep='\\t')\n",
    "SHindex=TRD_Index[TRD_Index.Indexcd==1]#000001\n",
    "SZindex=TRD_Index[TRD_Index.Indexcd==399106]#399106\n",
    "plt.scatter(SHindex.Retindex,SZindex.Retindex)\n",
    "plt.title('SH & SZ')\n",
    "plt.xlabel('SH')\n",
    "plt.ylabel('SZ')"
   ]
  },
  {
   "cell_type": "code",
   "execution_count": 62,
   "metadata": {},
   "outputs": [
    {
     "data": {
      "text/plain": [
       "0.90827763480145474"
      ]
     },
     "execution_count": 62,
     "metadata": {},
     "output_type": "execute_result"
    }
   ],
   "source": [
    "SZindex.index=SHindex.index\n",
    "SZindex.Retindex.corr(SHindex.Retindex)"
   ]
  },
  {
   "cell_type": "code",
   "execution_count": null,
   "metadata": {},
   "outputs": [],
   "source": []
  }
 ],
 "metadata": {
  "kernelspec": {
   "display_name": "Python 3",
   "language": "python",
   "name": "python3"
  },
  "language_info": {
   "codemirror_mode": {
    "name": "ipython",
    "version": 3
   },
   "file_extension": ".py",
   "mimetype": "text/x-python",
   "name": "python",
   "nbconvert_exporter": "python",
   "pygments_lexer": "ipython3",
   "version": "3.6.5"
  }
 },
 "nbformat": 4,
 "nbformat_minor": 2
}
