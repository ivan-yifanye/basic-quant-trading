{
 "cells": [
  {
   "cell_type": "code",
   "execution_count": 1,
   "metadata": {},
   "outputs": [],
   "source": [
    "# if the series is indeed a white noise, then ARMA modelling is not a good choice\n",
    "# other ways\n",
    "# although sometimes the autocorrelation of teh series itself is not obvious\n",
    "# its functions (like ^2) can represent strong autocorr\n",
    "# conditional heteroskedasticity\n",
    "# volatility clustering\n",
    "# heavy tail\n",
    "# ARCH & GARCH"
   ]
  },
  {
   "cell_type": "code",
   "execution_count": 2,
   "metadata": {},
   "outputs": [],
   "source": [
    "# can be used to well-modelling volatility"
   ]
  },
  {
   "cell_type": "code",
   "execution_count": 3,
   "metadata": {},
   "outputs": [],
   "source": [
    "# ARCH modelling procedure for return seires {y_t}\n",
    "# 1. test if {y_t} is stationary, build ARMA (mean models) and get residue series\n",
    "# 2. test residue series, LB for its autocorrelation (if significant, ARCH effect)\n",
    "#    or Lagrange Multiplier test\n",
    "# 3. if significant in step 2, we have to build volatility models\n",
    "# 4. estimating parameters\n",
    "# 5. test the new model itself, if it is reasonable"
   ]
  },
  {
   "cell_type": "code",
   "execution_count": 5,
   "metadata": {},
   "outputs": [],
   "source": [
    "import pandas as pd\n",
    "SHret=pd.read_table('TRD_IndexSum.txt',index_col='Trddt',sep='\\t')\n",
    "SHret.index=pd.to_datetime(SHret.index)"
   ]
  },
  {
   "cell_type": "code",
   "execution_count": 7,
   "metadata": {},
   "outputs": [
    {
     "data": {
      "text/plain": [
       "Text(0.5,1,'Absolute Return of SH Index')"
      ]
     },
     "execution_count": 7,
     "metadata": {},
     "output_type": "execute_result"
    },
    {
     "data": {
      "image/png": "[encoded data removed]",
      "text/plain": [
       "<Figure size 432x288 with 2 Axes>"
      ]
     },
     "metadata": {},
     "output_type": "display_data"
    }
   ],
   "source": [
    "# plot return^2\n",
    "import matplotlib.pyplot as plt \n",
    "import numpy as np\n",
    "plt.subplot(211)\n",
    "plt.plot(SHret**2)\n",
    "plt.xticks([])\n",
    "plt.title('Squared Return of SH Index')\n",
    "plt.subplot(212)\n",
    "plt.plot(np.abs(SHret))\n",
    "plt.title('Absolute Return of SH Index')\n",
    "# these plots clearly shows the vol clustering phenomenon (ARCH effect)"
   ]
  },
  {
   "cell_type": "code",
   "execution_count": 9,
   "metadata": {},
   "outputs": [
    {
     "data": {
      "text/plain": [
       "2.2324582490602845e-43"
      ]
     },
     "execution_count": 9,
     "metadata": {},
     "output_type": "execute_result"
    }
   ],
   "source": [
    "# LB test\n",
    "from statsmodels.tsa import stattools\n",
    "LjungBox=stattools.q_stat(stattools.acf(SHret**2)[1:13],len(SHret))\n",
    "LjungBox[1][-1]\n",
    "# p-value < 0.05, so it is not a white noise (it (vol) is autocorrelation)"
   ]
  },
  {
   "cell_type": "code",
   "execution_count": 10,
   "metadata": {},
   "outputs": [
    {
     "name": "stdout",
     "output_type": "stream",
     "text": [
      "Positive directional derivative for linesearch    (Exit mode 8)\n",
      "            Current function value: -4464.735821909855\n",
      "            Iterations: 9\n",
      "            Function evaluations: 61\n",
      "            Gradient evaluations: 5\n"
     ]
    },
    {
     "name": "stderr",
     "output_type": "stream",
     "text": [
      "/anaconda3/lib/python3.6/site-packages/arch/univariate/base.py:522: ConvergenceWarning: \n",
      "The optimizer returned code 8. The message is:\n",
      "Positive directional derivative for linesearch\n",
      "See scipy.optimize.fmin_slsqp for code meaning.\n",
      "\n",
      "  ConvergenceWarning)\n"
     ]
    }
   ],
   "source": [
    "# GARCH modelling (by default GARCH(1,1))\n",
    "from arch import arch_model\n",
    "am=arch_model(SHret)\n",
    "# estimate params\n",
    "# update_freq=0 means only print final results\n",
    "model=am.fit(update_freq=0)"
   ]
  },
  {
   "cell_type": "code",
   "execution_count": 11,
   "metadata": {},
   "outputs": [
    {
     "name": "stdout",
     "output_type": "stream",
     "text": [
      "                     Constant Mean - GARCH Model Results                      \n",
      "==============================================================================\n",
      "Dep. Variable:               Retindex   R-squared:                      -0.000\n",
      "Mean Model:             Constant Mean   Adj. R-squared:                 -0.000\n",
      "Vol Model:                      GARCH   Log-Likelihood:                4464.74\n",
      "Distribution:                  Normal   AIC:                          -8921.47\n",
      "Method:            Maximum Likelihood   BIC:                          -8900.16\n",
      "                                        No. Observations:                 1522\n",
      "Date:                Mon, Oct 22 2018   Df Residuals:                     1518\n",
      "Time:                        14:39:22   Df Model:                            4\n",
      "                                  Mean Model                                 \n",
      "=============================================================================\n",
      "                 coef    std err          t      P>|t|       95.0% Conf. Int.\n",
      "-----------------------------------------------------------------------------\n",
      "mu         3.3255e-04  3.181e-04      1.045      0.296 [-2.909e-04,9.561e-04]\n",
      "                              Volatility Model                              \n",
      "============================================================================\n",
      "                 coef    std err          t      P>|t|      95.0% Conf. Int.\n",
      "----------------------------------------------------------------------------\n",
      "omega      3.7169e-06  8.137e-14  4.568e+07      0.000 [3.717e-06,3.717e-06]\n",
      "alpha[1]       0.0500  3.320e-04    150.614      0.000 [4.935e-02,5.065e-02]\n",
      "beta[1]        0.9300  3.204e-03    290.305      0.000     [  0.924,  0.936]\n",
      "============================================================================\n",
      "\n",
      "Covariance estimator: robust\n",
      "\n",
      "WARNING: The optimizer did not indicate successful convergence. The message was\n",
      "Positive directional derivative for linesearch. See convergence_flag.\n"
     ]
    }
   ],
   "source": [
    "print(model.summary())"
   ]
  },
  {
   "cell_type": "code",
   "execution_count": null,
   "metadata": {},
   "outputs": [],
   "source": []
  }
 ],
 "metadata": {
  "kernelspec": {
   "display_name": "Python 3",
   "language": "python",
   "name": "python3"
  },
  "language_info": {
   "codemirror_mode": {
    "name": "ipython",
    "version": 3
   },
   "file_extension": ".py",
   "mimetype": "text/x-python",
   "name": "python",
   "nbconvert_exporter": "python",
   "pygments_lexer": "ipython3",
   "version": "3.6.5"
  }
 },
 "nbformat": 4,
 "nbformat_minor": 2
}
