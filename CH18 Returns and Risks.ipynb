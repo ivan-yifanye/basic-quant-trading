{
 "cells": [
  {
   "cell_type": "code",
   "execution_count": 4,
   "metadata": {},
   "outputs": [
    {
     "data": {
      "text/plain": [
       "Trddt\n",
       "2014/1/2    7.99\n",
       "2014/1/3    7.84\n",
       "2014/1/6    7.48\n",
       "2014/1/7    7.43\n",
       "2014/1/8    7.42\n",
       "Name: Clsprc, dtype: float64"
      ]
     },
     "execution_count": 4,
     "metadata": {},
     "output_type": "execute_result"
    }
   ],
   "source": [
    "# Single-Multi Period Returns\n",
    "import pandas as pd\n",
    "stock=pd.read_csv('stockszA.csv',index_col='Trddt')\n",
    "Vanke=stock[stock.Stkcd==2]\n",
    "close=Vanke.Clsprc\n",
    "close.head()\n",
    "# close prices of 'Vanke'"
   ]
  },
  {
   "cell_type": "code",
   "execution_count": 5,
   "metadata": {},
   "outputs": [
    {
     "data": {
      "text/plain": [
       "Date\n",
       "2014-01-02    7.99\n",
       "2014-01-03    7.84\n",
       "2014-01-06    7.48\n",
       "2014-01-07    7.43\n",
       "2014-01-08    7.42\n",
       "Name: Clsprc, dtype: float64"
      ]
     },
     "execution_count": 5,
     "metadata": {},
     "output_type": "execute_result"
    }
   ],
   "source": [
    "# tranfer to timeseries (with dates)\n",
    "close.index=pd.to_datetime(close.index)\n",
    "close.index.name='Date'\n",
    "close.head()"
   ]
  },
  {
   "cell_type": "code",
   "execution_count": 6,
   "metadata": {},
   "outputs": [
    {
     "data": {
      "text/plain": [
       "Date\n",
       "2014-01-02     NaN\n",
       "2014-01-03    7.99\n",
       "2014-01-06    7.84\n",
       "2014-01-07    7.48\n",
       "2014-01-08    7.43\n",
       "Name: Clsprc, dtype: float64"
      ]
     },
     "execution_count": 6,
     "metadata": {},
     "output_type": "execute_result"
    }
   ],
   "source": [
    "# lag one period\n",
    "lagclose=close.shift(1)\n",
    "lagclose.head()"
   ]
  },
  {
   "cell_type": "code",
   "execution_count": 7,
   "metadata": {},
   "outputs": [
    {
     "data": {
      "text/html": [
       "<div>\n",
       "<style scoped>\n",
       "    .dataframe tbody tr th:only-of-type {\n",
       "        vertical-align: middle;\n",
       "    }\n",
       "\n",
       "    .dataframe tbody tr th {\n",
       "        vertical-align: top;\n",
       "    }\n",
       "\n",
       "    .dataframe thead th {\n",
       "        text-align: right;\n",
       "    }\n",
       "</style>\n",
       "<table border=\"1\" class=\"dataframe\">\n",
       "  <thead>\n",
       "    <tr style=\"text-align: right;\">\n",
       "      <th></th>\n",
       "      <th>close</th>\n",
       "      <th>lagclose</th>\n",
       "    </tr>\n",
       "    <tr>\n",
       "      <th>Date</th>\n",
       "      <th></th>\n",
       "      <th></th>\n",
       "    </tr>\n",
       "  </thead>\n",
       "  <tbody>\n",
       "    <tr>\n",
       "      <th>2014-01-02</th>\n",
       "      <td>7.99</td>\n",
       "      <td>NaN</td>\n",
       "    </tr>\n",
       "    <tr>\n",
       "      <th>2014-01-03</th>\n",
       "      <td>7.84</td>\n",
       "      <td>7.99</td>\n",
       "    </tr>\n",
       "    <tr>\n",
       "      <th>2014-01-06</th>\n",
       "      <td>7.48</td>\n",
       "      <td>7.84</td>\n",
       "    </tr>\n",
       "    <tr>\n",
       "      <th>2014-01-07</th>\n",
       "      <td>7.43</td>\n",
       "      <td>7.48</td>\n",
       "    </tr>\n",
       "    <tr>\n",
       "      <th>2014-01-08</th>\n",
       "      <td>7.42</td>\n",
       "      <td>7.43</td>\n",
       "    </tr>\n",
       "  </tbody>\n",
       "</table>\n",
       "</div>"
      ],
      "text/plain": [
       "            close  lagclose\n",
       "Date                       \n",
       "2014-01-02   7.99       NaN\n",
       "2014-01-03   7.84      7.99\n",
       "2014-01-06   7.48      7.84\n",
       "2014-01-07   7.43      7.48\n",
       "2014-01-08   7.42      7.43"
      ]
     },
     "execution_count": 7,
     "metadata": {},
     "output_type": "execute_result"
    }
   ],
   "source": [
    "# combine two data sets\n",
    "Calclose=pd.DataFrame({'close':close,'lagclose':lagclose})\n",
    "Calclose.head()"
   ]
  },
  {
   "cell_type": "code",
   "execution_count": 8,
   "metadata": {},
   "outputs": [
    {
     "data": {
      "text/html": [
       "<div>\n",
       "<style scoped>\n",
       "    .dataframe tbody tr th:only-of-type {\n",
       "        vertical-align: middle;\n",
       "    }\n",
       "\n",
       "    .dataframe tbody tr th {\n",
       "        vertical-align: top;\n",
       "    }\n",
       "\n",
       "    .dataframe thead th {\n",
       "        text-align: right;\n",
       "    }\n",
       "</style>\n",
       "<table border=\"1\" class=\"dataframe\">\n",
       "  <thead>\n",
       "    <tr style=\"text-align: right;\">\n",
       "      <th></th>\n",
       "      <th>close</th>\n",
       "      <th>lagclose</th>\n",
       "      <th>simpleret</th>\n",
       "    </tr>\n",
       "    <tr>\n",
       "      <th>Date</th>\n",
       "      <th></th>\n",
       "      <th></th>\n",
       "      <th></th>\n",
       "    </tr>\n",
       "  </thead>\n",
       "  <tbody>\n",
       "    <tr>\n",
       "      <th>2014-01-02</th>\n",
       "      <td>7.99</td>\n",
       "      <td>NaN</td>\n",
       "      <td>NaN</td>\n",
       "    </tr>\n",
       "    <tr>\n",
       "      <th>2014-01-03</th>\n",
       "      <td>7.84</td>\n",
       "      <td>7.99</td>\n",
       "      <td>-0.018773</td>\n",
       "    </tr>\n",
       "    <tr>\n",
       "      <th>2014-01-06</th>\n",
       "      <td>7.48</td>\n",
       "      <td>7.84</td>\n",
       "      <td>-0.045918</td>\n",
       "    </tr>\n",
       "    <tr>\n",
       "      <th>2014-01-07</th>\n",
       "      <td>7.43</td>\n",
       "      <td>7.48</td>\n",
       "      <td>-0.006684</td>\n",
       "    </tr>\n",
       "    <tr>\n",
       "      <th>2014-01-08</th>\n",
       "      <td>7.42</td>\n",
       "      <td>7.43</td>\n",
       "      <td>-0.001346</td>\n",
       "    </tr>\n",
       "  </tbody>\n",
       "</table>\n",
       "</div>"
      ],
      "text/plain": [
       "            close  lagclose  simpleret\n",
       "Date                                  \n",
       "2014-01-02   7.99       NaN        NaN\n",
       "2014-01-03   7.84      7.99  -0.018773\n",
       "2014-01-06   7.48      7.84  -0.045918\n",
       "2014-01-07   7.43      7.48  -0.006684\n",
       "2014-01-08   7.42      7.43  -0.001346"
      ]
     },
     "execution_count": 8,
     "metadata": {},
     "output_type": "execute_result"
    }
   ],
   "source": [
    "# single peoriod\n",
    "simpleret=(close-lagclose)/lagclose\n",
    "simpleret.name='simpleret'\n",
    "simpleret.head()\n",
    "calret=pd.merge(Calclose,pd.DataFrame(simpleret),left_index=True,right_index=True)\n",
    "calret.head()"
   ]
  },
  {
   "cell_type": "code",
   "execution_count": 9,
   "metadata": {},
   "outputs": [
    {
     "data": {
      "text/html": [
       "<div>\n",
       "<style scoped>\n",
       "    .dataframe tbody tr th:only-of-type {\n",
       "        vertical-align: middle;\n",
       "    }\n",
       "\n",
       "    .dataframe tbody tr th {\n",
       "        vertical-align: top;\n",
       "    }\n",
       "\n",
       "    .dataframe thead th {\n",
       "        text-align: right;\n",
       "    }\n",
       "</style>\n",
       "<table border=\"1\" class=\"dataframe\">\n",
       "  <thead>\n",
       "    <tr style=\"text-align: right;\">\n",
       "      <th></th>\n",
       "      <th>close</th>\n",
       "      <th>lagclose</th>\n",
       "      <th>simpleret</th>\n",
       "      <th>simpleret2</th>\n",
       "    </tr>\n",
       "    <tr>\n",
       "      <th>Date</th>\n",
       "      <th></th>\n",
       "      <th></th>\n",
       "      <th></th>\n",
       "      <th></th>\n",
       "    </tr>\n",
       "  </thead>\n",
       "  <tbody>\n",
       "    <tr>\n",
       "      <th>2014-01-02</th>\n",
       "      <td>7.99</td>\n",
       "      <td>NaN</td>\n",
       "      <td>NaN</td>\n",
       "      <td>NaN</td>\n",
       "    </tr>\n",
       "    <tr>\n",
       "      <th>2014-01-03</th>\n",
       "      <td>7.84</td>\n",
       "      <td>7.99</td>\n",
       "      <td>-0.018773</td>\n",
       "      <td>NaN</td>\n",
       "    </tr>\n",
       "    <tr>\n",
       "      <th>2014-01-06</th>\n",
       "      <td>7.48</td>\n",
       "      <td>7.84</td>\n",
       "      <td>-0.045918</td>\n",
       "      <td>-0.063830</td>\n",
       "    </tr>\n",
       "    <tr>\n",
       "      <th>2014-01-07</th>\n",
       "      <td>7.43</td>\n",
       "      <td>7.48</td>\n",
       "      <td>-0.006684</td>\n",
       "      <td>-0.052296</td>\n",
       "    </tr>\n",
       "    <tr>\n",
       "      <th>2014-01-08</th>\n",
       "      <td>7.42</td>\n",
       "      <td>7.43</td>\n",
       "      <td>-0.001346</td>\n",
       "      <td>-0.008021</td>\n",
       "    </tr>\n",
       "  </tbody>\n",
       "</table>\n",
       "</div>"
      ],
      "text/plain": [
       "            close  lagclose  simpleret  simpleret2\n",
       "Date                                              \n",
       "2014-01-02   7.99       NaN        NaN         NaN\n",
       "2014-01-03   7.84      7.99  -0.018773         NaN\n",
       "2014-01-06   7.48      7.84  -0.045918   -0.063830\n",
       "2014-01-07   7.43      7.48  -0.006684   -0.052296\n",
       "2014-01-08   7.42      7.43  -0.001346   -0.008021"
      ]
     },
     "execution_count": 9,
     "metadata": {},
     "output_type": "execute_result"
    }
   ],
   "source": [
    "# multi peoriod\n",
    "simpleret2=(close-close.shift(2))/close.shift(2)\n",
    "simpleret2.name='simpleret2'\n",
    "calret['simpleret2']=simpleret2\n",
    "calret.head()"
   ]
  },
  {
   "cell_type": "code",
   "execution_count": 10,
   "metadata": {},
   "outputs": [
    {
     "data": {
      "text/plain": [
       "close         7.460000\n",
       "lagclose      7.420000\n",
       "simpleret     0.005391\n",
       "simpleret2    0.004038\n",
       "Name: 2014-01-09 00:00:00, dtype: float64"
      ]
     },
     "execution_count": 10,
     "metadata": {},
     "output_type": "execute_result"
    }
   ],
   "source": [
    "calret.iloc[5,:]"
   ]
  },
  {
   "cell_type": "code",
   "execution_count": 11,
   "metadata": {},
   "outputs": [
    {
     "data": {
      "text/plain": [
       "Date\n",
       "2014-01-02         NaN\n",
       "2014-01-03   -0.018773\n",
       "2014-01-06   -0.045918\n",
       "2014-01-07   -0.006684\n",
       "2014-01-08   -0.001346\n",
       "Name: ffnSimpleret, dtype: float64"
      ]
     },
     "execution_count": 11,
     "metadata": {},
     "output_type": "execute_result"
    }
   ],
   "source": [
    "# use python function to calculate returns\n",
    "import ffn\n",
    "ffnSimpleret=ffn.to_returns(close)\n",
    "ffnSimpleret.name='ffnSimpleret'\n",
    "ffnSimpleret.head()"
   ]
  },
  {
   "cell_type": "code",
   "execution_count": 14,
   "metadata": {},
   "outputs": [
    {
     "data": {
      "text/plain": [
       "0.56606148743496409"
      ]
     },
     "execution_count": 14,
     "metadata": {},
     "output_type": "execute_result"
    }
   ],
   "source": [
    "# annualized returns, assume 245 trading days\n",
    "annualize=(1+simpleret).cumprod()[-1]**(245/311)-1\n",
    "annualize\n",
    "# an number"
   ]
  },
  {
   "cell_type": "code",
   "execution_count": 15,
   "metadata": {},
   "outputs": [],
   "source": [
    "# or define your own function\n",
    "# def annualize(returns,period):\n",
    "#    if period=='day':\n",
    "#        return((1+returns).cumprod()[-1]**(245/len(returns))-1)\n",
    "#    elif ..."
   ]
  },
  {
   "cell_type": "code",
   "execution_count": 17,
   "metadata": {},
   "outputs": [
    {
     "data": {
      "text/plain": [
       "Date\n",
       "2014-01-02         NaN\n",
       "2014-01-03   -0.018952\n",
       "2014-01-06   -0.047006\n",
       "2014-01-07   -0.006707\n",
       "2014-01-08   -0.001347\n",
       "Name: comporet, dtype: float64"
      ]
     },
     "execution_count": 17,
     "metadata": {},
     "output_type": "execute_result"
    }
   ],
   "source": [
    "# take dividends into consideration\n",
    "# continuous composited dividend\n",
    "import numpy as np\n",
    "comporet=np.log(close/lagclose)\n",
    "comporet.name='comporet'\n",
    "comporet.head()"
   ]
  },
  {
   "cell_type": "code",
   "execution_count": 18,
   "metadata": {},
   "outputs": [
    {
     "data": {
      "text/plain": [
       "0.0053763570363804958"
      ]
     },
     "execution_count": 18,
     "metadata": {},
     "output_type": "execute_result"
    }
   ],
   "source": [
    "comporet[5]"
   ]
  },
  {
   "cell_type": "code",
   "execution_count": 19,
   "metadata": {},
   "outputs": [
    {
     "data": {
      "text/plain": [
       "Date\n",
       "2014-01-02         NaN\n",
       "2014-01-03   -0.018952\n",
       "2014-01-06   -0.047006\n",
       "2014-01-07   -0.006707\n",
       "2014-01-08   -0.001347\n",
       "Name: Clsprc, dtype: float64"
      ]
     },
     "execution_count": 19,
     "metadata": {},
     "output_type": "execute_result"
    }
   ],
   "source": [
    "ffnComporet=ffn.to_log_returns(close)\n",
    "ffnComporet.head()"
   ]
  },
  {
   "cell_type": "code",
   "execution_count": 21,
   "metadata": {},
   "outputs": [
    {
     "data": {
      "text/plain": [
       "Date\n",
       "2014-01-02         NaN\n",
       "2014-01-03         NaN\n",
       "2014-01-06   -0.065958\n",
       "2014-01-07   -0.053713\n",
       "2014-01-08   -0.008054\n",
       "Name: comporet2, dtype: float64"
      ]
     },
     "execution_count": 21,
     "metadata": {},
     "output_type": "execute_result"
    }
   ],
   "source": [
    "# multi period case\n",
    "comporet2=np.log(close/close.shift(2))\n",
    "comporet2.name='comporet2'\n",
    "comporet2.head()"
   ]
  },
  {
   "cell_type": "code",
   "execution_count": 22,
   "metadata": {},
   "outputs": [
    {
     "data": {
      "text/plain": [
       "0.0040295554860016423"
      ]
     },
     "execution_count": 22,
     "metadata": {},
     "output_type": "execute_result"
    }
   ],
   "source": [
    "comporet2[5]"
   ]
  },
  {
   "cell_type": "code",
   "execution_count": 23,
   "metadata": {},
   "outputs": [
    {
     "data": {
      "text/plain": [
       "Date\n",
       "2014-01-03   -0.018952\n",
       "2014-01-06   -0.047006\n",
       "2014-01-07   -0.006707\n",
       "2014-01-08   -0.001347\n",
       "2014-01-09    0.005376\n",
       "Name: comporet, dtype: float64"
      ]
     },
     "execution_count": 23,
     "metadata": {},
     "output_type": "execute_result"
    }
   ],
   "source": [
    "# relations \n",
    "comporet=comporet.dropna()\n",
    "comporet.head()"
   ]
  },
  {
   "cell_type": "code",
   "execution_count": 25,
   "metadata": {},
   "outputs": [
    {
     "data": {
      "text/plain": [
       "Date\n",
       "2014-01-03         NaN\n",
       "2014-01-06   -0.065958\n",
       "2014-01-07   -0.053713\n",
       "2014-01-08   -0.008054\n",
       "2014-01-09    0.004030\n",
       "Name: comporet, dtype: float64"
      ]
     },
     "execution_count": 25,
     "metadata": {},
     "output_type": "execute_result"
    }
   ],
   "source": [
    "sumcomporet=comporet+comporet.shift(1)\n",
    "sumcomporet.head()"
   ]
  },
  {
   "cell_type": "code",
   "execution_count": 26,
   "metadata": {},
   "outputs": [
    {
     "data": {
      "text/plain": [
       "<matplotlib.axes._subplots.AxesSubplot at 0x10de537f0>"
      ]
     },
     "execution_count": 26,
     "metadata": {},
     "output_type": "execute_result"
    },
    {
     "data": {
      "image/png": "[encoded data removed]",
      "text/plain": [
       "<Figure size 432x288 with 1 Axes>"
      ]
     },
     "metadata": {},
     "output_type": "display_data"
    }
   ],
   "source": [
    "# plot \n",
    "simpleret.plot()"
   ]
  },
  {
   "cell_type": "code",
   "execution_count": 27,
   "metadata": {},
   "outputs": [
    {
     "data": {
      "text/plain": [
       "<matplotlib.axes._subplots.AxesSubplot at 0x10f54ab70>"
      ]
     },
     "execution_count": 27,
     "metadata": {},
     "output_type": "execute_result"
    },
    {
     "data": {
      "image/png": "[encoded data removed]",
      "text/plain": [
       "<Figure size 432x288 with 1 Axes>"
      ]
     },
     "metadata": {},
     "output_type": "display_data"
    }
   ],
   "source": [
    "# acuumulation case\n",
    "((1+simpleret).cumprod()-1).plot()"
   ]
  },
  {
   "cell_type": "code",
   "execution_count": 30,
   "metadata": {},
   "outputs": [
    {
     "data": {
      "text/plain": [
       "[0.041511404614033375, 0.020319411733180383]"
      ]
     },
     "execution_count": 30,
     "metadata": {},
     "output_type": "execute_result"
    }
   ],
   "source": [
    "# risks\n",
    "SAPower=pd.read_csv('SAPower.csv',index_col='Date')\n",
    "SAPower.index=pd.to_datetime(SAPower.index)\n",
    "DalianRP=pd.read_csv('DalianRP.csv',index_col='Date')\n",
    "DalianRP.index=pd.to_datetime(DalianRP.index)\n",
    "returnS=ffn.to_returns(SAPower.Close).dropna()\n",
    "returnD=ffn.to_returns(DalianRP.Close).dropna()\n",
    "# make comparison\n",
    "[returnS.std(),returnD.std()]"
   ]
  },
  {
   "cell_type": "code",
   "execution_count": 31,
   "metadata": {},
   "outputs": [
    {
     "data": {
      "text/plain": [
       "[0.03559345345188915, 0.013699709683876092]"
      ]
     },
     "execution_count": 31,
     "metadata": {},
     "output_type": "execute_result"
    }
   ],
   "source": [
    "# downside risk\n",
    "def cal_half_dev(returns):\n",
    "    mu=returns.mean()\n",
    "    temp=returns[returns<mu]\n",
    "    half_deviation=(sum((mu-temp)**2)/len(returns))**0.5\n",
    "    return(half_deviation)\n",
    "[cal_half_dev(returnS),cal_half_dev(returnD)]"
   ]
  },
  {
   "cell_type": "code",
   "execution_count": 32,
   "metadata": {},
   "outputs": [
    {
     "data": {
      "text/plain": [
       "[-0.043192456894806296, -0.03408596308105866]"
      ]
     },
     "execution_count": 32,
     "metadata": {},
     "output_type": "execute_result"
    }
   ],
   "source": [
    "# VaR\n",
    "# hitorical simulation method\n",
    "[returnS.quantile(0.05),returnD.quantile(0.05)]"
   ]
  },
  {
   "cell_type": "code",
   "execution_count": 33,
   "metadata": {},
   "outputs": [
    {
     "data": {
      "text/plain": [
       "[-0.066210862160221484, -0.03274944602236822]"
      ]
     },
     "execution_count": 33,
     "metadata": {},
     "output_type": "execute_result"
    }
   ],
   "source": [
    "# cov matrix method\n",
    "from scipy.stats import norm\n",
    "[norm.ppf(0.05,returnS.mean(),returnS.std()),norm.ppf(0.05,returnD.mean(),returnD.std())]"
   ]
  },
  {
   "cell_type": "code",
   "execution_count": 36,
   "metadata": {},
   "outputs": [
    {
     "data": {
      "text/plain": [
       "[-0.09673316088802106, -0.045367282385701486]"
      ]
     },
     "execution_count": 36,
     "metadata": {},
     "output_type": "execute_result"
    }
   ],
   "source": [
    "# expected shortfall (ES)\n",
    "[returnS[returnS<=returnS.quantile(0.05)].mean(),returnD[returnD<=returnD.quantile(0.05)].mean()]"
   ]
  },
  {
   "cell_type": "code",
   "execution_count": 40,
   "metadata": {},
   "outputs": [
    {
     "data": {
      "text/plain": [
       "2015-07-03    0.00\n",
       "2015-07-04    0.10\n",
       "2015-07-05   -0.10\n",
       "2015-07-06   -0.01\n",
       "2015-07-07    0.01\n",
       "2015-07-08    0.02\n",
       "dtype: float64"
      ]
     },
     "execution_count": 40,
     "metadata": {},
     "output_type": "execute_result"
    }
   ],
   "source": [
    "# Maximum Drawdown, MDD\n",
    "# D(T)=max{0, (max_{t\\in(0,T)}P_t)-P_T}\n",
    "# d(T)=D(T)/(max_{t\\in(0,T)}P_t)\n",
    "import datetime\n",
    "r=pd.Series([0,0.1,-0.1,-0.01,0.01,0.02],index=[datetime.date(2015,7,x) for x in range(3,9)])\n",
    "r"
   ]
  },
  {
   "cell_type": "code",
   "execution_count": 41,
   "metadata": {},
   "outputs": [
    {
     "data": {
      "text/plain": [
       "2015-07-03    1.000000\n",
       "2015-07-04    1.100000\n",
       "2015-07-05    0.990000\n",
       "2015-07-06    0.980100\n",
       "2015-07-07    0.989901\n",
       "2015-07-08    1.009699\n",
       "dtype: float64"
      ]
     },
     "execution_count": 41,
     "metadata": {},
     "output_type": "execute_result"
    }
   ],
   "source": [
    "value=(1+r).cumprod()\n",
    "value"
   ]
  },
  {
   "cell_type": "code",
   "execution_count": 43,
   "metadata": {},
   "outputs": [
    {
     "data": {
      "text/plain": [
       "2015-07-03    0.000000\n",
       "2015-07-04    0.000000\n",
       "2015-07-05    0.110000\n",
       "2015-07-06    0.119900\n",
       "2015-07-07    0.110099\n",
       "2015-07-08    0.090301\n",
       "dtype: float64"
      ]
     },
     "execution_count": 43,
     "metadata": {},
     "output_type": "execute_result"
    }
   ],
   "source": [
    "D=value.cummax()-value\n",
    "D"
   ]
  },
  {
   "cell_type": "code",
   "execution_count": 44,
   "metadata": {},
   "outputs": [
    {
     "data": {
      "text/plain": [
       "2015-07-03    0.000000\n",
       "2015-07-04    0.000000\n",
       "2015-07-05    0.100000\n",
       "2015-07-06    0.109000\n",
       "2015-07-07    0.100090\n",
       "2015-07-08    0.082092\n",
       "dtype: float64"
      ]
     },
     "execution_count": 44,
     "metadata": {},
     "output_type": "execute_result"
    }
   ],
   "source": [
    "d=D/(D+value)\n",
    "d"
   ]
  },
  {
   "cell_type": "code",
   "execution_count": 45,
   "metadata": {},
   "outputs": [
    {
     "data": {
      "text/plain": [
       "0.11990000000000001"
      ]
     },
     "execution_count": 45,
     "metadata": {},
     "output_type": "execute_result"
    }
   ],
   "source": [
    "MDD=D.max()\n",
    "MDD"
   ]
  },
  {
   "cell_type": "code",
   "execution_count": 46,
   "metadata": {},
   "outputs": [
    {
     "data": {
      "text/plain": [
       "0.109"
      ]
     },
     "execution_count": 46,
     "metadata": {},
     "output_type": "execute_result"
    }
   ],
   "source": [
    "mdd=d.max()\n",
    "mdd"
   ]
  },
  {
   "cell_type": "code",
   "execution_count": 47,
   "metadata": {},
   "outputs": [
    {
     "data": {
      "text/plain": [
       "-0.10899999999999999"
      ]
     },
     "execution_count": 47,
     "metadata": {},
     "output_type": "execute_result"
    }
   ],
   "source": [
    "# use ffn package\n",
    "ffn.calc_max_drawdown(value)"
   ]
  },
  {
   "cell_type": "code",
   "execution_count": 48,
   "metadata": {},
   "outputs": [
    {
     "data": {
      "text/plain": [
       "[-0.56763925729442977, -0.24797570850202422]"
      ]
     },
     "execution_count": 48,
     "metadata": {},
     "output_type": "execute_result"
    }
   ],
   "source": [
    "# examples\n",
    "[ffn.calc_max_drawdown((1+returnS).cumprod()),ffn.calc_max_drawdown((1+returnD).cumprod())]"
   ]
  },
  {
   "cell_type": "code",
   "execution_count": null,
   "metadata": {},
   "outputs": [],
   "source": []
  }
 ],
 "metadata": {
  "kernelspec": {
   "display_name": "Python 3",
   "language": "python",
   "name": "python3"
  },
  "language_info": {
   "codemirror_mode": {
    "name": "ipython",
    "version": 3
   },
   "file_extension": ".py",
   "mimetype": "text/x-python",
   "name": "python",
   "nbconvert_exporter": "python",
   "pygments_lexer": "ipython3",
   "version": "3.6.5"
  }
 },
 "nbformat": 4,
 "nbformat_minor": 2
}
